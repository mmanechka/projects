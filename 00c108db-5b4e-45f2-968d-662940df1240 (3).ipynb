{
 "cells": [
  {
   "cell_type": "markdown",
   "metadata": {},
   "source": [
    "<div style=\"border:solid Purple 2px; padding: 40px\">\n",
    "\n",
    "<b>Привет, Кирилл!👋\n",
    "\n",
    "Меня зовут Эльвира Нургалиева, я буду ревьюером твоего проекта. Предлагаю общаться на «ты», но если это не удобно - дай мне знать, и мы перейдем на «вы».\n",
    "\n",
    "\n",
    "Ты можешь найти мои комментарии, обозначенные <font color='green'>зеленым</font>, <font color='gold'>желтым</font> и <font color='red'>красным</font> цветами, например:\n",
    "\n",
    "\n",
    "<div class=\"alert alert-success\">\n",
    "<h2> Комментарий ревьюера 😊<a class=\"tocSkip\"> </h2>\n",
    "    \n",
    "Такими комментариями я буду помечать отлично проделаную работу😉\n",
    "</div>\n",
    "    \n",
    "<div class=\"alert alert-warning\">\n",
    "<h2> Комментарий ревьюера 🤓<a class=\"tocSkip\"> </h2>\n",
    "        \n",
    "В таких комментариях я постараюсь подсказать тебе более элегантное или легкое решение, некоторые хитрости и фишки. Части проекта, помеченные такими комментариями, можно не исправлять, но рекомендую обратить на них внимание.</div>\n",
    "\n",
    "<div class=\"alert alert-block alert-danger\">\n",
    "<h2> Комментарий ревьюера 🤔<a class=\"tocSkip\"></h2>\n",
    "    \n",
    "В случае, когда решение на отдельном шаге требует существенной переработки и внесения правок. Если ты видишь такой комментарий, значит здесть есть недочет, который следует исправить.\n",
    "</div>\n",
    "\n",
    "Ты также можешь реагировать на мои комментарии своими, выделяя их цветами и наиболее понравившимся тебе способом оформления, но явно  отличающимся от моих комментариев. Это нужно, чтобы не создавалась путаница🙃\n",
    "    \n",
    "<div class=\"alert alert-info\"> <b>Комментарий студента:</b> Например, вот так.</div>\n",
    "\n",
    "Чтобы сделать подобный блок, кликни здесь дважды и скопируй всю предыдущую строку ;)\n",
    "    \n",
    "Пожалуйста, не удаляй и не перемещай мои комментарии, они будут особенно полезны для нашей работы в случае повторной проверки проекта.</div></b>"
   ]
  },
  {
   "cell_type": "markdown",
   "metadata": {},
   "source": [
    "Задача\n",
    "\n",
    "Примените фреймворк ICE для приоритизации гипотез. Отсортируйте их по убыванию приоритета.\n",
    "\n",
    "Примените фреймворк RICE для приоритизации гипотез. Отсортируйте их по убыванию приоритета.\n",
    "\n",
    "Укажите, как изменилась приоритизация гипотез при применении RICE вместо ICE. Объясните, почему так произошло."
   ]
  },
  {
   "cell_type": "markdown",
   "metadata": {},
   "source": [
    "<div class=\"alert alert-info\"> <b>\n",
    "    \n",
    "**Принятие решений в бизнесе**\n",
    "_____\n",
    "**Описание исследования.**\n",
    "    \n",
    "В данной работе будут расчитаны различные метрики и показатели, которые необходимы для принятия дальнейших решений отностительно проводимого А/Б теста: завершение теста с выводом о различиях в группах или продолжение теста для получения дполнительной статистики. В частности будут построены графики различнх показателей и проведены статистические тесты. \n",
    "_____\n",
    "**Цель исследования.**\n",
    "    \n",
    "Целью исследования является сравнение групп А/Б теста\n",
    "    \n",
    "_____\n",
    "**Задачи исследования. Первая часть**\n",
    "\n",
    "* Применить фреймворк ICE для приоритизации гипотез. Отсортируйть их по убыванию приоритета.\n",
    "* Применить фреймворк RICE для приоритизации гипотез. Отсортируйть их по убыванию приоритета.\n",
    "* Указать, как изменилась приоритизация гипотез при применении RICE вместо ICE.\n",
    "* Сделать выводы\n",
    "\n",
    "**Задачи исследования. Вторая часть**\n",
    "\n",
    "* Пострить график кумулятивной выручки по группам. \n",
    "* Пострить график кумулятивного среднего чека по группам. \n",
    "* Пострить график относительного изменения кумулятивного среднего чека группы B к группе A. \n",
    "* Пострить график кумулятивного среднего количества заказов на посетителя по группам. \n",
    "* Пострить график относительного изменения кумулятивного среднего количества заказов на посетителя группы B к группе A. \n",
    "* Пострить точечный график количества заказов по пользователям. \n",
    "* Посчитать 95-й и 99-й перцентили количества заказов на пользователя. Выберите границу для определения аномальных пользователей.\n",
    "* Пострить точечный график стоимостей заказов. \n",
    "* Посчитать 95-й и 99-й перцентили стоимости заказов. Выберите границу для определения аномальных заказов.\n",
    "* Посчитать статистическую значимость различий в среднем количестве заказов на посетителя между группами по «сырым» данным. \n",
    "* Посчитатье статистическую значимость различий в среднем чеке заказа между группами по «сырым» данным.\n",
    "* Посчитать статистическую значимость различий в среднем количестве заказов на посетителя между группами по «очищенным» данным.\n",
    "* Посчитать статистическую значимость различий в среднем чеке заказа между группами по «очищенным» данным.\n",
    "* Принять решение по результатам теста и объяснить его. Варианты решений:\n",
    "1. Остановить тест, зафиксировать победу одной из групп.\n",
    "2. Остановить тест, зафиксировать отсутствие различий между группами.\n",
    "3. Продолжить тест."
   ]
  },
  {
   "cell_type": "markdown",
   "metadata": {},
   "source": [
    "<div class=\"alert alert-block alert-danger\">\n",
    "<h2> Комментарий ревьюера 🤔<a class=\"tocSkip\"></h2>\n",
    "<s>\n",
    "Указаны задачи только одной части. Будет хорошо добавить название проекта, небольшое описание и указать задачи всего проекта."
   ]
  },
  {
   "cell_type": "markdown",
   "metadata": {},
   "source": [
    "<div class=\"alert alert-success\">\n",
    "<h2> Комментарий ревьюера 😊 v_2 <a class=\"tocSkip\"> </h2>\n",
    "\n",
    "👍"
   ]
  },
  {
   "cell_type": "code",
   "execution_count": 1,
   "metadata": {},
   "outputs": [],
   "source": [
    "import pandas as pd\n",
    "import scipy.stats as stats\n",
    "import datetime as dt\n",
    "import numpy as np\n",
    "import matplotlib.pyplot as plt"
   ]
  },
  {
   "cell_type": "markdown",
   "metadata": {},
   "source": [
    "<div class=\"alert alert-success\">\n",
    "<h2> Комментарий ревьюера 😊<a class=\"tocSkip\"> </h2>\n",
    "\n",
    "Молодец, что загружаешь все библиотеки в начале проекта. Так сложней случайно удалить ячейку с загрузкой нужной библиотеки и сделать код не работающим. А получатель отчета сразу поймет, какие библиотеки ты используешь и какие ему нужно установить для запуска проекта.\n",
    "\n",
    "</div>"
   ]
  },
  {
   "cell_type": "code",
   "execution_count": 2,
   "metadata": {},
   "outputs": [
    {
     "ename": "FileNotFoundError",
     "evalue": "[Errno 2] No such file or directory: '/datasets/hypothesis.csv'",
     "output_type": "error",
     "traceback": [
      "\u001b[0;31m---------------------------------------------------------------------------\u001b[0m",
      "\u001b[0;31mFileNotFoundError\u001b[0m                         Traceback (most recent call last)",
      "Cell \u001b[0;32mIn [2], line 1\u001b[0m\n\u001b[0;32m----> 1\u001b[0m data \u001b[38;5;241m=\u001b[39m \u001b[43mpd\u001b[49m\u001b[38;5;241;43m.\u001b[39;49m\u001b[43mread_csv\u001b[49m\u001b[43m(\u001b[49m\u001b[38;5;124;43m'\u001b[39;49m\u001b[38;5;124;43m/datasets/hypothesis.csv\u001b[39;49m\u001b[38;5;124;43m'\u001b[39;49m\u001b[43m)\u001b[49m\n",
      "File \u001b[0;32m~/opt/anaconda3/envs/da_practicum_env/lib/python3.9/site-packages/pandas/io/parsers.py:610\u001b[0m, in \u001b[0;36mread_csv\u001b[0;34m(filepath_or_buffer, sep, delimiter, header, names, index_col, usecols, squeeze, prefix, mangle_dupe_cols, dtype, engine, converters, true_values, false_values, skipinitialspace, skiprows, skipfooter, nrows, na_values, keep_default_na, na_filter, verbose, skip_blank_lines, parse_dates, infer_datetime_format, keep_date_col, date_parser, dayfirst, cache_dates, iterator, chunksize, compression, thousands, decimal, lineterminator, quotechar, quoting, doublequote, escapechar, comment, encoding, dialect, error_bad_lines, warn_bad_lines, delim_whitespace, low_memory, memory_map, float_precision, storage_options)\u001b[0m\n\u001b[1;32m    605\u001b[0m kwds_defaults \u001b[38;5;241m=\u001b[39m _refine_defaults_read(\n\u001b[1;32m    606\u001b[0m     dialect, delimiter, delim_whitespace, engine, sep, defaults\u001b[38;5;241m=\u001b[39m{\u001b[38;5;124m\"\u001b[39m\u001b[38;5;124mdelimiter\u001b[39m\u001b[38;5;124m\"\u001b[39m: \u001b[38;5;124m\"\u001b[39m\u001b[38;5;124m,\u001b[39m\u001b[38;5;124m\"\u001b[39m}\n\u001b[1;32m    607\u001b[0m )\n\u001b[1;32m    608\u001b[0m kwds\u001b[38;5;241m.\u001b[39mupdate(kwds_defaults)\n\u001b[0;32m--> 610\u001b[0m \u001b[38;5;28;01mreturn\u001b[39;00m \u001b[43m_read\u001b[49m\u001b[43m(\u001b[49m\u001b[43mfilepath_or_buffer\u001b[49m\u001b[43m,\u001b[49m\u001b[43m \u001b[49m\u001b[43mkwds\u001b[49m\u001b[43m)\u001b[49m\n",
      "File \u001b[0;32m~/opt/anaconda3/envs/da_practicum_env/lib/python3.9/site-packages/pandas/io/parsers.py:462\u001b[0m, in \u001b[0;36m_read\u001b[0;34m(filepath_or_buffer, kwds)\u001b[0m\n\u001b[1;32m    459\u001b[0m _validate_names(kwds\u001b[38;5;241m.\u001b[39mget(\u001b[38;5;124m\"\u001b[39m\u001b[38;5;124mnames\u001b[39m\u001b[38;5;124m\"\u001b[39m, \u001b[38;5;28;01mNone\u001b[39;00m))\n\u001b[1;32m    461\u001b[0m \u001b[38;5;66;03m# Create the parser.\u001b[39;00m\n\u001b[0;32m--> 462\u001b[0m parser \u001b[38;5;241m=\u001b[39m \u001b[43mTextFileReader\u001b[49m\u001b[43m(\u001b[49m\u001b[43mfilepath_or_buffer\u001b[49m\u001b[43m,\u001b[49m\u001b[43m \u001b[49m\u001b[38;5;241;43m*\u001b[39;49m\u001b[38;5;241;43m*\u001b[39;49m\u001b[43mkwds\u001b[49m\u001b[43m)\u001b[49m\n\u001b[1;32m    464\u001b[0m \u001b[38;5;28;01mif\u001b[39;00m chunksize \u001b[38;5;129;01mor\u001b[39;00m iterator:\n\u001b[1;32m    465\u001b[0m     \u001b[38;5;28;01mreturn\u001b[39;00m parser\n",
      "File \u001b[0;32m~/opt/anaconda3/envs/da_practicum_env/lib/python3.9/site-packages/pandas/io/parsers.py:819\u001b[0m, in \u001b[0;36mTextFileReader.__init__\u001b[0;34m(self, f, engine, **kwds)\u001b[0m\n\u001b[1;32m    816\u001b[0m \u001b[38;5;28;01mif\u001b[39;00m \u001b[38;5;124m\"\u001b[39m\u001b[38;5;124mhas_index_names\u001b[39m\u001b[38;5;124m\"\u001b[39m \u001b[38;5;129;01min\u001b[39;00m kwds:\n\u001b[1;32m    817\u001b[0m     \u001b[38;5;28mself\u001b[39m\u001b[38;5;241m.\u001b[39moptions[\u001b[38;5;124m\"\u001b[39m\u001b[38;5;124mhas_index_names\u001b[39m\u001b[38;5;124m\"\u001b[39m] \u001b[38;5;241m=\u001b[39m kwds[\u001b[38;5;124m\"\u001b[39m\u001b[38;5;124mhas_index_names\u001b[39m\u001b[38;5;124m\"\u001b[39m]\n\u001b[0;32m--> 819\u001b[0m \u001b[38;5;28mself\u001b[39m\u001b[38;5;241m.\u001b[39m_engine \u001b[38;5;241m=\u001b[39m \u001b[38;5;28;43mself\u001b[39;49m\u001b[38;5;241;43m.\u001b[39;49m\u001b[43m_make_engine\u001b[49m\u001b[43m(\u001b[49m\u001b[38;5;28;43mself\u001b[39;49m\u001b[38;5;241;43m.\u001b[39;49m\u001b[43mengine\u001b[49m\u001b[43m)\u001b[49m\n",
      "File \u001b[0;32m~/opt/anaconda3/envs/da_practicum_env/lib/python3.9/site-packages/pandas/io/parsers.py:1050\u001b[0m, in \u001b[0;36mTextFileReader._make_engine\u001b[0;34m(self, engine)\u001b[0m\n\u001b[1;32m   1046\u001b[0m     \u001b[38;5;28;01mraise\u001b[39;00m \u001b[38;5;167;01mValueError\u001b[39;00m(\n\u001b[1;32m   1047\u001b[0m         \u001b[38;5;124mf\u001b[39m\u001b[38;5;124m\"\u001b[39m\u001b[38;5;124mUnknown engine: \u001b[39m\u001b[38;5;132;01m{\u001b[39;00mengine\u001b[38;5;132;01m}\u001b[39;00m\u001b[38;5;124m (valid options are \u001b[39m\u001b[38;5;132;01m{\u001b[39;00mmapping\u001b[38;5;241m.\u001b[39mkeys()\u001b[38;5;132;01m}\u001b[39;00m\u001b[38;5;124m)\u001b[39m\u001b[38;5;124m\"\u001b[39m\n\u001b[1;32m   1048\u001b[0m     )\n\u001b[1;32m   1049\u001b[0m \u001b[38;5;66;03m# error: Too many arguments for \"ParserBase\"\u001b[39;00m\n\u001b[0;32m-> 1050\u001b[0m \u001b[38;5;28;01mreturn\u001b[39;00m \u001b[43mmapping\u001b[49m\u001b[43m[\u001b[49m\u001b[43mengine\u001b[49m\u001b[43m]\u001b[49m\u001b[43m(\u001b[49m\u001b[38;5;28;43mself\u001b[39;49m\u001b[38;5;241;43m.\u001b[39;49m\u001b[43mf\u001b[49m\u001b[43m,\u001b[49m\u001b[43m \u001b[49m\u001b[38;5;241;43m*\u001b[39;49m\u001b[38;5;241;43m*\u001b[39;49m\u001b[38;5;28;43mself\u001b[39;49m\u001b[38;5;241;43m.\u001b[39;49m\u001b[43moptions\u001b[49m\u001b[43m)\u001b[49m\n",
      "File \u001b[0;32m~/opt/anaconda3/envs/da_practicum_env/lib/python3.9/site-packages/pandas/io/parsers.py:1867\u001b[0m, in \u001b[0;36mCParserWrapper.__init__\u001b[0;34m(self, src, **kwds)\u001b[0m\n\u001b[1;32m   1864\u001b[0m kwds[\u001b[38;5;124m\"\u001b[39m\u001b[38;5;124musecols\u001b[39m\u001b[38;5;124m\"\u001b[39m] \u001b[38;5;241m=\u001b[39m \u001b[38;5;28mself\u001b[39m\u001b[38;5;241m.\u001b[39musecols\n\u001b[1;32m   1866\u001b[0m \u001b[38;5;66;03m# open handles\u001b[39;00m\n\u001b[0;32m-> 1867\u001b[0m \u001b[38;5;28;43mself\u001b[39;49m\u001b[38;5;241;43m.\u001b[39;49m\u001b[43m_open_handles\u001b[49m\u001b[43m(\u001b[49m\u001b[43msrc\u001b[49m\u001b[43m,\u001b[49m\u001b[43m \u001b[49m\u001b[43mkwds\u001b[49m\u001b[43m)\u001b[49m\n\u001b[1;32m   1868\u001b[0m \u001b[38;5;28;01massert\u001b[39;00m \u001b[38;5;28mself\u001b[39m\u001b[38;5;241m.\u001b[39mhandles \u001b[38;5;129;01mis\u001b[39;00m \u001b[38;5;129;01mnot\u001b[39;00m \u001b[38;5;28;01mNone\u001b[39;00m\n\u001b[1;32m   1869\u001b[0m \u001b[38;5;28;01mfor\u001b[39;00m key \u001b[38;5;129;01min\u001b[39;00m (\u001b[38;5;124m\"\u001b[39m\u001b[38;5;124mstorage_options\u001b[39m\u001b[38;5;124m\"\u001b[39m, \u001b[38;5;124m\"\u001b[39m\u001b[38;5;124mencoding\u001b[39m\u001b[38;5;124m\"\u001b[39m, \u001b[38;5;124m\"\u001b[39m\u001b[38;5;124mmemory_map\u001b[39m\u001b[38;5;124m\"\u001b[39m, \u001b[38;5;124m\"\u001b[39m\u001b[38;5;124mcompression\u001b[39m\u001b[38;5;124m\"\u001b[39m):\n",
      "File \u001b[0;32m~/opt/anaconda3/envs/da_practicum_env/lib/python3.9/site-packages/pandas/io/parsers.py:1362\u001b[0m, in \u001b[0;36mParserBase._open_handles\u001b[0;34m(self, src, kwds)\u001b[0m\n\u001b[1;32m   1358\u001b[0m \u001b[38;5;28;01mdef\u001b[39;00m \u001b[38;5;21m_open_handles\u001b[39m(\u001b[38;5;28mself\u001b[39m, src: FilePathOrBuffer, kwds: Dict[\u001b[38;5;28mstr\u001b[39m, Any]) \u001b[38;5;241m-\u001b[39m\u001b[38;5;241m>\u001b[39m \u001b[38;5;28;01mNone\u001b[39;00m:\n\u001b[1;32m   1359\u001b[0m     \u001b[38;5;124;03m\"\"\"\u001b[39;00m\n\u001b[1;32m   1360\u001b[0m \u001b[38;5;124;03m    Let the readers open IOHanldes after they are done with their potential raises.\u001b[39;00m\n\u001b[1;32m   1361\u001b[0m \u001b[38;5;124;03m    \"\"\"\u001b[39;00m\n\u001b[0;32m-> 1362\u001b[0m     \u001b[38;5;28mself\u001b[39m\u001b[38;5;241m.\u001b[39mhandles \u001b[38;5;241m=\u001b[39m \u001b[43mget_handle\u001b[49m\u001b[43m(\u001b[49m\n\u001b[1;32m   1363\u001b[0m \u001b[43m        \u001b[49m\u001b[43msrc\u001b[49m\u001b[43m,\u001b[49m\n\u001b[1;32m   1364\u001b[0m \u001b[43m        \u001b[49m\u001b[38;5;124;43m\"\u001b[39;49m\u001b[38;5;124;43mr\u001b[39;49m\u001b[38;5;124;43m\"\u001b[39;49m\u001b[43m,\u001b[49m\n\u001b[1;32m   1365\u001b[0m \u001b[43m        \u001b[49m\u001b[43mencoding\u001b[49m\u001b[38;5;241;43m=\u001b[39;49m\u001b[43mkwds\u001b[49m\u001b[38;5;241;43m.\u001b[39;49m\u001b[43mget\u001b[49m\u001b[43m(\u001b[49m\u001b[38;5;124;43m\"\u001b[39;49m\u001b[38;5;124;43mencoding\u001b[39;49m\u001b[38;5;124;43m\"\u001b[39;49m\u001b[43m,\u001b[49m\u001b[43m \u001b[49m\u001b[38;5;28;43;01mNone\u001b[39;49;00m\u001b[43m)\u001b[49m\u001b[43m,\u001b[49m\n\u001b[1;32m   1366\u001b[0m \u001b[43m        \u001b[49m\u001b[43mcompression\u001b[49m\u001b[38;5;241;43m=\u001b[39;49m\u001b[43mkwds\u001b[49m\u001b[38;5;241;43m.\u001b[39;49m\u001b[43mget\u001b[49m\u001b[43m(\u001b[49m\u001b[38;5;124;43m\"\u001b[39;49m\u001b[38;5;124;43mcompression\u001b[39;49m\u001b[38;5;124;43m\"\u001b[39;49m\u001b[43m,\u001b[49m\u001b[43m \u001b[49m\u001b[38;5;28;43;01mNone\u001b[39;49;00m\u001b[43m)\u001b[49m\u001b[43m,\u001b[49m\n\u001b[1;32m   1367\u001b[0m \u001b[43m        \u001b[49m\u001b[43mmemory_map\u001b[49m\u001b[38;5;241;43m=\u001b[39;49m\u001b[43mkwds\u001b[49m\u001b[38;5;241;43m.\u001b[39;49m\u001b[43mget\u001b[49m\u001b[43m(\u001b[49m\u001b[38;5;124;43m\"\u001b[39;49m\u001b[38;5;124;43mmemory_map\u001b[39;49m\u001b[38;5;124;43m\"\u001b[39;49m\u001b[43m,\u001b[49m\u001b[43m \u001b[49m\u001b[38;5;28;43;01mFalse\u001b[39;49;00m\u001b[43m)\u001b[49m\u001b[43m,\u001b[49m\n\u001b[1;32m   1368\u001b[0m \u001b[43m        \u001b[49m\u001b[43mstorage_options\u001b[49m\u001b[38;5;241;43m=\u001b[39;49m\u001b[43mkwds\u001b[49m\u001b[38;5;241;43m.\u001b[39;49m\u001b[43mget\u001b[49m\u001b[43m(\u001b[49m\u001b[38;5;124;43m\"\u001b[39;49m\u001b[38;5;124;43mstorage_options\u001b[39;49m\u001b[38;5;124;43m\"\u001b[39;49m\u001b[43m,\u001b[49m\u001b[43m \u001b[49m\u001b[38;5;28;43;01mNone\u001b[39;49;00m\u001b[43m)\u001b[49m\u001b[43m,\u001b[49m\n\u001b[1;32m   1369\u001b[0m \u001b[43m    \u001b[49m\u001b[43m)\u001b[49m\n",
      "File \u001b[0;32m~/opt/anaconda3/envs/da_practicum_env/lib/python3.9/site-packages/pandas/io/common.py:642\u001b[0m, in \u001b[0;36mget_handle\u001b[0;34m(path_or_buf, mode, encoding, compression, memory_map, is_text, errors, storage_options)\u001b[0m\n\u001b[1;32m    640\u001b[0m         errors \u001b[38;5;241m=\u001b[39m \u001b[38;5;124m\"\u001b[39m\u001b[38;5;124mreplace\u001b[39m\u001b[38;5;124m\"\u001b[39m\n\u001b[1;32m    641\u001b[0m     \u001b[38;5;66;03m# Encoding\u001b[39;00m\n\u001b[0;32m--> 642\u001b[0m     handle \u001b[38;5;241m=\u001b[39m \u001b[38;5;28;43mopen\u001b[39;49m\u001b[43m(\u001b[49m\n\u001b[1;32m    643\u001b[0m \u001b[43m        \u001b[49m\u001b[43mhandle\u001b[49m\u001b[43m,\u001b[49m\n\u001b[1;32m    644\u001b[0m \u001b[43m        \u001b[49m\u001b[43mioargs\u001b[49m\u001b[38;5;241;43m.\u001b[39;49m\u001b[43mmode\u001b[49m\u001b[43m,\u001b[49m\n\u001b[1;32m    645\u001b[0m \u001b[43m        \u001b[49m\u001b[43mencoding\u001b[49m\u001b[38;5;241;43m=\u001b[39;49m\u001b[43mioargs\u001b[49m\u001b[38;5;241;43m.\u001b[39;49m\u001b[43mencoding\u001b[49m\u001b[43m,\u001b[49m\n\u001b[1;32m    646\u001b[0m \u001b[43m        \u001b[49m\u001b[43merrors\u001b[49m\u001b[38;5;241;43m=\u001b[39;49m\u001b[43merrors\u001b[49m\u001b[43m,\u001b[49m\n\u001b[1;32m    647\u001b[0m \u001b[43m        \u001b[49m\u001b[43mnewline\u001b[49m\u001b[38;5;241;43m=\u001b[39;49m\u001b[38;5;124;43m\"\u001b[39;49m\u001b[38;5;124;43m\"\u001b[39;49m\u001b[43m,\u001b[49m\n\u001b[1;32m    648\u001b[0m \u001b[43m    \u001b[49m\u001b[43m)\u001b[49m\n\u001b[1;32m    649\u001b[0m \u001b[38;5;28;01melse\u001b[39;00m:\n\u001b[1;32m    650\u001b[0m     \u001b[38;5;66;03m# Binary mode\u001b[39;00m\n\u001b[1;32m    651\u001b[0m     handle \u001b[38;5;241m=\u001b[39m \u001b[38;5;28mopen\u001b[39m(handle, ioargs\u001b[38;5;241m.\u001b[39mmode)\n",
      "\u001b[0;31mFileNotFoundError\u001b[0m: [Errno 2] No such file or directory: '/datasets/hypothesis.csv'"
     ]
    }
   ],
   "source": [
    "data = pd.read_csv('/datasets/hypothesis.csv')"
   ]
  },
  {
   "cell_type": "code",
   "execution_count": null,
   "metadata": {},
   "outputs": [],
   "source": [
    "data"
   ]
  },
  {
   "cell_type": "markdown",
   "metadata": {},
   "source": [
    "<div class=\"alert alert-warning\">\n",
    "<h2> Комментарий ревьюера 🤓<a class=\"tocSkip\"> </h2>\n",
    "        \n",
    "Расширить вывод содержимого ячеек мы можем с помощью следующей настройки, так мы сможем увидеть полный текст гипотез:\n",
    "    \n",
    "```python\n",
    "pd.options.display.max_colwidth = 130\n",
    "```\n",
    "</div>"
   ]
  },
  {
   "cell_type": "markdown",
   "metadata": {},
   "source": [
    "<div class=\"alert alert-info\"> <b>\n",
    "    Спасибо"
   ]
  },
  {
   "cell_type": "code",
   "execution_count": null,
   "metadata": {},
   "outputs": [],
   "source": [
    "pd.options.display.max_colwidth = 130"
   ]
  },
  {
   "cell_type": "code",
   "execution_count": null,
   "metadata": {},
   "outputs": [],
   "source": [
    "data.columns = data.columns.str.lower()"
   ]
  },
  {
   "cell_type": "markdown",
   "metadata": {},
   "source": [
    "Приведем название столбцов к нижнему регистру"
   ]
  },
  {
   "cell_type": "code",
   "execution_count": null,
   "metadata": {},
   "outputs": [],
   "source": [
    "data['hypothesis'].values"
   ]
  },
  {
   "cell_type": "markdown",
   "metadata": {},
   "source": [
    "Вывел полностью название гипотез, для более удобства"
   ]
  },
  {
   "cell_type": "code",
   "execution_count": null,
   "metadata": {},
   "outputs": [],
   "source": [
    "data['ice'] = round((data['impact']*data['confidence'])/data['efforts'])"
   ]
  },
  {
   "cell_type": "code",
   "execution_count": null,
   "metadata": {},
   "outputs": [],
   "source": [
    "data.sort_values('ice', ascending=False)"
   ]
  },
  {
   "cell_type": "markdown",
   "metadata": {},
   "source": [
    "По методике приоритизации гипотез ICE можно выделить три наиболее важные:\n",
    "\n",
    "* Запустить акцию, дающую скидку на товар в день рождения\n",
    "* Добавить два новых канала привлечения трафика, что позволит привлекать на 30% больше пользователей\n",
    "* Добавить форму подписки на все основные страницы, чтобы собрать базу клиентов для email-рассылок"
   ]
  },
  {
   "cell_type": "code",
   "execution_count": null,
   "metadata": {},
   "outputs": [],
   "source": [
    "data['rice'] = (data['reach']*data['impact']*data['confidence'])/data['efforts']"
   ]
  },
  {
   "cell_type": "code",
   "execution_count": null,
   "metadata": {},
   "outputs": [],
   "source": [
    "data.sort_values('rice', ascending = False)"
   ]
  },
  {
   "cell_type": "markdown",
   "metadata": {},
   "source": [
    "По методике приоритизации гипотез RICE можно выделить три наиболее важные:\n",
    "* Добавить форму подписки на все основные страницы, чтобы собрать базу клиентов для email-рассылок\n",
    "* Добавить блоки рекомендаций товаров на сайт интернет магазина, чтобы повысить конверсию и средний чек заказа\n",
    "* Добавить два новых канала привлечения трафика, что позволит привлекать на 30% больше пользователей"
   ]
  },
  {
   "cell_type": "markdown",
   "metadata": {},
   "source": [
    "Как видно два метода приоритезации гипотез дают разные результаты. Две гипотезы попадают в лидирующую тройку и там и там, однако на разные места. Это связано с разными подходами к оцениванию. Так в методе ICE нет параметра, отвечающего за количество пользователей, которые будут затрагивать вносимые изменения. Так, скидка в день рождения характеризуется большой уверенностью в том, что она сработает и принесет дополнительную выручку, при не очень высоких затратах на реализацию, однако, она сможет коснуться всех пользователей только в течении года, соответсвенно тест должен быть достаточно длинным. В случае с добавлением формы подписки на основные страницы, данное введение затрагивает сразу всех пользователей и за счет этого параметра, при небольшом снижении уверенности и влияния изменения, данная гипотеза занимает первое место при ранжировании по методите RICE."
   ]
  },
  {
   "cell_type": "markdown",
   "metadata": {},
   "source": [
    "<div class=\"alert alert-success\">\n",
    "<h2> Комментарий ревьюера 😊<a class=\"tocSkip\"> </h2>\n",
    "    \n",
    "Приоритизация гипотез проведена успешна! Молодец, что выводишь таблицу дважды, каждый раз с сортировкой по одному из фреймоврков и округляешь значения, так различия в их работе будут максимально наглядными. Согласна с твоими выводами по поводу их различия.\n",
    "</div>  "
   ]
  },
  {
   "cell_type": "markdown",
   "metadata": {},
   "source": [
    "Проанализируйте A/B-тест:"
   ]
  },
  {
   "cell_type": "code",
   "execution_count": null,
   "metadata": {},
   "outputs": [],
   "source": [
    "orders = pd.read_csv('/datasets/orders.csv')\n",
    "orders.head()"
   ]
  },
  {
   "cell_type": "code",
   "execution_count": null,
   "metadata": {},
   "outputs": [],
   "source": [
    "orders.info()"
   ]
  },
  {
   "cell_type": "code",
   "execution_count": null,
   "metadata": {},
   "outputs": [],
   "source": [
    "orders['date'] = orders['date'].map(lambda x: dt.datetime.strptime(x, '%Y-%m-%d'))"
   ]
  },
  {
   "cell_type": "markdown",
   "metadata": {},
   "source": [
    "<div class=\"alert alert-info\"> <b>\n",
    "    Скореектировал дату"
   ]
  },
  {
   "cell_type": "code",
   "execution_count": null,
   "metadata": {},
   "outputs": [],
   "source": [
    "orders.duplicated().sum()"
   ]
  },
  {
   "cell_type": "markdown",
   "metadata": {},
   "source": [
    "Явных дубликатов в данных нет"
   ]
  },
  {
   "cell_type": "code",
   "execution_count": null,
   "metadata": {},
   "outputs": [],
   "source": [
    "orders.groupby('visitorId').agg({'group' : 'nunique'}).query('group>1').count()\n"
   ]
  },
  {
   "cell_type": "markdown",
   "metadata": {},
   "source": [
    "58 пользователей которые попали одновременно в обе группы, возможно это связано с технической ошибкой."
   ]
  },
  {
   "cell_type": "markdown",
   "metadata": {},
   "source": [
    "<div class=\"alert alert-success\">\n",
    "<h2> Комментарий ревьюера 😊<a class=\"tocSkip\"> </h2>\n",
    "    \n",
    "Молодец, что добавляешь проверку на пересечение по группам)"
   ]
  },
  {
   "cell_type": "code",
   "execution_count": null,
   "metadata": {},
   "outputs": [],
   "source": [
    "visitors = pd.read_csv('/datasets/visitors.csv')\n",
    "visitors.head()"
   ]
  },
  {
   "cell_type": "code",
   "execution_count": null,
   "metadata": {},
   "outputs": [],
   "source": [
    "visitors['date'] = visitors['date'].map(lambda x: dt.datetime.strptime(x, '%Y-%m-%d'))"
   ]
  },
  {
   "cell_type": "code",
   "execution_count": null,
   "metadata": {},
   "outputs": [],
   "source": [
    "visitors.info()"
   ]
  },
  {
   "cell_type": "markdown",
   "metadata": {},
   "source": [
    "<div class=\"alert alert-info\"> <b>\n",
    "    Скореектировал дату"
   ]
  },
  {
   "cell_type": "code",
   "execution_count": null,
   "metadata": {},
   "outputs": [],
   "source": [
    "visitors.duplicated().sum()"
   ]
  },
  {
   "cell_type": "markdown",
   "metadata": {},
   "source": [
    "Явных дубликатов в данных нет"
   ]
  },
  {
   "cell_type": "markdown",
   "metadata": {},
   "source": [
    "<div class=\"alert alert-block alert-danger\">\n",
    "<h2> Комментарий ревьюера 🤔<a class=\"tocSkip\"></h2>\n",
    "<s>\n",
    "Необходимо скорректировать типы данных)"
   ]
  },
  {
   "cell_type": "markdown",
   "metadata": {},
   "source": [
    "<div class=\"alert alert-success\">\n",
    "<h2> Комментарий ревьюера 😊 v_2 <a class=\"tocSkip\"> </h2>\n",
    "\n",
    "Теперь все отлично)"
   ]
  },
  {
   "cell_type": "markdown",
   "metadata": {},
   "source": [
    "<div class=\"alert alert-warning\">\n",
    "<h2> Комментарий ревьюера 🤓<a class=\"tocSkip\"> </h2>\n",
    "        \n",
    "Можно провести дополнительные исследования, например: \n",
    "    \n",
    "* Посмотреть сколько у нас групп в АВ-тесте;\n",
    "* Изучить временной интервал, узнав даты начала и окончания теста;\n",
    "* Рассмотреть количество пользователей в каждой группе - по таблице с заказами;\n",
    "* Посмотреть динамику посетителей по дням по группам (visitos).\n",
    "</div>"
   ]
  },
  {
   "cell_type": "code",
   "execution_count": null,
   "metadata": {},
   "outputs": [],
   "source": [
    "orders['group'].unique()"
   ]
  },
  {
   "cell_type": "markdown",
   "metadata": {},
   "source": [
    "<div class=\"alert alert-info\"> <b>\n",
    "В рамках данного А/Б теста две группы"
   ]
  },
  {
   "cell_type": "code",
   "execution_count": null,
   "metadata": {},
   "outputs": [],
   "source": [
    "print('Начало исследования', visitors['date'].min())\n",
    "print('Конец исследования', visitors['date'].max())"
   ]
  },
  {
   "cell_type": "code",
   "execution_count": null,
   "metadata": {},
   "outputs": [],
   "source": [
    "orders.groupby(by='group').agg({'visitorId':'nunique'})"
   ]
  },
  {
   "cell_type": "markdown",
   "metadata": {},
   "source": [
    "<div class=\"alert alert-info\"> <b>\n",
    "Количество пользователей для каждой группы за весь период исследования"
   ]
  },
  {
   "cell_type": "code",
   "execution_count": null,
   "metadata": {},
   "outputs": [],
   "source": [
    "visits = visitors.groupby(by=['date','group']).agg({'visitors':'sum'})"
   ]
  },
  {
   "cell_type": "markdown",
   "metadata": {},
   "source": [
    "<div class=\"alert alert-info\"> <b>\n",
    "Распределение посетителей по дням и группам"
   ]
  },
  {
   "cell_type": "markdown",
   "metadata": {},
   "source": [
    "<div class=\"alert alert-success\">\n",
    "<h2> Комментарий ревьюера 😊 v_2 <a class=\"tocSkip\"> </h2>\n",
    "\n",
    "Лучше будет отразить на графике, через например plot()"
   ]
  },
  {
   "cell_type": "markdown",
   "metadata": {},
   "source": [
    "**2.1 Постройте график кумулятивной выручки по группам. Сделайте выводы и предположения.**\n"
   ]
  },
  {
   "cell_type": "code",
   "execution_count": null,
   "metadata": {},
   "outputs": [],
   "source": [
    "# создаем массив уникальных пар значений дат и групп теста\n",
    "datesGroups = orders[['date','group']].drop_duplicates()\n",
    "\n",
    "# получаем агрегированные кумулятивные по дням данные о заказах \n",
    "ordersAggregated = datesGroups.apply(lambda x: orders[np.logical_and(orders['date'] <= x['date'], orders['group'] == x['group'])].agg({'date' : 'max', 'group' : 'max', 'transactionId' : 'nunique', 'visitorId' : 'nunique', 'revenue' : 'sum'}), axis=1).sort_values(by=['date','group'])\n",
    "\n",
    "# получаем агрегированные кумулятивные по дням данные о посетителях интернет-магазина \n",
    "visitorsAggregated = datesGroups.apply(lambda x: visitors[np.logical_and(visitors['date'] <= x['date'], visitors['group'] == x['group'])].agg({'date' : 'max', 'group' : 'max', 'visitors' : 'sum'}), axis=1).sort_values(by=['date','group'])\n",
    "\n",
    "# объединяем кумулятивные данные в одной таблице и присваиваем ее столбцам понятные названия\n",
    "cumulativeData = ordersAggregated.merge(visitorsAggregated, left_on=['date', 'group'], right_on=['date', 'group'])\n",
    "cumulativeData.columns = ['date', 'group', 'orders', 'buyers', 'revenue', 'visitors']\n",
    "\n",
    "print(cumulativeData.head(5))"
   ]
  },
  {
   "cell_type": "code",
   "execution_count": null,
   "metadata": {},
   "outputs": [],
   "source": [
    "print('Начало исследования', visitors['date'].min())\n",
    "print('Таблица начало исследования', cumulativeData['date'].min())\n",
    "print('Конец исследования', visitors['date'].max())\n",
    "print('Таблица конец исследования', cumulativeData['date'].max())"
   ]
  },
  {
   "cell_type": "markdown",
   "metadata": {},
   "source": [
    "<div class=\"alert alert-info\"> <b>\n",
    "Таблица была создана правильно"
   ]
  },
  {
   "cell_type": "markdown",
   "metadata": {},
   "source": [
    "<div class=\"alert alert-warning\">\n",
    "<h2> Комментарий ревьюера 🤓<a class=\"tocSkip\"> </h2>\n",
    "        \n",
    "Можно проверить, корректно ли был содан датафрейм cummulativeData. Например, совпадают ли минимальная и максимальная даты в этом датафрейме с минимальной и максимальной датой в исходных данных. </div>  "
   ]
  },
  {
   "cell_type": "code",
   "execution_count": null,
   "metadata": {},
   "outputs": [],
   "source": [
    "# датафрейм с кумулятивным количеством заказов и кумулятивной выручкой по дням в группе А\n",
    "cumulativeRevenueA = cumulativeData[cumulativeData['group']=='A'][['date','revenue', 'orders']]\n",
    "\n",
    "# датафрейм с кумулятивным количеством заказов и кумулятивной выручкой по дням в группе B\n",
    "cumulativeRevenueB = cumulativeData[cumulativeData['group']=='B'][['date','revenue', 'orders']]\n",
    "plt.figure(figsize=(15,5))\n",
    "plt.xticks(rotation = 40) \n",
    "plt.ticklabel_format(axis='y', style='plain')\n",
    "plt.title('График кумулятивной выручки по группам')\n",
    "plt.xlabel('Дата')\n",
    "plt.ylabel('Куммулятивная выручка\\n')\n",
    "\n",
    "# Строим график выручки группы А\n",
    "plt.plot(cumulativeRevenueA['date'],cumulativeRevenueA['revenue'], label='A')\n",
    "\n",
    "# Строим график выручки группы B\n",
    "plt.plot(cumulativeRevenueB['date'], cumulativeRevenueB['revenue'], label='B')\n",
    "\n",
    "plt.legend() ;"
   ]
  },
  {
   "cell_type": "markdown",
   "metadata": {},
   "source": [
    "На графики куммулятивной выручки видно, что первоначально две группы шли примерно одинаково, однако, с 08.04.2019 группа В начала набирать заметное превосходство и дальше постоянно отрывалась от группы А. Так же можно заметить резкий взлет выручки группы в примерно 08.18.2019, что может свидетельствовать об аномальных заказах"
   ]
  },
  {
   "cell_type": "markdown",
   "metadata": {},
   "source": [
    "<div class=\"alert alert-block alert-danger\">\n",
    "<h2> Комментарий ревьюера 🤔<a class=\"tocSkip\"></h2>\n",
    "    <s>\n",
    "Здесь нужно  дать полное описание возможных причин такого поведения графика, что скрывается за аномальными заказами. "
   ]
  },
  {
   "cell_type": "markdown",
   "metadata": {},
   "source": [
    "<div class=\"alert alert-info\"> <b>\n",
    "    Появление аномальных заказов может исказать результаты анализа и дать приоритет какой-то группе, хотя на самом деле она ничем выделяться не будет. Аномальные заказы при сравнение учитывать нельзя, так как большая стоиомость заказов вероятнее всего не является следствией тестируемых между группами различий, а просто случайность"
   ]
  },
  {
   "cell_type": "markdown",
   "metadata": {},
   "source": [
    "<div class=\"alert alert-warning\">\n",
    "<h2> Комментарий ревьюера 🤓 v_2 <a class=\"tocSkip\"> </h2>\n",
    "\n",
    "Сейчас при анализе графика мы не учитываем, что на графике виден рост выручки. Если упростить, то выручка = конверсия * средний чек. Если выручка выросла, то мог увеличится средний чек, а могло увеличится количество заказов (т.е. конверсия).\n",
    "\n",
    "Если мы предлагаем только одну причину скачка, можно предположить, что мы не вполне понимаем всю картину.\n"
   ]
  },
  {
   "cell_type": "markdown",
   "metadata": {},
   "source": [
    "**2.2 Постройте график кумулятивного среднего чека по группам. Сделайте выводы и предположения.**"
   ]
  },
  {
   "cell_type": "code",
   "execution_count": null,
   "metadata": {},
   "outputs": [],
   "source": [
    "plt.figure(figsize=(15,5))\n",
    "plt.xticks(rotation = 40) \n",
    "plt.title('График кумулятивного среднего чека по группам')\n",
    "plt.xlabel('Дата')\n",
    "plt.ylabel('Значение среднего чека\\n')\n",
    "plt.plot(cumulativeRevenueA['date'],cumulativeRevenueA['revenue']/cumulativeRevenueA['orders'], label='A')\n",
    "plt.plot(cumulativeRevenueB['date'],cumulativeRevenueB['revenue']/cumulativeRevenueB['orders'], label='B')\n",
    "plt.legend() ;"
   ]
  },
  {
   "cell_type": "markdown",
   "metadata": {},
   "source": [
    "Примерно половину из рассматриваемого промежутка времени две группы переодически лидировали, однако потом группа В начала набирать превосходство. Так же заметен резкий взлет куммулятивного средного чека для группы В, что так же может говорить об аналомально высоких по стоимости заказах\n",
    "\n",
    "В среднем можно сделать вывод о том, что показатели группы В лучше"
   ]
  },
  {
   "cell_type": "markdown",
   "metadata": {},
   "source": [
    "**2.3 Постройте график относительного изменения кумулятивного среднего чека группы B к группе A. Сделайте выводы и предположения.**"
   ]
  },
  {
   "cell_type": "code",
   "execution_count": null,
   "metadata": {},
   "outputs": [],
   "source": [
    "# собираем данные в одном датафрейме\n",
    "mergedCumulativeRevenue = cumulativeRevenueA.merge(cumulativeRevenueB, left_on='date', right_on='date', how='left', suffixes=['A', 'B'])\n",
    "\n",
    "# cтроим отношение средних чеков\n",
    "plt.figure(figsize=(15,5))\n",
    "plt.title('График относительного изменения кумулятивного среднего чека группы В к А')\n",
    "plt.xlabel('Дата')\n",
    "plt.ylabel('Отношение\\n')\n",
    "plt.xticks(rotation = 40) \n",
    "plt.plot(cumulativeRevenueA['date'],(mergedCumulativeRevenue['revenueB']/mergedCumulativeRevenue['ordersB'])/(mergedCumulativeRevenue['revenueA']/mergedCumulativeRevenue['ordersA'])-1)\n",
    "\n",
    "# добавляем ось X\n",
    "plt.axhline(y=0, color='black', linestyle='--') ;"
   ]
  },
  {
   "cell_type": "markdown",
   "metadata": {},
   "source": [
    "Так как в рамках данного графика мы делим средний чек группы В на средний чек группы А, то при превышении отмеченной горизонтальной линии, группу В можно называть лидирующей. \n",
    "\n",
    "На графике можно наблюдать, что средний чек группы В был дольше более высоким по времени, относительно группы А. Опять же, на данном графике мы видим резкое увеличение преимущества группы В после 08.18.2019. Основываясь на этом графике, так же можно сделать вывод о том, что группа В была лучше группы А"
   ]
  },
  {
   "cell_type": "markdown",
   "metadata": {},
   "source": [
    "**2.4 Постройте график кумулятивного среднего количества заказов на посетителя по группам. Сделайте выводы и предположения.**"
   ]
  },
  {
   "cell_type": "code",
   "execution_count": null,
   "metadata": {},
   "outputs": [],
   "source": [
    "# датафрейм с кумулятивным количеством заказов и кумулятивной выручкой по дням в группе А\n",
    "cumulative_avg_visitors_A = cumulativeData[cumulativeData['group']=='A'][['date','visitors', 'orders']]\n",
    "\n",
    "# датафрейм с кумулятивным количеством заказов и кумулятивной выручкой по дням в группе B\n",
    "cumulative_avg_visitors_B = cumulativeData[cumulativeData['group']=='B'][['date','visitors', 'orders']]\n",
    "plt.figure(figsize=(15,5))\n",
    "plt.xticks(rotation = 40) \n",
    "plt.title('График кумулятивного среднего количества заказов на посетителя по группам')\n",
    "plt.xlabel('Дата')\n",
    "plt.ylabel('Покупатели / Посетители\\n')\n",
    "# Строим график выручки группы А\n",
    "plt.plot(cumulative_avg_visitors_A['date'],cumulative_avg_visitors_A['orders']/cumulative_avg_visitors_A['visitors'], label='A')\n",
    "\n",
    "# Строим график выручки группы B\n",
    "plt.plot(cumulative_avg_visitors_B['date'],cumulative_avg_visitors_B['orders']/cumulative_avg_visitors_B['visitors'], label='B')\n",
    "\n",
    "plt.legend() ;\n"
   ]
  },
  {
   "cell_type": "markdown",
   "metadata": {},
   "source": [
    "На первых этапах проведения тест группа А была лучше группы В, однако, далее среднее количество заказов на пользователя было на стороне группы В. В среднем на группу В приходилось на 0.5% заказов больше, чем на группу А"
   ]
  },
  {
   "cell_type": "markdown",
   "metadata": {},
   "source": [
    "**2.5 Постройте график относительного изменения кумулятивного среднего количества заказов на посетителя группы B к группе A. Сделайте выводы и предположения.**\n"
   ]
  },
  {
   "cell_type": "code",
   "execution_count": null,
   "metadata": {},
   "outputs": [],
   "source": [
    "# собираем данные в одном датафрейме\n",
    "mergedCumulative_avg_visitors = cumulative_avg_visitors_A.merge(cumulative_avg_visitors_B, left_on='date', right_on='date', how='left', suffixes=['A', 'B'])\n",
    "plt.figure(figsize=(15,5))\n",
    "plt.title('График относительного изменения кумулятивного среднего количества заказов на посетителя')\n",
    "plt.xlabel('Дата')\n",
    "plt.ylabel('Отношение\\n')\n",
    "plt.xticks(rotation = 40)\n",
    "\n",
    "# cтроим отношение средних чеков\n",
    "plt.plot(mergedCumulative_avg_visitors['date'],(mergedCumulative_avg_visitors['ordersB']/mergedCumulative_avg_visitors['visitorsB'])/(mergedCumulative_avg_visitors['ordersA']/mergedCumulative_avg_visitors['visitorsA'])-1)\n",
    "\n",
    "# добавляем ось X\n",
    "plt.axhline(y=0, color='black', linestyle='--') ;"
   ]
  },
  {
   "cell_type": "markdown",
   "metadata": {},
   "source": [
    "Данных график подтверждает выводы, которые были сделаны к графику выше. Первоначально группа В проигрывла группе А, однако дальше группа В стала явным фаворитом"
   ]
  },
  {
   "cell_type": "markdown",
   "metadata": {},
   "source": [
    "<div class=\"alert alert-success\">\n",
    "<h2> Комментарий ревьюера 😊<a class=\"tocSkip\"> </h2>\n",
    "\n",
    "Графики построены и интерпретированы верно, молодец)\n",
    "</div>"
   ]
  },
  {
   "cell_type": "markdown",
   "metadata": {},
   "source": [
    "**2.6 Постройте точечный график количества заказов по пользователям. Сделайте выводы и предположения.**"
   ]
  },
  {
   "cell_type": "code",
   "execution_count": null,
   "metadata": {
    "scrolled": true
   },
   "outputs": [],
   "source": [
    "ordersByUsers = (\n",
    "    orders.groupby('visitorId', as_index=False)\n",
    "    .agg({'transactionId': 'nunique'})\n",
    ")\n",
    "\n",
    "ordersByUsers.columns = ['visitorId', 'orders']\n",
    "ordersByUsers.sort_values(by='orders', ascending=False).head(10)"
   ]
  },
  {
   "cell_type": "markdown",
   "metadata": {},
   "source": [
    "На основе данной таблицы можно сделать вывод, что заказы с количеством >5 выбиваются и общей картины"
   ]
  },
  {
   "cell_type": "code",
   "execution_count": null,
   "metadata": {},
   "outputs": [],
   "source": [
    "x_values1=pd.Series(range(0, len(ordersByUsers)))\n",
    "plt.figure(figsize=(15,5))\n",
    "plt.title('График  график количества заказов по пользователям')\n",
    "plt.xlabel('Количество покупателей')\n",
    "plt.ylabel('Количество заказов\\n')\n",
    "plt.grid()\n",
    "plt.scatter(x_values1,ordersByUsers['orders']);"
   ]
  },
  {
   "cell_type": "markdown",
   "metadata": {},
   "source": [
    "Точечный график показывает, что чаще всего пользователи делали один, два или три заказа. Пользователи с количеством заказов больше 5 явно являются аномальными"
   ]
  },
  {
   "cell_type": "markdown",
   "metadata": {},
   "source": [
    "**2.7 Посчитайте 95-й и 99-й перцентили количества заказов на пользователя. Выберите границу для определения аномальных пользователей.**"
   ]
  },
  {
   "cell_type": "code",
   "execution_count": null,
   "metadata": {},
   "outputs": [],
   "source": [
    "percentile_orders = np.percentile(ordersByUsers['orders'], [95, 99])\n",
    "percentile_orders"
   ]
  },
  {
   "cell_type": "markdown",
   "metadata": {},
   "source": [
    "Только 5% пользователей сделали больше 2 заказов и только 1% пользователей сделали больше 4 заказов"
   ]
  },
  {
   "cell_type": "markdown",
   "metadata": {},
   "source": [
    "<div class=\"alert alert-info\"> <b>\n",
    "    В качестве границы для устранения аналомального количества заказов будем использовать 95-й перцентиль. То есть будут убраны пользователи, совершившие больше 2 заказов"
   ]
  },
  {
   "cell_type": "markdown",
   "metadata": {},
   "source": [
    "**2.8 Постройте точечный график стоимостей заказов. Сделайте выводы и предположения.**"
   ]
  },
  {
   "cell_type": "code",
   "execution_count": null,
   "metadata": {},
   "outputs": [],
   "source": [
    "x_values = pd.Series(range(0,len(orders['revenue'])))\n",
    "plt.figure(figsize=(15,5))\n",
    "plt.title('График стоимостей заказов')\n",
    "plt.xlabel('Количество покупателей')\n",
    "plt.ylabel('Стоимость\\n')\n",
    "plt.ticklabel_format(axis='y', style='plain')\n",
    "plt.scatter(x_values,orders['revenue'], alpha = 0.4);"
   ]
  },
  {
   "cell_type": "code",
   "execution_count": null,
   "metadata": {},
   "outputs": [],
   "source": [
    "x_values = pd.Series(range(0,len(orders['revenue'])))\n",
    "plt.figure(figsize=(15,5))\n",
    "plt.ticklabel_format(axis='y', style='plain')\n",
    "plt.axis([0,1200,0,100000])\n",
    "plt.title('График стоимостей заказов')\n",
    "plt.xlabel('Количество покупателей')\n",
    "plt.ylabel('Стоимость\\n')\n",
    "plt.grid()\n",
    "plt.scatter(x_values,orders['revenue'], alpha = 0.4);"
   ]
  },
  {
   "cell_type": "markdown",
   "metadata": {},
   "source": [
    "Были введены лимиты на ось У, чтобы график получился более наглядный. Теперь видно, что большинство покупок составляет до 25000"
   ]
  },
  {
   "cell_type": "markdown",
   "metadata": {},
   "source": [
    "**2.9 Посчитайте 95-й и 99-й перцентили стоимости заказов. Выберите границу для определения аномальных заказов.**"
   ]
  },
  {
   "cell_type": "code",
   "execution_count": null,
   "metadata": {},
   "outputs": [],
   "source": [
    "percentile_revenue = np.percentile(orders['revenue'], [95, 99])\n",
    "percentile_revenue"
   ]
  },
  {
   "cell_type": "markdown",
   "metadata": {},
   "source": [
    "Только 5% заказов были дороже 28000 и 1% заказов был дороже 58233.2"
   ]
  },
  {
   "cell_type": "markdown",
   "metadata": {},
   "source": [
    "<div class=\"alert alert-warning\">\n",
    "<h2> Комментарий ревьюера 🤓<a class=\"tocSkip\"> </h2>\n",
    "Расчеты верные, а вот по выводам так и не ясно, что же мы будем принимать за аномалии. Можешь детализировать этот момент и указать принятые границы аномалий.\n",
    "</div>"
   ]
  },
  {
   "cell_type": "markdown",
   "metadata": {},
   "source": [
    "<div class=\"alert alert-info\"> <b>\n",
    "    В качестве границ для устранения аномалий будем принимать 95-й перцентить, то есть будут убраны пользователи, совершившие заказы дороже 28000"
   ]
  },
  {
   "cell_type": "markdown",
   "metadata": {},
   "source": [
    "<div class=\"alert alert-warning\">\n",
    "<h2> Комментарий ревьюера 🤓 v_2<a class=\"tocSkip\"> </h2>\n",
    "\n",
    "Использовать 95% перцентиль для отсечения выбросов - возможный вариант. Но в данном случае лучше использовать 99% перцентиль. Мы фильтруем по двум параметрам. А значит при последовательном отсечении 5%, мы отбросим больше 5%, а это не очень хорошо."
   ]
  },
  {
   "cell_type": "markdown",
   "metadata": {},
   "source": [
    "**2.10 Посчитайте статистическую значимость различий в среднем количестве заказов на посетителя между группами по «сырым» данным. Сделайте выводы и предположения.**\n"
   ]
  },
  {
   "cell_type": "markdown",
   "metadata": {},
   "source": [
    "**Нулевая гипотеза: Различий в среднем количестве заказов на посетителя между группами нет**"
   ]
  },
  {
   "cell_type": "markdown",
   "metadata": {},
   "source": [
    "<div class=\"alert alert-info\"> <b>\n",
    "    Альтернативная гипотеза: Различия в среднем количестве заказов на посетителя между группами есть"
   ]
  },
  {
   "cell_type": "markdown",
   "metadata": {},
   "source": [
    "<div class=\"alert alert-block alert-danger\">\n",
    "<h2> Комментарий ревьюера 🤔<a class=\"tocSkip\"></h2>\n",
    "<s>\n",
    "Нужно добавить и альтернативную гипотезы,  чтобы представлять односторонний или двусторонний тест мы будем проводить. Давай добавим к каждому тесту."
   ]
  },
  {
   "cell_type": "markdown",
   "metadata": {},
   "source": [
    "<div class=\"alert alert-success\">\n",
    "<h2> Комментарий ревьюера 😊<a class=\"tocSkip\"> </h2>\n",
    "\n",
    "Гипотеза составлена верно)\n"
   ]
  },
  {
   "cell_type": "code",
   "execution_count": null,
   "metadata": {},
   "outputs": [],
   "source": [
    "visitorsADaily = visitors[visitors['group'] == 'A'][['date', 'visitors']]\n",
    "visitorsADaily.columns = ['date', 'visitorsPerDateA']\n",
    "\n",
    "visitorsBDaily = visitors[visitors['group'] == 'B'][['date', 'visitors']]\n",
    "visitorsBDaily.columns = ['date', 'visitorsPerDateB']\n",
    "\n",
    "ordersByUsersA = (\n",
    "    orders[orders['group'] == 'A']\n",
    "    .groupby('visitorId', as_index=False)\n",
    "    .agg({'transactionId': pd.Series.nunique})\n",
    ")\n",
    "ordersByUsersA.columns = ['visitorId', 'orders']\n",
    "\n",
    "ordersByUsersB = (\n",
    "    orders[orders['group'] == 'B']\n",
    "    .groupby('visitorId', as_index=False)\n",
    "    .agg({'transactionId': pd.Series.nunique})\n",
    ")\n",
    "ordersByUsersB.columns = ['visitorId', 'orders']\n",
    "\n",
    "sampleA = pd.concat(\n",
    "    [\n",
    "        ordersByUsersA['orders'],\n",
    "        pd.Series(\n",
    "            0,\n",
    "            index=np.arange(\n",
    "                visitorsADaily['visitorsPerDateA'].sum() - len(ordersByUsersA['orders'])\n",
    "            ),\n",
    "            name='orders',\n",
    "        ),\n",
    "    ],\n",
    "    axis=0,\n",
    ")\n",
    "\n",
    "sampleB = pd.concat(\n",
    "    [\n",
    "        ordersByUsersB['orders'],\n",
    "        pd.Series(\n",
    "            0,\n",
    "            index=np.arange(\n",
    "                visitorsBDaily['visitorsPerDateB'].sum() - len(ordersByUsersB['orders'])\n",
    "            ),\n",
    "            name='orders',\n",
    "        ),\n",
    "    ],\n",
    "    axis=0,\n",
    ")\n",
    "\n",
    "print('Значение P-value: {0:.5f}'.format(stats.mannwhitneyu(sampleA, sampleB)[1]))\n",
    "print('Изменение различий в среднем количестве заказов на посетителя между группами в долях: {0:.3f}'.format(sampleB.mean()/sampleA.mean() - 1))"
   ]
  },
  {
   "cell_type": "markdown",
   "metadata": {},
   "source": [
    "Так как значение P-value меньше 0.05, то мы отвергаем нулевую гипотезу и делаем вывод, что различия в среднем количестве заказов между группами есть. Группа В выигрывает в среднем на 13.8%"
   ]
  },
  {
   "cell_type": "markdown",
   "metadata": {},
   "source": [
    "<div class=\"alert alert-success\">\n",
    "<h2> Комментарий ревьюера 😊<a class=\"tocSkip\"> </h2>\n",
    "Значение p-value интерпретировано правильно. Хорошая работа.\n",
    "</div>"
   ]
  },
  {
   "cell_type": "markdown",
   "metadata": {},
   "source": [
    "**2.11 Посчитайте статистическую значимость различий в среднем чеке заказа между группами по «сырым» данным. Сделайте выводы и предположения.**"
   ]
  },
  {
   "cell_type": "markdown",
   "metadata": {},
   "source": [
    "**Нулевая гипотеза: статистических различий между средними чеками групп нет**"
   ]
  },
  {
   "cell_type": "markdown",
   "metadata": {},
   "source": [
    "<div class=\"alert alert-info\"> <b>\n",
    "    Альтернативная гипотеза: Статистическиое различие между средними чеками групп присутсвует"
   ]
  },
  {
   "cell_type": "code",
   "execution_count": null,
   "metadata": {
    "scrolled": true
   },
   "outputs": [],
   "source": [
    "print('Значение P-value для \"сырых\" данных:','{0:.3f}'.format(stats.mannwhitneyu(orders[orders['group']=='A']['revenue'], orders[orders['group']=='B']['revenue'])[1]))\n",
    "print('Преимущество группы В над группой А:','{0:.3f}'.format(orders[orders['group']=='B']['revenue'].mean()/orders[orders['group']=='A']['revenue'].mean()-1)) "
   ]
  },
  {
   "cell_type": "markdown",
   "metadata": {},
   "source": [
    "Так как значение P-value больше 0.05, то мы не можем отвегрнуть нулевую гипотезу, то есть различий между средними чеками изучаемых групп нет.\n",
    "\n",
    "Рассчитанное преимущество группы В над группой А в данном случае можно признать случайным и статистически не значимым"
   ]
  },
  {
   "cell_type": "markdown",
   "metadata": {},
   "source": [
    "<div class=\"alert alert-success\">\n",
    "<h2> Комментарий ревьюера 😊<a class=\"tocSkip\"> </h2>\n",
    "Верно)"
   ]
  },
  {
   "cell_type": "markdown",
   "metadata": {},
   "source": [
    "**2.12 Посчитайте статистическую значимость различий в среднем количестве заказов на посетителя между группами по «очищенным» данным. Сделайте выводы и предположения.**"
   ]
  },
  {
   "cell_type": "code",
   "execution_count": null,
   "metadata": {},
   "outputs": [],
   "source": [
    "usersWithManyOrders = pd.concat(\n",
    "    [\n",
    "        ordersByUsersA[ordersByUsersA['orders'] > percentile_orders[0]]['visitorId'],\n",
    "        ordersByUsersB[ordersByUsersB['orders'] > percentile_orders[0]]['visitorId'],\n",
    "    ],\n",
    "    axis=0,\n",
    ")\n",
    "usersWithExpensiveOrders = orders[orders['revenue'] > percentile_revenue[0]]['visitorId']\n",
    "abnormalUsers = (\n",
    "    pd.concat([usersWithManyOrders, usersWithExpensiveOrders], axis=0)\n",
    "    .drop_duplicates()\n",
    "    .sort_values()\n",
    ")\n",
    "print(abnormalUsers.head(5))\n",
    "print(abnormalUsers.shape[0]) "
   ]
  },
  {
   "cell_type": "markdown",
   "metadata": {},
   "source": [
    "В абсолютном выражении количество аномальных пользователей равно 74"
   ]
  },
  {
   "cell_type": "code",
   "execution_count": null,
   "metadata": {},
   "outputs": [],
   "source": [
    "round(abnormalUsers.shape[0]/orders['visitorId'].count()*100,2)"
   ]
  },
  {
   "cell_type": "markdown",
   "metadata": {},
   "source": [
    "В относительном выражении количество аномальныз пользователей составляет 6.18% от общего числа. Уберем этих пользователей и снова проведем статистические тесты"
   ]
  },
  {
   "cell_type": "markdown",
   "metadata": {},
   "source": [
    "**Нулевая гипотеза: Различий в среднем количестве заказов на посетителя между группами нет**"
   ]
  },
  {
   "cell_type": "markdown",
   "metadata": {},
   "source": [
    "<div class=\"alert alert-info\"> <b>\n",
    "    Альтернативная гипотеза: Различие в среднем количестве заказов на посетителя между группами есть"
   ]
  },
  {
   "cell_type": "code",
   "execution_count": null,
   "metadata": {},
   "outputs": [],
   "source": [
    "sampleAFiltered = pd.concat(\n",
    "    [\n",
    "        ordersByUsersA[\n",
    "            np.logical_not(ordersByUsersA['visitorId'].isin(abnormalUsers))\n",
    "        ]['orders'],\n",
    "        pd.Series(\n",
    "            0,\n",
    "            index=np.arange(\n",
    "                visitorsADaily['visitorsPerDateA'].sum() - len(ordersByUsersA['orders'])\n",
    "            ),\n",
    "            name='orders',\n",
    "        ),\n",
    "    ],\n",
    "    axis=0,\n",
    ")\n",
    "\n",
    "sampleBFiltered = pd.concat(\n",
    "    [\n",
    "        ordersByUsersB[\n",
    "            np.logical_not(ordersByUsersB['visitorId'].isin(abnormalUsers))\n",
    "        ]['orders'],\n",
    "        pd.Series(\n",
    "            0,\n",
    "            index=np.arange(\n",
    "                visitorsBDaily['visitorsPerDateB'].sum() - len(ordersByUsersB['orders'])\n",
    "            ),\n",
    "            name='orders',\n",
    "        ),\n",
    "    ],\n",
    "    axis=0,\n",
    ") \n",
    "print('Значение P-value для \"очищенных\" данных:','{0:.3f}'.format(stats.mannwhitneyu(sampleAFiltered, sampleBFiltered)[1]))\n",
    "print('Изменение различий в среднем количестве заказов на посетителя между группами в долях:''{0:.3f}'.format(sampleBFiltered.mean()/sampleAFiltered.mean()-1)) "
   ]
  },
  {
   "cell_type": "markdown",
   "metadata": {},
   "source": [
    "Проведя тест уже с \"очищенными\" данными, можно заметить, что значение P-value немножко снизилось (0.0167 значение для \"сырых\" данных). Мы так же отвергаем нулевую гипотезу и говорим о том, что статистическое различие между средним количеством заказов по группам есть.\n",
    "\n",
    "Группа В на 17.3% выигрывает группу А"
   ]
  },
  {
   "cell_type": "markdown",
   "metadata": {},
   "source": [
    "**2.13 Посчитайте статистическую значимость различий в среднем чеке заказа между группами по «очищенным» данным. Сделайте выводы и предположения.**"
   ]
  },
  {
   "cell_type": "markdown",
   "metadata": {},
   "source": [
    "**Нулевая гипотеза: Различий в среднем чеке заказа между группами нет**"
   ]
  },
  {
   "cell_type": "markdown",
   "metadata": {},
   "source": [
    "<div class=\"alert alert-info\"> <b>\n",
    "    Альтернативная гипотеза: Различие в среднем чеке заказа между группами есть"
   ]
  },
  {
   "cell_type": "code",
   "execution_count": null,
   "metadata": {},
   "outputs": [],
   "source": [
    "print('Значение P-value для \"очищенных\" данных:'\n",
    "    '{0:.3f}'.format(\n",
    "        stats.mannwhitneyu(\n",
    "            orders[\n",
    "                np.logical_and(\n",
    "                    orders['group'] == 'A',\n",
    "                    np.logical_not(orders['visitorId'].isin(abnormalUsers)),\n",
    "                )\n",
    "            ]['revenue'],\n",
    "            orders[\n",
    "                np.logical_and(\n",
    "                    orders['group'] == 'B',\n",
    "                    np.logical_not(orders['visitorId'].isin(abnormalUsers)),\n",
    "                )\n",
    "            ]['revenue'],\n",
    "        )[1]\n",
    "    )\n",
    ")\n",
    "\n",
    "print('Преимущество группы В над группой А:',\n",
    "    \"{0:.3f}\".format(\n",
    "        orders[\n",
    "            np.logical_and(\n",
    "                orders['group'] == 'B',\n",
    "                np.logical_not(orders['visitorId'].isin(abnormalUsers)),\n",
    "            )\n",
    "        ]['revenue'].mean()\n",
    "        / orders[\n",
    "            np.logical_and(\n",
    "                orders['group'] == 'A',\n",
    "                np.logical_not(orders['visitorId'].isin(abnormalUsers)),\n",
    "            )\n",
    "        ]['revenue'].mean()\n",
    "        - 1\n",
    "    )\n",
    ") "
   ]
  },
  {
   "cell_type": "markdown",
   "metadata": {},
   "source": [
    "После очистки данных от аномальных пользователей значение P-value немного увлеличилось (0.729 прошлое значение). Делаем вывод, что аномальные пользователи не влияли на результаты данного теста. Статистически значимых различий в среднем чеке между группами нет.\n",
    "\n",
    "Однако, преимущество группы В над группой А сошло на нет. Если при анализе \"сырых\" группа В была на 25.9% лушче группы А. Сейчас же ситуация изменилась в пользу группы А на 2%. В данном случае можно сделать вывод о том, что аномальные пользователи оказали влияние на результаты."
   ]
  },
  {
   "cell_type": "markdown",
   "metadata": {},
   "source": [
    "<div class=\"alert alert-success\">\n",
    "<h2> Комментарий ревьюера 😊<a class=\"tocSkip\"> </h2>\n",
    "Расчеты проведены верно, молодец)"
   ]
  },
  {
   "cell_type": "markdown",
   "metadata": {},
   "source": [
    "**2.14 Примите решение по результатам теста и объясните его. Варианты решений:**\n",
    "1. Остановить тест, зафиксировать победу одной из групп.\n",
    "2. Остановить тест, зафиксировать отсутствие различий между группами.\n",
    "3. Продолжить тест."
   ]
  },
  {
   "cell_type": "markdown",
   "metadata": {},
   "source": [
    "По результатам проведенного анализа сделать следующие выыводы:\n",
    "* Построенные в ходе исследования графики и статистические тесты по \"сырым\" и очищенным данным показали, что посетители из группы В чаще приобретают товары, нежели посетители группы А. Это важный показатель для бизнеса\n",
    "* Различий в среднем чеке не было выявлено для данных групп, однако можно предположить, что для формирования полноценного вывода необходим сбор дополнительной статистики, то есть продолжения теста. В перспективе, так как количество покупателей в группе В больше, чем количество покупателей в группе А, это может повлиять и на средний чек\n",
    "\n",
    "На данном этапе исследования моей рекомандацией было бы завершения теста, особенно, если данная проверка дорого обходится компании. По итогам анализа, предпочтение отдается группе В, так как покупателей из нее приходит больше, хоть и средний чек не различается между исследуемыми группами"
   ]
  },
  {
   "cell_type": "markdown",
   "metadata": {},
   "source": [
    "<div class=\"alert alert-success\">\n",
    "<h2> Комментарий ревьюера 😊<a class=\"tocSkip\"> </h2>\n",
    "\n",
    "Верно) Будет хорошо указать и результаты по приоритизации)"
   ]
  },
  {
   "cell_type": "markdown",
   "metadata": {},
   "source": [
    "<div class=\"alert alert-info\"> <b>\n",
    " Применив методики приоритезации ICE и RICE можно выделить четыре основные приоритеные гипотезы:\n",
    "    \n",
    "* Добавить форму подписки на все основные страницы, чтобы собрать базу клиентов для email-рассылок (Лучшая гипотеза по методике RICE)\n",
    "* Запустить акцию, дающую скидку на товар в день рождения (Лучшая гипотеза по методике ICE)\n",
    "* Добавить два новых канала привлечения трафика, что позволит привлекать на 30% больше пользователей\n",
    "* Добавить блоки рекомендаций товаров на сайт интернет магазина, чтобы повысить конверсию и средний чек заказа"
   ]
  },
  {
   "cell_type": "markdown",
   "metadata": {},
   "source": [
    "<div class=\"alert alert-info\"> <b>\n",
    "    Насчет вопросов, мне не особо понятно как работает приведенный код снизу, а конкретнее visitors['date'] <= x['date']. Какую дату у нас принимает Х в этом случае и почему она должна быть меньше?\n",
    "\n",
    "```python\n",
    "visitorsAggregated = datesGroups.apply(lambda x: visitors[np.logical_and(visitors['date'] <= x['date'], visitors['group'] == x['group'])]\n",
    "```    "
   ]
  },
  {
   "cell_type": "markdown",
   "metadata": {},
   "source": [
    "<div style=\"border:solid Purple 2px; padding: 40px\">\n",
    "\n",
    "<h2> Общий комментарий ревьюера 😊 v_2<a class=\"tocSkip\"> </h2>\n",
    "    <br/>\n",
    "    \n",
    "Мы получаем агрегированные кумулятивные по дням данные, строки таблицы visitors, дата которых меньше или равна дате элемента из datesGroups, а группа теста равна группе из datesGroups. Так мы как бы ежедневно считаем результаты тестирования  до выбранного дня включительно и сохраняем их в таблицу visitorsAggregated. Должна быть меньше так как мы считаем коммулятивные данные)\n",
    "    \n",
    "Спасибо за проект! Успехов в дальнейшем обучении!)"
   ]
  },
  {
   "cell_type": "markdown",
   "metadata": {},
   "source": [
    "<div style=\"border:solid Purple 2px; padding: 40px\">\n",
    "\n",
    "<h2> Общий комментарий ревьюера 😊<a class=\"tocSkip\"> </h2>\n",
    "    <br/>\n",
    "Кирилл, отличная работа по проекту, расчеты проведены верно и построены хорошие графики) Осталось совсем немного доработать.\n",
    "    \n",
    "Необходимо доработать:\n",
    "    \n",
    "* Добавить комментарий к графику\n",
    "* Скорректировать типы\n",
    "* Указать альтернативные гипотезы\n",
    "* Остальные комментарии ты найдешь в работе\n",
    "    \n",
    " \n",
    "**Желаю удачи и жду твой проект на повторное ревью! Если вдруг у тебя возникнут вопросы, то я с радостью отвечу на них.    😊**\n",
    "    \n",
    "![gif](https://i.gifer.com/378.gif)\n",
    "    \n",
    "<br>   \n",
    "             \n",
    "**Дополнительные материалы:**\n",
    " \n",
    "[Вебинары под эгидой Практикума](https://vk.com/yandex.praktikum?w=wall-176471180_2144), \n",
    "    \n",
    "[Лекции Анатолия Карпова 1](https://www.youtube.com/watch?v=jnFVmtaeSA0&list=WL&index=19&t=2s) [2](https://www.youtube.com/watch?v=gljfGAkgX_o&list=WL&index=4)\n",
    "    \n",
    "Материалы [gopractice](https://gopractice.ru/summary/)\n",
    "\n",
    "Лекцию Карта статистических методов [Смотреть видео](https://www.youtube.com/watch?v=-zps6hm0nX8&t=1269s)\n",
    "        \n",
    "</div>"
   ]
  }
 ],
 "metadata": {
  "ExecuteTimeLog": [
   {
    "duration": 846,
    "start_time": "2023-03-11T10:57:18.532Z"
   },
   {
    "duration": 77,
    "start_time": "2023-03-11T10:57:44.589Z"
   },
   {
    "duration": 14,
    "start_time": "2023-03-11T10:57:46.186Z"
   },
   {
    "duration": 3,
    "start_time": "2023-03-11T11:08:55.466Z"
   },
   {
    "duration": 1221,
    "start_time": "2023-03-11T11:09:54.797Z"
   },
   {
    "duration": 1263,
    "start_time": "2023-03-11T11:10:04.991Z"
   },
   {
    "duration": 1530,
    "start_time": "2023-03-11T11:10:14.035Z"
   },
   {
    "duration": 11,
    "start_time": "2023-03-11T11:10:27.658Z"
   },
   {
    "duration": 9,
    "start_time": "2023-03-11T11:11:37.236Z"
   },
   {
    "duration": 9,
    "start_time": "2023-03-11T11:12:38.887Z"
   },
   {
    "duration": 12,
    "start_time": "2023-03-11T11:12:39.112Z"
   },
   {
    "duration": 8,
    "start_time": "2023-03-11T11:12:52.538Z"
   },
   {
    "duration": 4,
    "start_time": "2023-03-11T11:12:53.134Z"
   },
   {
    "duration": 5,
    "start_time": "2023-03-11T11:12:53.558Z"
   },
   {
    "duration": 12,
    "start_time": "2023-03-11T11:13:29.922Z"
   },
   {
    "duration": 88,
    "start_time": "2023-03-11T11:13:39.772Z"
   },
   {
    "duration": 14,
    "start_time": "2023-03-11T11:13:39.966Z"
   },
   {
    "duration": 8,
    "start_time": "2023-03-11T11:13:56.773Z"
   },
   {
    "duration": 4,
    "start_time": "2023-03-11T11:14:06.269Z"
   },
   {
    "duration": 10,
    "start_time": "2023-03-11T11:14:07.545Z"
   },
   {
    "duration": 3,
    "start_time": "2023-03-11T11:14:11.249Z"
   },
   {
    "duration": 10,
    "start_time": "2023-03-11T11:14:13.541Z"
   },
   {
    "duration": 4,
    "start_time": "2023-03-11T11:14:16.235Z"
   },
   {
    "duration": 15,
    "start_time": "2023-03-11T11:14:16.906Z"
   },
   {
    "duration": 4,
    "start_time": "2023-03-11T11:14:31.805Z"
   },
   {
    "duration": 10,
    "start_time": "2023-03-11T11:14:32.527Z"
   },
   {
    "duration": 1221,
    "start_time": "2023-03-11T11:14:59.061Z"
   },
   {
    "duration": 6,
    "start_time": "2023-03-11T11:15:06.824Z"
   },
   {
    "duration": 4,
    "start_time": "2023-03-11T11:15:17.223Z"
   },
   {
    "duration": 10,
    "start_time": "2023-03-11T11:16:22.412Z"
   },
   {
    "duration": 9,
    "start_time": "2023-03-11T11:16:22.617Z"
   },
   {
    "duration": 11,
    "start_time": "2023-03-11T11:16:23.070Z"
   },
   {
    "duration": 12,
    "start_time": "2023-03-11T11:17:48.867Z"
   },
   {
    "duration": 13,
    "start_time": "2023-03-11T11:18:10.225Z"
   },
   {
    "duration": 15,
    "start_time": "2023-03-11T11:18:10.910Z"
   },
   {
    "duration": 12,
    "start_time": "2023-03-11T11:18:11.660Z"
   },
   {
    "duration": 6,
    "start_time": "2023-03-11T11:26:37.077Z"
   },
   {
    "duration": 8,
    "start_time": "2023-03-11T11:26:50.824Z"
   },
   {
    "duration": 4,
    "start_time": "2023-03-11T11:27:20.493Z"
   },
   {
    "duration": 101,
    "start_time": "2023-03-14T09:06:07.304Z"
   },
   {
    "duration": 45,
    "start_time": "2023-03-14T09:06:44.161Z"
   },
   {
    "duration": 1021,
    "start_time": "2023-03-14T09:06:51.607Z"
   },
   {
    "duration": 89,
    "start_time": "2023-03-14T09:06:52.631Z"
   },
   {
    "duration": 17,
    "start_time": "2023-03-14T09:06:52.723Z"
   },
   {
    "duration": 1234,
    "start_time": "2023-03-14T09:06:52.743Z"
   },
   {
    "duration": 0,
    "start_time": "2023-03-14T09:06:53.979Z"
   },
   {
    "duration": 0,
    "start_time": "2023-03-14T09:06:53.980Z"
   },
   {
    "duration": 0,
    "start_time": "2023-03-14T09:06:53.981Z"
   },
   {
    "duration": 0,
    "start_time": "2023-03-14T09:06:53.982Z"
   },
   {
    "duration": 0,
    "start_time": "2023-03-14T09:06:53.984Z"
   },
   {
    "duration": 0,
    "start_time": "2023-03-14T09:06:53.985Z"
   },
   {
    "duration": 816,
    "start_time": "2023-03-14T09:07:42.958Z"
   },
   {
    "duration": 28,
    "start_time": "2023-03-14T09:07:43.775Z"
   },
   {
    "duration": 13,
    "start_time": "2023-03-14T09:07:43.805Z"
   },
   {
    "duration": 3,
    "start_time": "2023-03-14T09:07:43.820Z"
   },
   {
    "duration": 7,
    "start_time": "2023-03-14T09:07:43.825Z"
   },
   {
    "duration": 9,
    "start_time": "2023-03-14T09:07:43.833Z"
   },
   {
    "duration": 16,
    "start_time": "2023-03-14T09:07:43.844Z"
   },
   {
    "duration": 6,
    "start_time": "2023-03-14T09:07:43.862Z"
   },
   {
    "duration": 14,
    "start_time": "2023-03-14T09:07:43.869Z"
   },
   {
    "duration": 86,
    "start_time": "2023-03-14T09:07:43.884Z"
   },
   {
    "duration": 57,
    "start_time": "2023-03-14T09:08:12.797Z"
   },
   {
    "duration": 58,
    "start_time": "2023-03-14T09:10:06.944Z"
   },
   {
    "duration": 86,
    "start_time": "2023-03-14T09:10:48.762Z"
   },
   {
    "duration": 62,
    "start_time": "2023-03-14T11:44:24.765Z"
   },
   {
    "duration": 8,
    "start_time": "2023-03-14T11:44:46.630Z"
   },
   {
    "duration": 13,
    "start_time": "2023-03-14T11:44:58.226Z"
   },
   {
    "duration": 52,
    "start_time": "2023-03-14T11:45:19.043Z"
   },
   {
    "duration": 21,
    "start_time": "2023-03-14T11:45:39.638Z"
   },
   {
    "duration": 277,
    "start_time": "2023-03-14T11:53:48.326Z"
   },
   {
    "duration": 150,
    "start_time": "2023-03-14T11:56:54.031Z"
   },
   {
    "duration": 570,
    "start_time": "2023-03-14T11:57:06.868Z"
   },
   {
    "duration": 282,
    "start_time": "2023-03-14T11:57:10.613Z"
   },
   {
    "duration": 207,
    "start_time": "2023-03-14T11:57:41.592Z"
   },
   {
    "duration": 279,
    "start_time": "2023-03-14T11:59:07.244Z"
   },
   {
    "duration": 196,
    "start_time": "2023-03-14T11:59:20.223Z"
   },
   {
    "duration": 413,
    "start_time": "2023-03-14T12:00:04.011Z"
   },
   {
    "duration": 203,
    "start_time": "2023-03-14T12:00:22.000Z"
   },
   {
    "duration": 366,
    "start_time": "2023-03-14T12:01:21.206Z"
   },
   {
    "duration": 222,
    "start_time": "2023-03-14T12:03:48.093Z"
   },
   {
    "duration": 238,
    "start_time": "2023-03-14T12:05:13.598Z"
   },
   {
    "duration": 1791,
    "start_time": "2023-03-14T12:06:03.132Z"
   },
   {
    "duration": 1656,
    "start_time": "2023-03-14T12:06:19.611Z"
   },
   {
    "duration": 1777,
    "start_time": "2023-03-14T12:06:59.028Z"
   },
   {
    "duration": 188,
    "start_time": "2023-03-14T12:07:50.155Z"
   },
   {
    "duration": 206,
    "start_time": "2023-03-14T12:09:25.095Z"
   },
   {
    "duration": 194,
    "start_time": "2023-03-14T12:09:45.596Z"
   },
   {
    "duration": 212,
    "start_time": "2023-03-14T12:10:01.905Z"
   },
   {
    "duration": 209,
    "start_time": "2023-03-14T12:10:52.625Z"
   },
   {
    "duration": 170,
    "start_time": "2023-03-14T12:14:05.911Z"
   },
   {
    "duration": 187,
    "start_time": "2023-03-14T12:14:39.691Z"
   },
   {
    "duration": 67,
    "start_time": "2023-03-15T07:35:57.115Z"
   },
   {
    "duration": 1370,
    "start_time": "2023-03-15T07:36:02.329Z"
   },
   {
    "duration": 126,
    "start_time": "2023-03-15T07:36:03.701Z"
   },
   {
    "duration": 15,
    "start_time": "2023-03-15T07:36:03.829Z"
   },
   {
    "duration": 13,
    "start_time": "2023-03-15T07:36:03.850Z"
   },
   {
    "duration": 12,
    "start_time": "2023-03-15T07:36:03.866Z"
   },
   {
    "duration": 11,
    "start_time": "2023-03-15T07:36:03.879Z"
   },
   {
    "duration": 11,
    "start_time": "2023-03-15T07:36:03.891Z"
   },
   {
    "duration": 7,
    "start_time": "2023-03-15T07:36:03.904Z"
   },
   {
    "duration": 17,
    "start_time": "2023-03-15T07:36:03.912Z"
   },
   {
    "duration": 83,
    "start_time": "2023-03-15T07:36:03.931Z"
   },
   {
    "duration": 13,
    "start_time": "2023-03-15T07:36:04.016Z"
   },
   {
    "duration": 6,
    "start_time": "2023-03-15T07:36:04.031Z"
   },
   {
    "duration": 83,
    "start_time": "2023-03-15T07:36:04.039Z"
   },
   {
    "duration": 6,
    "start_time": "2023-03-15T07:36:04.125Z"
   },
   {
    "duration": 333,
    "start_time": "2023-03-15T07:36:04.132Z"
   },
   {
    "duration": 184,
    "start_time": "2023-03-15T07:36:04.466Z"
   },
   {
    "duration": 142,
    "start_time": "2023-03-15T07:36:04.653Z"
   },
   {
    "duration": 302,
    "start_time": "2023-03-15T07:36:04.796Z"
   },
   {
    "duration": 1347,
    "start_time": "2023-03-15T07:36:05.099Z"
   },
   {
    "duration": 0,
    "start_time": "2023-03-15T07:36:06.450Z"
   },
   {
    "duration": 1193,
    "start_time": "2023-03-15T07:37:15.303Z"
   },
   {
    "duration": 1166,
    "start_time": "2023-03-15T07:37:23.703Z"
   },
   {
    "duration": 186,
    "start_time": "2023-03-15T07:39:32.801Z"
   },
   {
    "duration": 278,
    "start_time": "2023-03-15T07:41:01.215Z"
   },
   {
    "duration": 116,
    "start_time": "2023-03-15T07:47:32.103Z"
   },
   {
    "duration": 155,
    "start_time": "2023-03-15T07:48:54.824Z"
   },
   {
    "duration": 117,
    "start_time": "2023-03-15T07:49:05.029Z"
   },
   {
    "duration": 72,
    "start_time": "2023-03-15T07:52:40.150Z"
   },
   {
    "duration": 13,
    "start_time": "2023-03-15T07:55:02.875Z"
   },
   {
    "duration": 69,
    "start_time": "2023-03-15T07:55:21.912Z"
   },
   {
    "duration": 4,
    "start_time": "2023-03-15T07:55:43.229Z"
   },
   {
    "duration": 4,
    "start_time": "2023-03-15T07:55:56.473Z"
   },
   {
    "duration": 44,
    "start_time": "2023-03-15T07:57:26.006Z"
   },
   {
    "duration": 42,
    "start_time": "2023-03-15T07:57:34.251Z"
   },
   {
    "duration": 13,
    "start_time": "2023-03-15T08:00:33.318Z"
   },
   {
    "duration": 13,
    "start_time": "2023-03-15T08:00:46.547Z"
   },
   {
    "duration": 12,
    "start_time": "2023-03-15T08:01:05.904Z"
   },
   {
    "duration": 74,
    "start_time": "2023-03-15T08:02:41.460Z"
   },
   {
    "duration": 118,
    "start_time": "2023-03-15T08:03:07.260Z"
   },
   {
    "duration": 118,
    "start_time": "2023-03-15T08:03:39.125Z"
   },
   {
    "duration": 5,
    "start_time": "2023-03-15T08:04:20.975Z"
   },
   {
    "duration": 1131,
    "start_time": "2023-03-15T08:08:46.773Z"
   },
   {
    "duration": 194,
    "start_time": "2023-03-15T08:09:50.574Z"
   },
   {
    "duration": 151,
    "start_time": "2023-03-15T08:11:01.168Z"
   },
   {
    "duration": 214,
    "start_time": "2023-03-15T08:11:52.167Z"
   },
   {
    "duration": 12,
    "start_time": "2023-03-15T08:13:27.211Z"
   },
   {
    "duration": 171,
    "start_time": "2023-03-15T08:13:50.568Z"
   },
   {
    "duration": 993,
    "start_time": "2023-03-15T08:15:30.508Z"
   },
   {
    "duration": 56,
    "start_time": "2023-03-15T08:15:31.503Z"
   },
   {
    "duration": 38,
    "start_time": "2023-03-15T08:15:31.561Z"
   },
   {
    "duration": 26,
    "start_time": "2023-03-15T08:15:31.601Z"
   },
   {
    "duration": 35,
    "start_time": "2023-03-15T08:15:31.630Z"
   },
   {
    "duration": 40,
    "start_time": "2023-03-15T08:15:31.667Z"
   },
   {
    "duration": 43,
    "start_time": "2023-03-15T08:15:31.708Z"
   },
   {
    "duration": 19,
    "start_time": "2023-03-15T08:15:31.753Z"
   },
   {
    "duration": 41,
    "start_time": "2023-03-15T08:15:31.774Z"
   },
   {
    "duration": 64,
    "start_time": "2023-03-15T08:15:31.817Z"
   },
   {
    "duration": 17,
    "start_time": "2023-03-15T08:15:31.883Z"
   },
   {
    "duration": 35,
    "start_time": "2023-03-15T08:15:31.901Z"
   },
   {
    "duration": 36,
    "start_time": "2023-03-15T08:15:31.938Z"
   },
   {
    "duration": 5,
    "start_time": "2023-03-15T08:15:31.977Z"
   },
   {
    "duration": 258,
    "start_time": "2023-03-15T08:15:31.984Z"
   },
   {
    "duration": 154,
    "start_time": "2023-03-15T08:15:32.243Z"
   },
   {
    "duration": 166,
    "start_time": "2023-03-15T08:15:32.401Z"
   },
   {
    "duration": 241,
    "start_time": "2023-03-15T08:15:32.568Z"
   },
   {
    "duration": 158,
    "start_time": "2023-03-15T08:15:32.811Z"
   },
   {
    "duration": 224,
    "start_time": "2023-03-15T08:15:32.971Z"
   },
   {
    "duration": 127,
    "start_time": "2023-03-15T08:15:33.196Z"
   },
   {
    "duration": 17,
    "start_time": "2023-03-15T08:15:33.324Z"
   },
   {
    "duration": 169,
    "start_time": "2023-03-15T08:15:33.343Z"
   },
   {
    "duration": 146,
    "start_time": "2023-03-15T08:15:33.514Z"
   },
   {
    "duration": 140,
    "start_time": "2023-03-15T08:16:43.420Z"
   },
   {
    "duration": 140,
    "start_time": "2023-03-15T08:17:34.216Z"
   },
   {
    "duration": 134,
    "start_time": "2023-03-15T08:20:38.649Z"
   },
   {
    "duration": 10,
    "start_time": "2023-03-15T08:20:46.411Z"
   },
   {
    "duration": 15,
    "start_time": "2023-03-15T08:21:32.438Z"
   },
   {
    "duration": 190,
    "start_time": "2023-03-15T08:24:41.431Z"
   },
   {
    "duration": 111,
    "start_time": "2023-03-15T08:27:08.061Z"
   },
   {
    "duration": 274,
    "start_time": "2023-03-15T08:28:50.553Z"
   },
   {
    "duration": 162,
    "start_time": "2023-03-15T08:29:09.442Z"
   },
   {
    "duration": 134,
    "start_time": "2023-03-15T08:31:06.446Z"
   },
   {
    "duration": 160,
    "start_time": "2023-03-15T08:31:25.151Z"
   },
   {
    "duration": 216,
    "start_time": "2023-03-15T08:36:55.307Z"
   },
   {
    "duration": 117,
    "start_time": "2023-03-15T08:37:20.111Z"
   },
   {
    "duration": 141,
    "start_time": "2023-03-15T08:37:50.451Z"
   },
   {
    "duration": 163,
    "start_time": "2023-03-15T08:39:11.338Z"
   },
   {
    "duration": 5,
    "start_time": "2023-03-15T08:39:54.760Z"
   },
   {
    "duration": 107,
    "start_time": "2023-03-15T08:53:00.816Z"
   },
   {
    "duration": 1705,
    "start_time": "2023-03-15T08:53:08.814Z"
   },
   {
    "duration": 104,
    "start_time": "2023-03-15T08:59:10.699Z"
   },
   {
    "duration": 417,
    "start_time": "2023-03-15T08:59:24.717Z"
   },
   {
    "duration": 26,
    "start_time": "2023-03-15T08:59:38.677Z"
   },
   {
    "duration": 213,
    "start_time": "2023-03-15T09:05:08.823Z"
   },
   {
    "duration": 1595,
    "start_time": "2023-03-15T09:06:33.507Z"
   },
   {
    "duration": 17,
    "start_time": "2023-03-15T09:12:11.020Z"
   },
   {
    "duration": 2099,
    "start_time": "2023-03-15T09:13:03.671Z"
   },
   {
    "duration": 57,
    "start_time": "2023-03-15T09:15:24.158Z"
   },
   {
    "duration": 2177,
    "start_time": "2023-03-15T09:15:26.019Z"
   },
   {
    "duration": 9,
    "start_time": "2023-03-15T09:15:57.161Z"
   },
   {
    "duration": 2069,
    "start_time": "2023-03-15T09:15:59.111Z"
   },
   {
    "duration": 1605,
    "start_time": "2023-03-15T09:16:35.728Z"
   },
   {
    "duration": 165,
    "start_time": "2023-03-15T09:22:27.823Z"
   },
   {
    "duration": 169,
    "start_time": "2023-03-15T09:25:54.171Z"
   },
   {
    "duration": 141,
    "start_time": "2023-03-15T09:27:40.980Z"
   },
   {
    "duration": 13,
    "start_time": "2023-03-15T09:30:09.196Z"
   },
   {
    "duration": 16,
    "start_time": "2023-03-15T09:44:41.215Z"
   },
   {
    "duration": 273,
    "start_time": "2023-03-15T09:44:57.623Z"
   },
   {
    "duration": 303,
    "start_time": "2023-03-15T09:45:24.440Z"
   },
   {
    "duration": 230,
    "start_time": "2023-03-15T09:45:31.403Z"
   },
   {
    "duration": 293,
    "start_time": "2023-03-15T09:45:36.327Z"
   },
   {
    "duration": 296,
    "start_time": "2023-03-15T09:52:47.274Z"
   },
   {
    "duration": 358,
    "start_time": "2023-03-15T09:53:28.459Z"
   },
   {
    "duration": 386,
    "start_time": "2023-03-15T09:53:38.913Z"
   },
   {
    "duration": 454,
    "start_time": "2023-03-15T09:53:53.859Z"
   },
   {
    "duration": 404,
    "start_time": "2023-03-15T09:54:01.658Z"
   },
   {
    "duration": 138,
    "start_time": "2023-03-15T09:56:48.875Z"
   },
   {
    "duration": 245,
    "start_time": "2023-03-15T09:57:12.778Z"
   },
   {
    "duration": 158,
    "start_time": "2023-03-15T09:57:19.561Z"
   },
   {
    "duration": 1119,
    "start_time": "2023-03-15T10:01:23.272Z"
   },
   {
    "duration": 1135,
    "start_time": "2023-03-15T10:01:29.424Z"
   },
   {
    "duration": 1068,
    "start_time": "2023-03-15T10:01:35.916Z"
   },
   {
    "duration": 11,
    "start_time": "2023-03-15T10:01:46.116Z"
   },
   {
    "duration": 8,
    "start_time": "2023-03-15T10:02:26.371Z"
   },
   {
    "duration": 1196,
    "start_time": "2023-03-15T10:04:45.813Z"
   },
   {
    "duration": 1266,
    "start_time": "2023-03-15T10:05:18.532Z"
   },
   {
    "duration": 5,
    "start_time": "2023-03-15T10:07:13.963Z"
   },
   {
    "duration": 4,
    "start_time": "2023-03-15T10:07:54.912Z"
   },
   {
    "duration": 5,
    "start_time": "2023-03-15T10:07:57.941Z"
   },
   {
    "duration": 6,
    "start_time": "2023-03-15T10:08:01.556Z"
   },
   {
    "duration": 5,
    "start_time": "2023-03-15T10:08:43.824Z"
   },
   {
    "duration": 5,
    "start_time": "2023-03-15T10:08:47.132Z"
   },
   {
    "duration": 9,
    "start_time": "2023-03-15T10:09:23.852Z"
   },
   {
    "duration": 8,
    "start_time": "2023-03-15T10:09:35.039Z"
   },
   {
    "duration": 941,
    "start_time": "2023-03-15T10:10:17.586Z"
   },
   {
    "duration": 86,
    "start_time": "2023-03-15T10:10:18.529Z"
   },
   {
    "duration": 15,
    "start_time": "2023-03-15T10:10:18.617Z"
   },
   {
    "duration": 3,
    "start_time": "2023-03-15T10:10:18.634Z"
   },
   {
    "duration": 5,
    "start_time": "2023-03-15T10:10:18.640Z"
   },
   {
    "duration": 6,
    "start_time": "2023-03-15T10:10:18.646Z"
   },
   {
    "duration": 12,
    "start_time": "2023-03-15T10:10:18.653Z"
   },
   {
    "duration": 5,
    "start_time": "2023-03-15T10:10:18.667Z"
   },
   {
    "duration": 14,
    "start_time": "2023-03-15T10:10:18.674Z"
   },
   {
    "duration": 35,
    "start_time": "2023-03-15T10:10:18.690Z"
   },
   {
    "duration": 10,
    "start_time": "2023-03-15T10:10:18.727Z"
   },
   {
    "duration": 12,
    "start_time": "2023-03-15T10:10:18.738Z"
   },
   {
    "duration": 12,
    "start_time": "2023-03-15T10:10:18.752Z"
   },
   {
    "duration": 21,
    "start_time": "2023-03-15T10:10:18.766Z"
   },
   {
    "duration": 5,
    "start_time": "2023-03-15T10:10:18.788Z"
   },
   {
    "duration": 246,
    "start_time": "2023-03-15T10:10:18.794Z"
   },
   {
    "duration": 169,
    "start_time": "2023-03-15T10:10:19.042Z"
   },
   {
    "duration": 144,
    "start_time": "2023-03-15T10:10:19.212Z"
   },
   {
    "duration": 234,
    "start_time": "2023-03-15T10:10:19.358Z"
   },
   {
    "duration": 287,
    "start_time": "2023-03-15T10:10:19.594Z"
   },
   {
    "duration": 366,
    "start_time": "2023-03-15T10:10:19.882Z"
   },
   {
    "duration": 186,
    "start_time": "2023-03-15T10:10:20.250Z"
   },
   {
    "duration": 6,
    "start_time": "2023-03-15T10:10:20.440Z"
   },
   {
    "duration": 15,
    "start_time": "2023-03-15T10:10:20.447Z"
   },
   {
    "duration": 147,
    "start_time": "2023-03-15T10:10:20.464Z"
   },
   {
    "duration": 5,
    "start_time": "2023-03-15T10:10:20.612Z"
   },
   {
    "duration": 157,
    "start_time": "2023-03-15T10:10:20.618Z"
   },
   {
    "duration": 9,
    "start_time": "2023-03-15T10:10:20.778Z"
   },
   {
    "duration": 18,
    "start_time": "2023-03-15T10:10:20.789Z"
   },
   {
    "duration": 1345,
    "start_time": "2023-03-15T10:10:20.808Z"
   },
   {
    "duration": 24,
    "start_time": "2023-03-15T10:12:31.366Z"
   },
   {
    "duration": 1163,
    "start_time": "2023-03-15T10:15:34.624Z"
   },
   {
    "duration": 14,
    "start_time": "2023-03-15T10:15:54.673Z"
   },
   {
    "duration": 11,
    "start_time": "2023-03-15T10:19:48.473Z"
   },
   {
    "duration": 12,
    "start_time": "2023-03-15T10:20:36.033Z"
   },
   {
    "duration": 9,
    "start_time": "2023-03-15T10:20:48.113Z"
   },
   {
    "duration": 9,
    "start_time": "2023-03-15T10:20:51.629Z"
   },
   {
    "duration": 137,
    "start_time": "2023-03-15T10:26:28.249Z"
   },
   {
    "duration": 252,
    "start_time": "2023-03-15T10:26:40.739Z"
   },
   {
    "duration": 155,
    "start_time": "2023-03-15T10:26:46.522Z"
   },
   {
    "duration": 317,
    "start_time": "2023-03-15T10:27:22.031Z"
   },
   {
    "duration": 268,
    "start_time": "2023-03-15T10:27:30.826Z"
   },
   {
    "duration": 265,
    "start_time": "2023-03-15T10:27:59.122Z"
   },
   {
    "duration": 287,
    "start_time": "2023-03-15T10:28:17.779Z"
   },
   {
    "duration": 364,
    "start_time": "2023-03-15T10:28:25.021Z"
   },
   {
    "duration": 128,
    "start_time": "2023-03-15T10:28:42.305Z"
   },
   {
    "duration": 7,
    "start_time": "2023-03-15T10:29:02.845Z"
   },
   {
    "duration": 124,
    "start_time": "2023-03-15T10:29:06.544Z"
   },
   {
    "duration": 12,
    "start_time": "2023-03-15T10:29:32.717Z"
   },
   {
    "duration": 11,
    "start_time": "2023-03-15T10:29:54.905Z"
   },
   {
    "duration": 76,
    "start_time": "2023-03-15T10:30:01.482Z"
   },
   {
    "duration": 87,
    "start_time": "2023-03-15T10:30:03.506Z"
   },
   {
    "duration": 144,
    "start_time": "2023-03-15T10:30:07.471Z"
   },
   {
    "duration": 343,
    "start_time": "2023-03-15T10:31:56.365Z"
   },
   {
    "duration": 327,
    "start_time": "2023-03-15T10:32:01.901Z"
   },
   {
    "duration": 266,
    "start_time": "2023-03-15T10:32:05.939Z"
   },
   {
    "duration": 462,
    "start_time": "2023-03-15T10:32:09.920Z"
   },
   {
    "duration": 117,
    "start_time": "2023-03-15T10:32:14.024Z"
   },
   {
    "duration": 75,
    "start_time": "2023-03-15T10:32:17.125Z"
   },
   {
    "duration": 130,
    "start_time": "2023-03-15T10:32:22.850Z"
   },
   {
    "duration": 11,
    "start_time": "2023-03-15T11:04:50.973Z"
   },
   {
    "duration": 12,
    "start_time": "2023-03-15T11:05:31.238Z"
   },
   {
    "duration": 10,
    "start_time": "2023-03-15T11:06:06.955Z"
   },
   {
    "duration": 4,
    "start_time": "2023-03-15T11:10:09.267Z"
   },
   {
    "duration": 4,
    "start_time": "2023-03-15T11:11:16.288Z"
   },
   {
    "duration": 5,
    "start_time": "2023-03-15T11:11:26.007Z"
   },
   {
    "duration": 74,
    "start_time": "2023-03-15T11:14:19.309Z"
   },
   {
    "duration": 26,
    "start_time": "2023-03-15T11:14:29.228Z"
   },
   {
    "duration": 15,
    "start_time": "2023-03-15T11:18:56.524Z"
   },
   {
    "duration": 287,
    "start_time": "2023-03-15T13:35:18.325Z"
   },
   {
    "duration": 266,
    "start_time": "2023-03-15T13:35:32.622Z"
   },
   {
    "duration": 274,
    "start_time": "2023-03-15T13:35:36.208Z"
   },
   {
    "duration": 278,
    "start_time": "2023-03-15T13:36:28.305Z"
   },
   {
    "duration": 255,
    "start_time": "2023-03-15T13:36:34.565Z"
   },
   {
    "duration": 265,
    "start_time": "2023-03-15T13:36:40.507Z"
   },
   {
    "duration": 368,
    "start_time": "2023-03-15T13:37:21.703Z"
   },
   {
    "duration": 367,
    "start_time": "2023-03-15T13:37:33.142Z"
   },
   {
    "duration": 375,
    "start_time": "2023-03-15T13:39:12.908Z"
   },
   {
    "duration": 286,
    "start_time": "2023-03-15T13:39:17.730Z"
   },
   {
    "duration": 393,
    "start_time": "2023-03-15T13:40:00.310Z"
   },
   {
    "duration": 135,
    "start_time": "2023-03-15T13:40:57.814Z"
   },
   {
    "duration": 124,
    "start_time": "2023-03-15T13:42:11.802Z"
   },
   {
    "duration": 135,
    "start_time": "2023-03-15T13:42:27.001Z"
   },
   {
    "duration": 135,
    "start_time": "2023-03-15T13:42:57.596Z"
   },
   {
    "duration": 148,
    "start_time": "2023-03-15T13:43:32.306Z"
   },
   {
    "duration": 142,
    "start_time": "2023-03-15T13:43:35.773Z"
   },
   {
    "duration": 152,
    "start_time": "2023-03-15T13:43:58.316Z"
   },
   {
    "duration": 164,
    "start_time": "2023-03-15T13:45:01.906Z"
   },
   {
    "duration": 166,
    "start_time": "2023-03-15T13:45:13.126Z"
   },
   {
    "duration": 179,
    "start_time": "2023-03-15T13:45:23.734Z"
   },
   {
    "duration": 988,
    "start_time": "2023-03-15T13:52:50.700Z"
   },
   {
    "duration": 78,
    "start_time": "2023-03-15T13:52:51.690Z"
   },
   {
    "duration": 10,
    "start_time": "2023-03-15T13:52:51.770Z"
   },
   {
    "duration": 6,
    "start_time": "2023-03-15T13:52:51.782Z"
   },
   {
    "duration": 8,
    "start_time": "2023-03-15T13:52:51.790Z"
   },
   {
    "duration": 11,
    "start_time": "2023-03-15T13:52:51.799Z"
   },
   {
    "duration": 20,
    "start_time": "2023-03-15T13:52:51.812Z"
   },
   {
    "duration": 9,
    "start_time": "2023-03-15T13:52:51.833Z"
   },
   {
    "duration": 13,
    "start_time": "2023-03-15T13:52:51.843Z"
   },
   {
    "duration": 36,
    "start_time": "2023-03-15T13:52:51.858Z"
   },
   {
    "duration": 10,
    "start_time": "2023-03-15T13:52:51.895Z"
   },
   {
    "duration": 10,
    "start_time": "2023-03-15T13:52:51.906Z"
   },
   {
    "duration": 13,
    "start_time": "2023-03-15T13:52:51.917Z"
   },
   {
    "duration": 16,
    "start_time": "2023-03-15T13:52:51.931Z"
   },
   {
    "duration": 6,
    "start_time": "2023-03-15T13:52:51.948Z"
   },
   {
    "duration": 245,
    "start_time": "2023-03-15T13:52:51.956Z"
   },
   {
    "duration": 305,
    "start_time": "2023-03-15T13:52:52.203Z"
   },
   {
    "duration": 283,
    "start_time": "2023-03-15T13:52:52.510Z"
   },
   {
    "duration": 349,
    "start_time": "2023-03-15T13:52:52.794Z"
   },
   {
    "duration": 296,
    "start_time": "2023-03-15T13:52:53.144Z"
   },
   {
    "duration": 357,
    "start_time": "2023-03-15T13:52:53.442Z"
   },
   {
    "duration": 9,
    "start_time": "2023-03-15T13:52:53.801Z"
   },
   {
    "duration": 146,
    "start_time": "2023-03-15T13:52:53.812Z"
   },
   {
    "duration": 5,
    "start_time": "2023-03-15T13:52:53.960Z"
   },
   {
    "duration": 158,
    "start_time": "2023-03-15T13:52:53.966Z"
   },
   {
    "duration": 190,
    "start_time": "2023-03-15T13:52:54.125Z"
   },
   {
    "duration": 5,
    "start_time": "2023-03-15T13:52:54.316Z"
   },
   {
    "duration": 138,
    "start_time": "2023-03-15T13:52:54.324Z"
   },
   {
    "duration": 9,
    "start_time": "2023-03-15T13:52:54.463Z"
   },
   {
    "duration": 13,
    "start_time": "2023-03-15T13:52:54.473Z"
   },
   {
    "duration": 5,
    "start_time": "2023-03-15T13:52:54.487Z"
   },
   {
    "duration": 29,
    "start_time": "2023-03-15T13:52:54.493Z"
   },
   {
    "duration": 26,
    "start_time": "2023-03-15T13:52:54.523Z"
   },
   {
    "duration": 3,
    "start_time": "2023-03-15T13:54:16.324Z"
   },
   {
    "duration": 5,
    "start_time": "2023-03-15T13:54:19.155Z"
   },
   {
    "duration": 1146,
    "start_time": "2023-03-15T16:49:49.045Z"
   },
   {
    "duration": 102,
    "start_time": "2023-03-15T16:49:50.195Z"
   },
   {
    "duration": 16,
    "start_time": "2023-03-15T16:49:50.301Z"
   },
   {
    "duration": 3,
    "start_time": "2023-03-15T16:49:50.319Z"
   },
   {
    "duration": 6,
    "start_time": "2023-03-15T16:49:50.324Z"
   },
   {
    "duration": 6,
    "start_time": "2023-03-15T16:49:50.331Z"
   },
   {
    "duration": 14,
    "start_time": "2023-03-15T16:49:50.339Z"
   },
   {
    "duration": 8,
    "start_time": "2023-03-15T16:49:50.355Z"
   },
   {
    "duration": 59,
    "start_time": "2023-03-15T16:49:50.364Z"
   },
   {
    "duration": 47,
    "start_time": "2023-03-15T16:49:50.426Z"
   },
   {
    "duration": 14,
    "start_time": "2023-03-15T16:49:50.475Z"
   },
   {
    "duration": 31,
    "start_time": "2023-03-15T16:49:50.491Z"
   },
   {
    "duration": 15,
    "start_time": "2023-03-15T16:49:50.524Z"
   },
   {
    "duration": 20,
    "start_time": "2023-03-15T16:49:50.541Z"
   },
   {
    "duration": 5,
    "start_time": "2023-03-15T16:49:50.562Z"
   },
   {
    "duration": 345,
    "start_time": "2023-03-15T16:49:50.569Z"
   },
   {
    "duration": 346,
    "start_time": "2023-03-15T16:49:50.916Z"
   },
   {
    "duration": 353,
    "start_time": "2023-03-15T16:49:51.263Z"
   },
   {
    "duration": 399,
    "start_time": "2023-03-15T16:49:51.617Z"
   },
   {
    "duration": 342,
    "start_time": "2023-03-15T16:49:52.017Z"
   },
   {
    "duration": 475,
    "start_time": "2023-03-15T16:49:52.360Z"
   },
   {
    "duration": 12,
    "start_time": "2023-03-15T16:49:52.837Z"
   },
   {
    "duration": 232,
    "start_time": "2023-03-15T16:49:52.850Z"
   },
   {
    "duration": 7,
    "start_time": "2023-03-15T16:49:53.084Z"
   },
   {
    "duration": 224,
    "start_time": "2023-03-15T16:49:53.093Z"
   },
   {
    "duration": 249,
    "start_time": "2023-03-15T16:49:53.320Z"
   },
   {
    "duration": 7,
    "start_time": "2023-03-15T16:49:53.571Z"
   },
   {
    "duration": 235,
    "start_time": "2023-03-15T16:49:53.582Z"
   },
   {
    "duration": 10,
    "start_time": "2023-03-15T16:49:53.819Z"
   },
   {
    "duration": 13,
    "start_time": "2023-03-15T16:49:53.831Z"
   },
   {
    "duration": 16,
    "start_time": "2023-03-15T16:49:53.845Z"
   },
   {
    "duration": 75,
    "start_time": "2023-03-15T16:49:53.863Z"
   },
   {
    "duration": 17,
    "start_time": "2023-03-15T16:49:53.939Z"
   },
   {
    "duration": 101,
    "start_time": "2023-03-15T17:11:35.499Z"
   },
   {
    "duration": 48,
    "start_time": "2023-03-16T10:32:11.315Z"
   },
   {
    "duration": 1224,
    "start_time": "2023-03-16T10:32:16.422Z"
   },
   {
    "duration": 144,
    "start_time": "2023-03-16T10:32:17.648Z"
   },
   {
    "duration": 13,
    "start_time": "2023-03-16T10:32:17.794Z"
   },
   {
    "duration": 3,
    "start_time": "2023-03-16T10:32:17.809Z"
   },
   {
    "duration": 4,
    "start_time": "2023-03-16T10:32:17.814Z"
   },
   {
    "duration": 6,
    "start_time": "2023-03-16T10:32:17.819Z"
   },
   {
    "duration": 6,
    "start_time": "2023-03-16T10:32:17.826Z"
   },
   {
    "duration": 11,
    "start_time": "2023-03-16T10:32:17.834Z"
   },
   {
    "duration": 6,
    "start_time": "2023-03-16T10:32:17.847Z"
   },
   {
    "duration": 13,
    "start_time": "2023-03-16T10:32:17.855Z"
   },
   {
    "duration": 90,
    "start_time": "2023-03-16T10:32:17.869Z"
   },
   {
    "duration": 12,
    "start_time": "2023-03-16T10:32:17.960Z"
   },
   {
    "duration": 9,
    "start_time": "2023-03-16T10:32:17.974Z"
   },
   {
    "duration": 15,
    "start_time": "2023-03-16T10:32:17.986Z"
   },
   {
    "duration": 76,
    "start_time": "2023-03-16T10:32:18.002Z"
   },
   {
    "duration": 6,
    "start_time": "2023-03-16T10:32:18.080Z"
   },
   {
    "duration": 267,
    "start_time": "2023-03-16T10:32:18.088Z"
   },
   {
    "duration": 332,
    "start_time": "2023-03-16T10:32:18.357Z"
   },
   {
    "duration": 317,
    "start_time": "2023-03-16T10:32:18.690Z"
   },
   {
    "duration": 443,
    "start_time": "2023-03-16T10:32:19.009Z"
   },
   {
    "duration": 343,
    "start_time": "2023-03-16T10:32:19.454Z"
   },
   {
    "duration": 432,
    "start_time": "2023-03-16T10:32:19.799Z"
   },
   {
    "duration": 11,
    "start_time": "2023-03-16T10:32:20.233Z"
   },
   {
    "duration": 192,
    "start_time": "2023-03-16T10:32:20.245Z"
   },
   {
    "duration": 5,
    "start_time": "2023-03-16T10:32:20.438Z"
   },
   {
    "duration": 190,
    "start_time": "2023-03-16T10:32:20.445Z"
   },
   {
    "duration": 197,
    "start_time": "2023-03-16T10:32:20.637Z"
   },
   {
    "duration": 6,
    "start_time": "2023-03-16T10:32:20.836Z"
   },
   {
    "duration": 169,
    "start_time": "2023-03-16T10:32:20.844Z"
   },
   {
    "duration": 10,
    "start_time": "2023-03-16T10:32:21.015Z"
   },
   {
    "duration": 19,
    "start_time": "2023-03-16T10:32:21.027Z"
   },
   {
    "duration": 16,
    "start_time": "2023-03-16T10:32:21.048Z"
   },
   {
    "duration": 47,
    "start_time": "2023-03-16T10:32:21.066Z"
   },
   {
    "duration": 13,
    "start_time": "2023-03-16T10:32:21.115Z"
   },
   {
    "duration": 5,
    "start_time": "2023-03-16T10:34:11.985Z"
   },
   {
    "duration": 401,
    "start_time": "2023-03-16T10:34:26.725Z"
   },
   {
    "duration": 343,
    "start_time": "2023-03-16T10:34:40.662Z"
   },
   {
    "duration": 11,
    "start_time": "2023-03-16T10:35:23.110Z"
   },
   {
    "duration": 13,
    "start_time": "2023-03-16T10:35:52.945Z"
   },
   {
    "duration": 324,
    "start_time": "2023-03-16T10:36:00.313Z"
   },
   {
    "duration": 1127,
    "start_time": "2023-03-16T10:36:18.374Z"
   },
   {
    "duration": 93,
    "start_time": "2023-03-16T10:36:19.503Z"
   },
   {
    "duration": 12,
    "start_time": "2023-03-16T10:36:19.598Z"
   },
   {
    "duration": 3,
    "start_time": "2023-03-16T10:36:19.611Z"
   },
   {
    "duration": 11,
    "start_time": "2023-03-16T10:36:19.616Z"
   },
   {
    "duration": 6,
    "start_time": "2023-03-16T10:36:19.629Z"
   },
   {
    "duration": 7,
    "start_time": "2023-03-16T10:36:19.636Z"
   },
   {
    "duration": 19,
    "start_time": "2023-03-16T10:36:19.645Z"
   },
   {
    "duration": 18,
    "start_time": "2023-03-16T10:36:19.666Z"
   },
   {
    "duration": 15,
    "start_time": "2023-03-16T10:36:19.686Z"
   },
   {
    "duration": 48,
    "start_time": "2023-03-16T10:36:19.702Z"
   },
   {
    "duration": 12,
    "start_time": "2023-03-16T10:36:19.751Z"
   },
   {
    "duration": 21,
    "start_time": "2023-03-16T10:36:19.764Z"
   },
   {
    "duration": 12,
    "start_time": "2023-03-16T10:36:19.789Z"
   },
   {
    "duration": 14,
    "start_time": "2023-03-16T10:36:19.803Z"
   },
   {
    "duration": 30,
    "start_time": "2023-03-16T10:36:19.819Z"
   },
   {
    "duration": 5,
    "start_time": "2023-03-16T10:36:19.850Z"
   },
   {
    "duration": 685,
    "start_time": "2023-03-16T10:36:19.857Z"
   },
   {
    "duration": 0,
    "start_time": "2023-03-16T10:36:20.544Z"
   },
   {
    "duration": 0,
    "start_time": "2023-03-16T10:36:20.545Z"
   },
   {
    "duration": 0,
    "start_time": "2023-03-16T10:36:20.546Z"
   },
   {
    "duration": 0,
    "start_time": "2023-03-16T10:36:20.547Z"
   },
   {
    "duration": 0,
    "start_time": "2023-03-16T10:36:20.548Z"
   },
   {
    "duration": 0,
    "start_time": "2023-03-16T10:36:20.549Z"
   },
   {
    "duration": 0,
    "start_time": "2023-03-16T10:36:20.550Z"
   },
   {
    "duration": 0,
    "start_time": "2023-03-16T10:36:20.551Z"
   },
   {
    "duration": 0,
    "start_time": "2023-03-16T10:36:20.552Z"
   },
   {
    "duration": 0,
    "start_time": "2023-03-16T10:36:20.554Z"
   },
   {
    "duration": 0,
    "start_time": "2023-03-16T10:36:20.555Z"
   },
   {
    "duration": 0,
    "start_time": "2023-03-16T10:36:20.556Z"
   },
   {
    "duration": 0,
    "start_time": "2023-03-16T10:36:20.557Z"
   },
   {
    "duration": 0,
    "start_time": "2023-03-16T10:36:20.558Z"
   },
   {
    "duration": 0,
    "start_time": "2023-03-16T10:36:20.559Z"
   },
   {
    "duration": 0,
    "start_time": "2023-03-16T10:36:20.560Z"
   },
   {
    "duration": 0,
    "start_time": "2023-03-16T10:36:20.561Z"
   },
   {
    "duration": 10,
    "start_time": "2023-03-16T10:36:41.762Z"
   },
   {
    "duration": 4,
    "start_time": "2023-03-16T10:37:36.373Z"
   },
   {
    "duration": 12,
    "start_time": "2023-03-16T10:37:45.294Z"
   },
   {
    "duration": 10,
    "start_time": "2023-03-16T10:38:39.005Z"
   },
   {
    "duration": 5,
    "start_time": "2023-03-16T10:38:44.354Z"
   },
   {
    "duration": 7,
    "start_time": "2023-03-16T10:39:34.593Z"
   },
   {
    "duration": 5,
    "start_time": "2023-03-16T10:40:05.777Z"
   },
   {
    "duration": 9,
    "start_time": "2023-03-16T10:41:01.494Z"
   },
   {
    "duration": 19,
    "start_time": "2023-03-16T10:42:34.013Z"
   },
   {
    "duration": 6,
    "start_time": "2023-03-16T10:43:04.913Z"
   },
   {
    "duration": 6,
    "start_time": "2023-03-16T10:44:11.115Z"
   },
   {
    "duration": 14,
    "start_time": "2023-03-16T10:44:38.691Z"
   },
   {
    "duration": 15,
    "start_time": "2023-03-16T10:45:17.469Z"
   },
   {
    "duration": 18,
    "start_time": "2023-03-16T10:45:27.577Z"
   },
   {
    "duration": 1010,
    "start_time": "2023-03-16T10:47:40.254Z"
   },
   {
    "duration": 69,
    "start_time": "2023-03-16T10:47:41.266Z"
   },
   {
    "duration": 12,
    "start_time": "2023-03-16T10:47:41.337Z"
   },
   {
    "duration": 4,
    "start_time": "2023-03-16T10:47:41.351Z"
   },
   {
    "duration": 18,
    "start_time": "2023-03-16T10:47:41.357Z"
   },
   {
    "duration": 11,
    "start_time": "2023-03-16T10:47:41.377Z"
   },
   {
    "duration": 25,
    "start_time": "2023-03-16T10:47:41.389Z"
   },
   {
    "duration": 11,
    "start_time": "2023-03-16T10:47:41.416Z"
   },
   {
    "duration": 25,
    "start_time": "2023-03-16T10:47:41.429Z"
   },
   {
    "duration": 19,
    "start_time": "2023-03-16T10:47:41.455Z"
   },
   {
    "duration": 57,
    "start_time": "2023-03-16T10:47:41.476Z"
   },
   {
    "duration": 16,
    "start_time": "2023-03-16T10:47:41.535Z"
   },
   {
    "duration": 16,
    "start_time": "2023-03-16T10:47:41.553Z"
   },
   {
    "duration": 18,
    "start_time": "2023-03-16T10:47:41.573Z"
   },
   {
    "duration": 11,
    "start_time": "2023-03-16T10:47:41.593Z"
   },
   {
    "duration": 23,
    "start_time": "2023-03-16T10:47:41.606Z"
   },
   {
    "duration": 6,
    "start_time": "2023-03-16T10:47:41.631Z"
   },
   {
    "duration": 26,
    "start_time": "2023-03-16T10:47:41.638Z"
   },
   {
    "duration": 17,
    "start_time": "2023-03-16T10:47:41.666Z"
   },
   {
    "duration": 12,
    "start_time": "2023-03-16T10:47:41.684Z"
   },
   {
    "duration": 14,
    "start_time": "2023-03-16T10:47:41.697Z"
   },
   {
    "duration": 45,
    "start_time": "2023-03-16T10:47:41.712Z"
   },
   {
    "duration": 29,
    "start_time": "2023-03-16T10:47:41.759Z"
   },
   {
    "duration": 281,
    "start_time": "2023-03-16T10:47:41.790Z"
   },
   {
    "duration": 321,
    "start_time": "2023-03-16T10:47:42.073Z"
   },
   {
    "duration": 240,
    "start_time": "2023-03-16T10:47:42.396Z"
   },
   {
    "duration": 325,
    "start_time": "2023-03-16T10:47:42.638Z"
   },
   {
    "duration": 250,
    "start_time": "2023-03-16T10:47:42.966Z"
   },
   {
    "duration": 318,
    "start_time": "2023-03-16T10:47:43.218Z"
   },
   {
    "duration": 13,
    "start_time": "2023-03-16T10:47:43.538Z"
   },
   {
    "duration": 177,
    "start_time": "2023-03-16T10:47:43.553Z"
   },
   {
    "duration": 5,
    "start_time": "2023-03-16T10:47:43.731Z"
   },
   {
    "duration": 173,
    "start_time": "2023-03-16T10:47:43.738Z"
   },
   {
    "duration": 209,
    "start_time": "2023-03-16T10:47:43.913Z"
   },
   {
    "duration": 7,
    "start_time": "2023-03-16T10:47:44.124Z"
   },
   {
    "duration": 176,
    "start_time": "2023-03-16T10:47:44.133Z"
   },
   {
    "duration": 15,
    "start_time": "2023-03-16T10:47:44.313Z"
   },
   {
    "duration": 9,
    "start_time": "2023-03-16T10:47:44.330Z"
   },
   {
    "duration": 21,
    "start_time": "2023-03-16T10:47:44.340Z"
   },
   {
    "duration": 45,
    "start_time": "2023-03-16T10:47:44.363Z"
   },
   {
    "duration": 15,
    "start_time": "2023-03-16T10:47:44.411Z"
   },
   {
    "duration": 6,
    "start_time": "2023-03-16T10:49:30.732Z"
   },
   {
    "duration": 74,
    "start_time": "2023-03-16T11:04:18.341Z"
   },
   {
    "duration": 4,
    "start_time": "2023-03-16T11:05:26.421Z"
   },
   {
    "duration": 11,
    "start_time": "2023-03-16T11:05:26.542Z"
   }
  ],
  "kernelspec": {
   "display_name": "Python 3 (ipykernel)",
   "language": "python",
   "name": "python3"
  },
  "language_info": {
   "codemirror_mode": {
    "name": "ipython",
    "version": 3
   },
   "file_extension": ".py",
   "mimetype": "text/x-python",
   "name": "python",
   "nbconvert_exporter": "python",
   "pygments_lexer": "ipython3",
   "version": "3.9.13"
  },
  "toc": {
   "base_numbering": 1,
   "nav_menu": {},
   "number_sections": true,
   "sideBar": true,
   "skip_h1_title": true,
   "title_cell": "Table of Contents",
   "title_sidebar": "Contents",
   "toc_cell": false,
   "toc_position": {},
   "toc_section_display": true,
   "toc_window_display": false
  }
 },
 "nbformat": 4,
 "nbformat_minor": 2
}
