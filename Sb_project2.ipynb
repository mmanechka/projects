{
 "cells": [
  {
   "cell_type": "markdown",
   "id": "9f1c25a5",
   "metadata": {},
   "source": [
    "# Сборный проект №2"
   ]
  },
  {
   "cell_type": "markdown",
   "id": "77375675",
   "metadata": {},
   "source": [
    "### Анализ воронки поведения пользователей и проведение А/А/Б теста"
   ]
  },
  {
   "cell_type": "markdown",
   "id": "8d10aebe",
   "metadata": {},
   "source": [
    "\n",
    "**Описание исследования.**\n",
    "    \n",
    "Стартап, продающий продукты питания решил проанализировать какие действия совершают пользователи и построить воронку на основе этих данных. Так же, в качестве эксперемента был изменен шрифт для группы пользователей. Необходимо проверить, повлекло ли это нововведение изменение в активности покупателей.\n",
    "_____\n",
    "**Цель исследования.**\n",
    "    \n",
    "Целью исследования является анализ действий пользователей и построение воронки. Анализ групп А/А/В теста и проверка различий между исследуемыми группами.\n",
    "    \n",
    "_____\n",
    "**Задачи исследования. Первая часть**\n",
    "В рамках данной работы будут даны ответы на следующие вопросы:\n",
    "\n",
    "* Сколько всего событий в логе?\n",
    "* Сколько всего пользователей в логе?\n",
    "* Сколько в среднем событий приходится на пользователя?\n",
    "* Данными за какой период вы располагаете? Найдите максимальную и минимальную дату. Постройте гистограмму по дате и времени. * * Можно ли быть уверенным, что у вас одинаково полные данные за весь период? Технически в логи новых дней по некоторым пользователям могут «доезжать» события из прошлого — это может «перекашивать данные». Определите, с какого момента данные * * полные и отбросьте более старые. Данными за какой период времени вы располагаете на самом деле?\n",
    "* Много ли событий и пользователей вы потеряли, отбросив старые данные?\n",
    "* Проверьте, что у вас есть пользователи из всех трёх экспериментальных групп.\n",
    "* Посмотрите, какие события есть в логах, как часто они встречаются. Отсортируйте события по частоте.\n",
    "* Посчитайте, сколько пользователей совершали каждое из этих событий. Отсортируйте события по числу пользователей. Посчитайте долю пользователей, которые хоть раз совершали событие.\n",
    "* Предположите, в каком порядке происходят события. Все ли они выстраиваются в последовательную цепочку? Их не нужно учитывать при расчёте воронки.\n",
    "* По воронке событий посчитайте, какая доля пользователей проходит на следующий шаг воронки (от числа пользователей на предыдущем). То есть для последовательности событий A → B → C посчитайте отношение числа пользователей с событием B к количеству пользователей с событием A, а также отношение числа пользователей с событием C к количеству пользователей с событием B.\n",
    "* На каком шаге теряете больше всего пользователей?\n",
    "* Какая доля пользователей доходит от первого события до оплаты?\n",
    "\n",
    "**Задачи исследования. Вторая часть**\n",
    "* Сколько пользователей в каждой экспериментальной группе?\n",
    "* Есть 2 контрольные группы для А/А-эксперимента, чтобы проверить корректность всех механизмов и расчётов. Проверьте, находят ли статистические критерии разницу между выборками 246 и 247.\n",
    "* Выберите самое популярное событие. Посчитайте число пользователей, совершивших это событие в каждой из контрольных групп. Посчитайте долю пользователей, совершивших это событие. Проверьте, будет ли отличие между группами статистически достоверным. Проделайте то же самое для всех других событий (удобно обернуть проверку в отдельную функцию). Можно ли сказать, что разбиение на группы работает корректно?\n",
    "* Аналогично поступите с группой с изменённым шрифтом. Сравните результаты с каждой из контрольных групп в отдельности по каждому событию. Сравните результаты с объединённой контрольной группой. Какие выводы из эксперимента можно сделать?"
   ]
  },
  {
   "cell_type": "code",
   "execution_count": 1,
   "id": "f92096e4",
   "metadata": {},
   "outputs": [],
   "source": [
    "import pandas as pd\n",
    "import scipy.stats as stats\n",
    "import datetime as dt\n",
    "import numpy as np\n",
    "import matplotlib.pyplot as plt\n",
    "from scipy import stats as st\n",
    "import math as mth"
   ]
  },
  {
   "cell_type": "markdown",
   "id": "446e4cc2",
   "metadata": {},
   "source": [
    "### Загрузка и подготовка данных для исследования"
   ]
  },
  {
   "cell_type": "code",
   "execution_count": 2,
   "id": "fe470d86",
   "metadata": {},
   "outputs": [],
   "source": [
    "try:\n",
    "    df = pd.read_csv('/datasets/logs_exp.csv', sep=\"\\t\")\n",
    "except:\n",
    "     df = pd.read_csv('/Users/temp/Desktop/projects/logs_exp.csv', sep=\"\\t\")"
   ]
  },
  {
   "cell_type": "code",
   "execution_count": 3,
   "id": "27df9f4a",
   "metadata": {},
   "outputs": [
    {
     "data": {
      "text/html": [
       "<div>\n",
       "<style scoped>\n",
       "    .dataframe tbody tr th:only-of-type {\n",
       "        vertical-align: middle;\n",
       "    }\n",
       "\n",
       "    .dataframe tbody tr th {\n",
       "        vertical-align: top;\n",
       "    }\n",
       "\n",
       "    .dataframe thead th {\n",
       "        text-align: right;\n",
       "    }\n",
       "</style>\n",
       "<table border=\"1\" class=\"dataframe\">\n",
       "  <thead>\n",
       "    <tr style=\"text-align: right;\">\n",
       "      <th></th>\n",
       "      <th>EventName</th>\n",
       "      <th>DeviceIDHash</th>\n",
       "      <th>EventTimestamp</th>\n",
       "      <th>ExpId</th>\n",
       "    </tr>\n",
       "  </thead>\n",
       "  <tbody>\n",
       "    <tr>\n",
       "      <th>0</th>\n",
       "      <td>MainScreenAppear</td>\n",
       "      <td>4575588528974610257</td>\n",
       "      <td>1564029816</td>\n",
       "      <td>246</td>\n",
       "    </tr>\n",
       "    <tr>\n",
       "      <th>1</th>\n",
       "      <td>MainScreenAppear</td>\n",
       "      <td>7416695313311560658</td>\n",
       "      <td>1564053102</td>\n",
       "      <td>246</td>\n",
       "    </tr>\n",
       "    <tr>\n",
       "      <th>2</th>\n",
       "      <td>PaymentScreenSuccessful</td>\n",
       "      <td>3518123091307005509</td>\n",
       "      <td>1564054127</td>\n",
       "      <td>248</td>\n",
       "    </tr>\n",
       "    <tr>\n",
       "      <th>3</th>\n",
       "      <td>CartScreenAppear</td>\n",
       "      <td>3518123091307005509</td>\n",
       "      <td>1564054127</td>\n",
       "      <td>248</td>\n",
       "    </tr>\n",
       "    <tr>\n",
       "      <th>4</th>\n",
       "      <td>PaymentScreenSuccessful</td>\n",
       "      <td>6217807653094995999</td>\n",
       "      <td>1564055322</td>\n",
       "      <td>248</td>\n",
       "    </tr>\n",
       "  </tbody>\n",
       "</table>\n",
       "</div>"
      ],
      "text/plain": [
       "                 EventName         DeviceIDHash  EventTimestamp  ExpId\n",
       "0         MainScreenAppear  4575588528974610257      1564029816    246\n",
       "1         MainScreenAppear  7416695313311560658      1564053102    246\n",
       "2  PaymentScreenSuccessful  3518123091307005509      1564054127    248\n",
       "3         CartScreenAppear  3518123091307005509      1564054127    248\n",
       "4  PaymentScreenSuccessful  6217807653094995999      1564055322    248"
      ]
     },
     "execution_count": 3,
     "metadata": {},
     "output_type": "execute_result"
    }
   ],
   "source": [
    "df.head()"
   ]
  },
  {
   "cell_type": "code",
   "execution_count": 4,
   "id": "56d6f31a",
   "metadata": {},
   "outputs": [
    {
     "name": "stdout",
     "output_type": "stream",
     "text": [
      "<class 'pandas.core.frame.DataFrame'>\n",
      "RangeIndex: 244126 entries, 0 to 244125\n",
      "Data columns (total 4 columns):\n",
      " #   Column          Non-Null Count   Dtype \n",
      "---  ------          --------------   ----- \n",
      " 0   EventName       244126 non-null  object\n",
      " 1   DeviceIDHash    244126 non-null  int64 \n",
      " 2   EventTimestamp  244126 non-null  int64 \n",
      " 3   ExpId           244126 non-null  int64 \n",
      "dtypes: int64(3), object(1)\n",
      "memory usage: 7.5+ MB\n"
     ]
    }
   ],
   "source": [
    "df.info()"
   ]
  },
  {
   "cell_type": "markdown",
   "id": "880b8822",
   "metadata": {},
   "source": [
    "Исправим заголовки"
   ]
  },
  {
   "cell_type": "code",
   "execution_count": 5,
   "id": "27616473",
   "metadata": {},
   "outputs": [],
   "source": [
    "df = df.rename(columns={'EventName':'event_name','DeviceIDHash':'device_id',\n",
    "                        'EventTimestamp':'date','ExpId':'group'})"
   ]
  },
  {
   "cell_type": "markdown",
   "id": "171acbb3",
   "metadata": {},
   "source": [
    "Создадим столбец с датой"
   ]
  },
  {
   "cell_type": "code",
   "execution_count": 6,
   "id": "88950a6d",
   "metadata": {},
   "outputs": [],
   "source": [
    "df['date_t'] = pd.to_datetime(df['date'],unit='s')"
   ]
  },
  {
   "cell_type": "markdown",
   "id": "d1d7b11e",
   "metadata": {},
   "source": [
    "Приведем его к нужному формату"
   ]
  },
  {
   "cell_type": "code",
   "execution_count": 7,
   "id": "1ee7e84a",
   "metadata": {},
   "outputs": [],
   "source": [
    "df['date'] = df['date_t'].astype('datetime64[D]')"
   ]
  },
  {
   "cell_type": "code",
   "execution_count": 8,
   "id": "046462e8",
   "metadata": {},
   "outputs": [
    {
     "name": "stdout",
     "output_type": "stream",
     "text": [
      "<class 'pandas.core.frame.DataFrame'>\n",
      "RangeIndex: 244126 entries, 0 to 244125\n",
      "Data columns (total 5 columns):\n",
      " #   Column      Non-Null Count   Dtype         \n",
      "---  ------      --------------   -----         \n",
      " 0   event_name  244126 non-null  object        \n",
      " 1   device_id   244126 non-null  int64         \n",
      " 2   date        244126 non-null  datetime64[ns]\n",
      " 3   group       244126 non-null  int64         \n",
      " 4   date_t      244126 non-null  datetime64[ns]\n",
      "dtypes: datetime64[ns](2), int64(2), object(1)\n",
      "memory usage: 9.3+ MB\n"
     ]
    }
   ],
   "source": [
    "df.info()"
   ]
  },
  {
   "cell_type": "markdown",
   "id": "ab18b09a",
   "metadata": {},
   "source": [
    "Все ОК с датой и временем"
   ]
  },
  {
   "cell_type": "markdown",
   "id": "6da9e944",
   "metadata": {},
   "source": [
    "Проверим пропуски"
   ]
  },
  {
   "cell_type": "code",
   "execution_count": 9,
   "id": "ba4f7a19",
   "metadata": {},
   "outputs": [
    {
     "data": {
      "text/plain": [
       "event_name    0\n",
       "device_id     0\n",
       "date          0\n",
       "group         0\n",
       "date_t        0\n",
       "dtype: int64"
      ]
     },
     "execution_count": 9,
     "metadata": {},
     "output_type": "execute_result"
    }
   ],
   "source": [
    "df.isna().sum()"
   ]
  },
  {
   "cell_type": "markdown",
   "id": "4a3a553b",
   "metadata": {},
   "source": [
    "Пропусков в данных нет"
   ]
  },
  {
   "cell_type": "markdown",
   "id": "a149ddee",
   "metadata": {},
   "source": [
    "Изучим данные на наличие явных дубликатов"
   ]
  },
  {
   "cell_type": "code",
   "execution_count": 10,
   "id": "3549368b",
   "metadata": {},
   "outputs": [
    {
     "data": {
      "text/plain": [
       "413"
      ]
     },
     "execution_count": 10,
     "metadata": {},
     "output_type": "execute_result"
    }
   ],
   "source": [
    "df.duplicated().sum()"
   ]
  },
  {
   "cell_type": "markdown",
   "id": "fc85dbec",
   "metadata": {},
   "source": [
    "Удалим дубликаты"
   ]
  },
  {
   "cell_type": "code",
   "execution_count": 11,
   "id": "4ed8c1b5",
   "metadata": {},
   "outputs": [],
   "source": [
    "df = df.drop_duplicates().reset_index(drop=True)\n"
   ]
  },
  {
   "cell_type": "code",
   "execution_count": 12,
   "id": "3b2b765f",
   "metadata": {},
   "outputs": [
    {
     "data": {
      "text/plain": [
       "0"
      ]
     },
     "execution_count": 12,
     "metadata": {},
     "output_type": "execute_result"
    }
   ],
   "source": [
    "df.duplicated().sum()"
   ]
  },
  {
   "cell_type": "markdown",
   "id": "5047d849",
   "metadata": {},
   "source": [
    "Явных дубликатов нет"
   ]
  },
  {
   "cell_type": "markdown",
   "id": "7e9daa86",
   "metadata": {},
   "source": [
    "Проверим, есть ли одинаковые пользователи в разных группах"
   ]
  },
  {
   "cell_type": "code",
   "execution_count": 13,
   "id": "5a763197",
   "metadata": {},
   "outputs": [
    {
     "data": {
      "text/plain": [
       "group    0\n",
       "dtype: int64"
      ]
     },
     "execution_count": 13,
     "metadata": {},
     "output_type": "execute_result"
    }
   ],
   "source": [
    "df.groupby('device_id').agg({'group' : 'nunique'}).query('group>1').count()"
   ]
  },
  {
   "cell_type": "markdown",
   "id": "dfd24a51",
   "metadata": {},
   "source": [
    "Их нет"
   ]
  },
  {
   "cell_type": "code",
   "execution_count": 14,
   "id": "a8682545",
   "metadata": {},
   "outputs": [],
   "source": [
    "df['group'] = df['group'].replace(246, 'A1')\n",
    "df['group'] = df['group'].replace(247, 'A2')\n",
    "df['group'] = df['group'].replace(248, 'B')"
   ]
  },
  {
   "cell_type": "markdown",
   "id": "2cbfbc2b",
   "metadata": {},
   "source": [
    "#### Вывод по части подготовки данных"
   ]
  },
  {
   "cell_type": "markdown",
   "id": "3bbd271d",
   "metadata": {},
   "source": [
    "Данные были загружены, приведены к нужному формату, удалены дубликаты, проверены пропуски. Это позволяет продолжать исследование"
   ]
  },
  {
   "cell_type": "markdown",
   "id": "5ff1fed4",
   "metadata": {},
   "source": [
    "### Изучение и проверка данных"
   ]
  },
  {
   "cell_type": "markdown",
   "id": "7b969dba",
   "metadata": {},
   "source": [
    "**Сколько всего событий в логе?**"
   ]
  },
  {
   "cell_type": "code",
   "execution_count": 15,
   "id": "8a73af6f",
   "metadata": {},
   "outputs": [
    {
     "name": "stdout",
     "output_type": "stream",
     "text": [
      "Количество событий в логе: 5\n"
     ]
    },
    {
     "data": {
      "text/plain": [
       "array(['MainScreenAppear', 'PaymentScreenSuccessful', 'CartScreenAppear',\n",
       "       'OffersScreenAppear', 'Tutorial'], dtype=object)"
      ]
     },
     "execution_count": 15,
     "metadata": {},
     "output_type": "execute_result"
    }
   ],
   "source": [
    "print('Количество событий в логе:',df['event_name'].nunique())\n",
    "df['event_name'].unique()"
   ]
  },
  {
   "cell_type": "markdown",
   "id": "f09bb927",
   "metadata": {},
   "source": [
    "Таким образом есть 5 видов событий: Появление основного экрана, Оплата прошла успешно, Появление корзины на экране, Появление товара на экране, Обучение."
   ]
  },
  {
   "cell_type": "markdown",
   "id": "c70b00c4",
   "metadata": {},
   "source": [
    "**Сколько всего пользователей в логе?**"
   ]
  },
  {
   "cell_type": "code",
   "execution_count": 16,
   "id": "2dabd690",
   "metadata": {},
   "outputs": [
    {
     "data": {
      "text/plain": [
       "7551"
      ]
     },
     "execution_count": 16,
     "metadata": {},
     "output_type": "execute_result"
    }
   ],
   "source": [
    "len(df['device_id'].unique())"
   ]
  },
  {
   "cell_type": "markdown",
   "id": "55e7d360",
   "metadata": {},
   "source": [
    "Всего 7751 пользователь"
   ]
  },
  {
   "cell_type": "markdown",
   "id": "500b45c4",
   "metadata": {},
   "source": [
    "**Сколько в среднем событий приходится на пользователя?**"
   ]
  },
  {
   "cell_type": "code",
   "execution_count": 17,
   "id": "a1cb774c",
   "metadata": {},
   "outputs": [
    {
     "data": {
      "text/plain": [
       "event_name    32.275593\n",
       "dtype: float64"
      ]
     },
     "execution_count": 17,
     "metadata": {},
     "output_type": "execute_result"
    }
   ],
   "source": [
    "df.groupby(by='device_id').agg({'event_name':'count'}).mean()"
   ]
  },
  {
   "cell_type": "markdown",
   "id": "78763edc",
   "metadata": {},
   "source": [
    "В среднем каждый пользоваль совершает 32 события, но так как среднее - это достаточно спорный показатель, то можно посмотреть также на медиану и на распределение"
   ]
  },
  {
   "cell_type": "code",
   "execution_count": 18,
   "id": "f148cef2",
   "metadata": {},
   "outputs": [
    {
     "data": {
      "text/plain": [
       "event_name    20.0\n",
       "dtype: float64"
      ]
     },
     "execution_count": 18,
     "metadata": {},
     "output_type": "execute_result"
    }
   ],
   "source": [
    "df.groupby(by='device_id').agg({'event_name':'count'}).median()"
   ]
  },
  {
   "cell_type": "markdown",
   "id": "57d629c8",
   "metadata": {},
   "source": [
    "50% пользователей совершают 20 событий"
   ]
  },
  {
   "cell_type": "code",
   "execution_count": 19,
   "id": "9a9e9be0",
   "metadata": {},
   "outputs": [
    {
     "data": {
      "image/png": "[encoded data removed]",
      "text/plain": [
       "<Figure size 1500x500 with 1 Axes>"
      ]
     },
     "metadata": {},
     "output_type": "display_data"
    }
   ],
   "source": [
    "plt.figure(figsize=(15,5))\n",
    "plt.axis([0,300,0,700])\n",
    "plt.hist(df.groupby(by='device_id').agg({'event_name':'count'})['event_name'],bins=1000);"
   ]
  },
  {
   "cell_type": "markdown",
   "id": "74a38c31",
   "metadata": {},
   "source": [
    "Логично, что больше всего пользователей совершают небольшое количество событий и исключением являются те, кто совершает много событий. Чрезмерно большое количество событий у небольшого количества пользователей не отражает реальную динамику событий. Все это влияет на среднее количество."
   ]
  },
  {
   "cell_type": "markdown",
   "id": "2f58a57a",
   "metadata": {},
   "source": [
    "**Данными за какой период вы располагаете?Найдите максимальную и минимальную дату.**"
   ]
  },
  {
   "cell_type": "code",
   "execution_count": 20,
   "id": "c4eeaeaf",
   "metadata": {},
   "outputs": [
    {
     "name": "stdout",
     "output_type": "stream",
     "text": [
      "Начало данных 2019-07-25 04:43:36\n",
      "Конец данных 2019-08-07 21:15:17\n"
     ]
    }
   ],
   "source": [
    "print('Начало данных', df['date_t'].min())\n",
    "print('Конец данных', df['date_t'].max())"
   ]
  },
  {
   "cell_type": "code",
   "execution_count": 21,
   "id": "d519adff",
   "metadata": {},
   "outputs": [
    {
     "name": "stdout",
     "output_type": "stream",
     "text": [
      "Длительность исследования 13 days 16:31:41\n"
     ]
    }
   ],
   "source": [
    "print('Длительность исследования',df['date_t'].max() - df['date_t'].min())"
   ]
  },
  {
   "cell_type": "markdown",
   "id": "2cee375f",
   "metadata": {},
   "source": [
    "исследование проводилось в течение 2-х недель"
   ]
  },
  {
   "cell_type": "markdown",
   "id": "9142a86c",
   "metadata": {},
   "source": [
    "**Постройте гистограмму по дате и времени. Можно ли быть уверенным, что у вас одинаково полные данные за весь период?**"
   ]
  },
  {
   "cell_type": "code",
   "execution_count": 22,
   "id": "6bc90e35",
   "metadata": {},
   "outputs": [
    {
     "data": {
      "image/png": "[encoded data removed]",
      "text/plain": [
       "<Figure size 1400x500 with 1 Axes>"
      ]
     },
     "metadata": {},
     "output_type": "display_data"
    }
   ],
   "source": [
    "df['date_t'].hist(bins=500, figsize=(14, 5));"
   ]
  },
  {
   "cell_type": "markdown",
   "id": "5f2bc260",
   "metadata": {},
   "source": [
    "Так как исследование начало 25 июля, то в начале посещений практически не было, низкие посещения были с 29 июля по 1 августа. После по каждому дню были высокие посещения. Спады в гистограмме - это видимо ночное время, когда люди спят и не совершают действия на сайте."
   ]
  },
  {
   "cell_type": "markdown",
   "id": "5661f191",
   "metadata": {},
   "source": [
    "Стоит предположить, что исследование было начато не 25 июля, а именно после 1 августа, когда начали изменения в активности. То есть реальная длительность исследования - неделя."
   ]
  },
  {
   "cell_type": "markdown",
   "id": "c8564763",
   "metadata": {},
   "source": [
    "Отсечем ненужны данных"
   ]
  },
  {
   "cell_type": "code",
   "execution_count": 23,
   "id": "9b39e175",
   "metadata": {},
   "outputs": [],
   "source": [
    "logs = df.loc[df['date'] >= '2019-08-01']"
   ]
  },
  {
   "cell_type": "code",
   "execution_count": 24,
   "id": "bfc78cf2",
   "metadata": {
    "scrolled": false
   },
   "outputs": [
    {
     "data": {
      "image/png": "[encoded data removed]",
      "text/plain": [
       "<Figure size 640x480 with 1 Axes>"
      ]
     },
     "metadata": {},
     "output_type": "display_data"
    }
   ],
   "source": [
    "logs['date'].hist(bins = 15)\n",
    "plt.xticks(rotation = 15) \n",
    "plt.show()"
   ]
  },
  {
   "cell_type": "markdown",
   "id": "a91f0481",
   "metadata": {},
   "source": [
    "По каждому дню примерно одинаковое распределение"
   ]
  },
  {
   "cell_type": "markdown",
   "id": "dc710e8a",
   "metadata": {},
   "source": [
    "**Много ли событий и пользователей вы потеряли, отбросив старые данные?**"
   ]
  },
  {
   "cell_type": "code",
   "execution_count": 25,
   "id": "da6aeaed",
   "metadata": {},
   "outputs": [
    {
     "name": "stdout",
     "output_type": "stream",
     "text": [
      "Доля отброшенных событий 0.012\n",
      "Число отброшенных событий 2826\n",
      "Доля отброшенных событий 0.002\n",
      "Число отброшенных событий 17\n"
     ]
    }
   ],
   "source": [
    "print('Доля отброшенных событий',round((1 - len(logs)/len(df)),3))\n",
    "print('Число отброшенных событий',len(df)-len(logs))\n",
    "print('Доля отброшенных событий',round((1 - logs['device_id'].nunique()/df['device_id'].nunique()),3))\n",
    "print('Число отброшенных событий',df['device_id'].nunique()-logs['device_id'].nunique())"
   ]
  },
  {
   "cell_type": "markdown",
   "id": "a13060b4",
   "metadata": {},
   "source": [
    "Доли отброшенных событий крайне мала"
   ]
  },
  {
   "cell_type": "markdown",
   "id": "fef0ed8e",
   "metadata": {},
   "source": [
    "**Проверьте, что у вас есть пользователи из всех трёх экспериментальных групп.**"
   ]
  },
  {
   "cell_type": "code",
   "execution_count": 26,
   "id": "a4940dc2",
   "metadata": {},
   "outputs": [
    {
     "data": {
      "text/html": [
       "<div>\n",
       "<style scoped>\n",
       "    .dataframe tbody tr th:only-of-type {\n",
       "        vertical-align: middle;\n",
       "    }\n",
       "\n",
       "    .dataframe tbody tr th {\n",
       "        vertical-align: top;\n",
       "    }\n",
       "\n",
       "    .dataframe thead th {\n",
       "        text-align: right;\n",
       "    }\n",
       "</style>\n",
       "<table border=\"1\" class=\"dataframe\">\n",
       "  <thead>\n",
       "    <tr style=\"text-align: right;\">\n",
       "      <th></th>\n",
       "      <th>device_id</th>\n",
       "    </tr>\n",
       "    <tr>\n",
       "      <th>group</th>\n",
       "      <th></th>\n",
       "    </tr>\n",
       "  </thead>\n",
       "  <tbody>\n",
       "    <tr>\n",
       "      <th>A1</th>\n",
       "      <td>2489</td>\n",
       "    </tr>\n",
       "    <tr>\n",
       "      <th>A2</th>\n",
       "      <td>2520</td>\n",
       "    </tr>\n",
       "    <tr>\n",
       "      <th>B</th>\n",
       "      <td>2542</td>\n",
       "    </tr>\n",
       "  </tbody>\n",
       "</table>\n",
       "</div>"
      ],
      "text/plain": [
       "       device_id\n",
       "group           \n",
       "A1          2489\n",
       "A2          2520\n",
       "B           2542"
      ]
     },
     "execution_count": 26,
     "metadata": {},
     "output_type": "execute_result"
    }
   ],
   "source": [
    "df.groupby(by='group').agg({'device_id':'nunique'})"
   ]
  },
  {
   "cell_type": "markdown",
   "id": "e6975a6e",
   "metadata": {},
   "source": [
    "Все три группы представлены в данных и данных по группам разнятся незначительно"
   ]
  },
  {
   "cell_type": "markdown",
   "id": "7fbfceda",
   "metadata": {},
   "source": [
    "## Построение воронок"
   ]
  },
  {
   "cell_type": "markdown",
   "id": "e57af0d6",
   "metadata": {},
   "source": [
    "#### Шаг 4. Изучите воронку событий"
   ]
  },
  {
   "cell_type": "markdown",
   "id": "3866e381",
   "metadata": {},
   "source": [
    "**Посмотрите, какие события есть в логах, как часто они встречаются. Отсортируйте события по частоте.**"
   ]
  },
  {
   "cell_type": "code",
   "execution_count": 27,
   "id": "86b1459c",
   "metadata": {},
   "outputs": [
    {
     "data": {
      "text/html": [
       "<div>\n",
       "<style scoped>\n",
       "    .dataframe tbody tr th:only-of-type {\n",
       "        vertical-align: middle;\n",
       "    }\n",
       "\n",
       "    .dataframe tbody tr th {\n",
       "        vertical-align: top;\n",
       "    }\n",
       "\n",
       "    .dataframe thead th {\n",
       "        text-align: right;\n",
       "    }\n",
       "</style>\n",
       "<table border=\"1\" class=\"dataframe\">\n",
       "  <thead>\n",
       "    <tr style=\"text-align: right;\">\n",
       "      <th></th>\n",
       "      <th>device_id</th>\n",
       "    </tr>\n",
       "    <tr>\n",
       "      <th>event_name</th>\n",
       "      <th></th>\n",
       "    </tr>\n",
       "  </thead>\n",
       "  <tbody>\n",
       "    <tr>\n",
       "      <th>MainScreenAppear</th>\n",
       "      <td>117328</td>\n",
       "    </tr>\n",
       "    <tr>\n",
       "      <th>OffersScreenAppear</th>\n",
       "      <td>46333</td>\n",
       "    </tr>\n",
       "    <tr>\n",
       "      <th>CartScreenAppear</th>\n",
       "      <td>42303</td>\n",
       "    </tr>\n",
       "    <tr>\n",
       "      <th>PaymentScreenSuccessful</th>\n",
       "      <td>33918</td>\n",
       "    </tr>\n",
       "    <tr>\n",
       "      <th>Tutorial</th>\n",
       "      <td>1005</td>\n",
       "    </tr>\n",
       "  </tbody>\n",
       "</table>\n",
       "</div>"
      ],
      "text/plain": [
       "                         device_id\n",
       "event_name                        \n",
       "MainScreenAppear            117328\n",
       "OffersScreenAppear           46333\n",
       "CartScreenAppear             42303\n",
       "PaymentScreenSuccessful      33918\n",
       "Tutorial                      1005"
      ]
     },
     "execution_count": 27,
     "metadata": {},
     "output_type": "execute_result"
    }
   ],
   "source": [
    "logs.groupby(by='event_name').agg({'device_id':'count'}).sort_values(by='device_id',ascending=False)"
   ]
  },
  {
   "cell_type": "markdown",
   "id": "60eea6bc",
   "metadata": {},
   "source": [
    "Чаще всего встречается - открытие главного экрана, с этого события начинается знакомство пользователя с приложением. Далее происходит событие - открытие товара, причем число на порядок ниже первого события. Далее идет переход в корзину и проведение оплаты. Обучение - это скорее всего какая-то помощь в использовании приложения, им пользуются крайне мало пользователей, похоже, что все понятно и так."
   ]
  },
  {
   "cell_type": "markdown",
   "id": "5922f17d",
   "metadata": {},
   "source": [
    "**Посчитайте, сколько пользователей совершали каждое из этих событий. Отсортируйте события по числу пользователей. Посчитайте долю пользователей, которые хоть раз совершали событие.**"
   ]
  },
  {
   "cell_type": "code",
   "execution_count": 28,
   "id": "f64443a1",
   "metadata": {},
   "outputs": [],
   "source": [
    "users = logs.groupby(by='event_name').agg({'device_id':'nunique'}).sort_values(by='device_id',ascending=False)\\\n",
    "                .rename(columns={'device_id':'amount_users'})\n",
    "users['percent'] = users['amount_users'] / logs['device_id'].nunique()"
   ]
  },
  {
   "cell_type": "code",
   "execution_count": 29,
   "id": "904a5ee3",
   "metadata": {},
   "outputs": [
    {
     "data": {
      "text/html": [
       "<div>\n",
       "<style scoped>\n",
       "    .dataframe tbody tr th:only-of-type {\n",
       "        vertical-align: middle;\n",
       "    }\n",
       "\n",
       "    .dataframe tbody tr th {\n",
       "        vertical-align: top;\n",
       "    }\n",
       "\n",
       "    .dataframe thead th {\n",
       "        text-align: right;\n",
       "    }\n",
       "</style>\n",
       "<table border=\"1\" class=\"dataframe\">\n",
       "  <thead>\n",
       "    <tr style=\"text-align: right;\">\n",
       "      <th></th>\n",
       "      <th>amount_users</th>\n",
       "      <th>percent</th>\n",
       "    </tr>\n",
       "    <tr>\n",
       "      <th>event_name</th>\n",
       "      <th></th>\n",
       "      <th></th>\n",
       "    </tr>\n",
       "  </thead>\n",
       "  <tbody>\n",
       "    <tr>\n",
       "      <th>MainScreenAppear</th>\n",
       "      <td>7419</td>\n",
       "      <td>0.984736</td>\n",
       "    </tr>\n",
       "    <tr>\n",
       "      <th>OffersScreenAppear</th>\n",
       "      <td>4593</td>\n",
       "      <td>0.609636</td>\n",
       "    </tr>\n",
       "    <tr>\n",
       "      <th>CartScreenAppear</th>\n",
       "      <td>3734</td>\n",
       "      <td>0.495620</td>\n",
       "    </tr>\n",
       "    <tr>\n",
       "      <th>PaymentScreenSuccessful</th>\n",
       "      <td>3539</td>\n",
       "      <td>0.469737</td>\n",
       "    </tr>\n",
       "    <tr>\n",
       "      <th>Tutorial</th>\n",
       "      <td>840</td>\n",
       "      <td>0.111495</td>\n",
       "    </tr>\n",
       "  </tbody>\n",
       "</table>\n",
       "</div>"
      ],
      "text/plain": [
       "                         amount_users   percent\n",
       "event_name                                     \n",
       "MainScreenAppear                 7419  0.984736\n",
       "OffersScreenAppear               4593  0.609636\n",
       "CartScreenAppear                 3734  0.495620\n",
       "PaymentScreenSuccessful          3539  0.469737\n",
       "Tutorial                          840  0.111495"
      ]
     },
     "execution_count": 29,
     "metadata": {},
     "output_type": "execute_result"
    }
   ],
   "source": [
    "users"
   ]
  },
  {
   "cell_type": "markdown",
   "id": "4afdb823",
   "metadata": {},
   "source": [
    "Более 98% пользователей зашли на главный экран. 1,1% пользователей не совершали вообще никаких действий в этот период"
   ]
  },
  {
   "cell_type": "code",
   "execution_count": 30,
   "id": "ff6f47e6",
   "metadata": {},
   "outputs": [
    {
     "data": {
      "text/plain": [
       "<BarContainer object of 5 artists>"
      ]
     },
     "execution_count": 30,
     "metadata": {},
     "output_type": "execute_result"
    },
    {
     "data": {
      "image/png": "[encoded data removed]",
      "text/plain": [
       "<Figure size 1500x500 with 1 Axes>"
      ]
     },
     "metadata": {},
     "output_type": "display_data"
    }
   ],
   "source": [
    "plt.figure(figsize=(15,5))\n",
    "plt.bar(x=users.index,height=users['amount_users'])"
   ]
  },
  {
   "cell_type": "markdown",
   "id": "1b557604",
   "metadata": {},
   "source": [
    "События расположены по убыванию взаимодействия пользователей. Радует то, большинство тех, кто положил товар в корзину, потом совершили покупку"
   ]
  },
  {
   "cell_type": "markdown",
   "id": "4b8dde05",
   "metadata": {},
   "source": [
    "**Предположите, в каком порядке происходят события. Все ли они выстраиваются в последовательную цепочку? Их не нужно учитывать при расчёте воронки.**"
   ]
  },
  {
   "cell_type": "markdown",
   "id": "9e67da5b",
   "metadata": {},
   "source": [
    "Составим последовательность событий у пользователей\n",
    "1) Открытие приложения и переход на главный экран\\\n",
    "2) Просмотр товара\\\n",
    "3) Добавление товара в корзину\\\n",
    "4) Оплата товара\n",
    "\n",
    "Обучение используется редко и связано скорее с поддержкой пользователей в процессе их покупки, если пользователю всё понятно, то он не обратиться за помощью"
   ]
  },
  {
   "cell_type": "markdown",
   "id": "a2ea9aed",
   "metadata": {},
   "source": [
    "**По воронке событий посчитайте, какая доля пользователей проходит на следующий шаг воронки**"
   ]
  },
  {
   "cell_type": "markdown",
   "id": "d4b18d81",
   "metadata": {},
   "source": [
    "Исключим обучение, так как это не воронка в привычном для нас понимании"
   ]
  },
  {
   "cell_type": "code",
   "execution_count": 31,
   "id": "2b4b5d15",
   "metadata": {},
   "outputs": [
    {
     "data": {
      "text/plain": [
       "array(['MainScreenAppear', 'OffersScreenAppear', 'CartScreenAppear',\n",
       "       'PaymentScreenSuccessful'], dtype=object)"
      ]
     },
     "execution_count": 31,
     "metadata": {},
     "output_type": "execute_result"
    }
   ],
   "source": [
    "funnel = logs.query('event_name != \"Tutorial\"')\n",
    "funnel['event_name'].unique()"
   ]
  },
  {
   "cell_type": "code",
   "execution_count": 32,
   "id": "ff27ec61",
   "metadata": {},
   "outputs": [
    {
     "data": {
      "text/html": [
       "<div>\n",
       "<style scoped>\n",
       "    .dataframe tbody tr th:only-of-type {\n",
       "        vertical-align: middle;\n",
       "    }\n",
       "\n",
       "    .dataframe tbody tr th {\n",
       "        vertical-align: top;\n",
       "    }\n",
       "\n",
       "    .dataframe thead th {\n",
       "        text-align: right;\n",
       "    }\n",
       "</style>\n",
       "<table border=\"1\" class=\"dataframe\">\n",
       "  <thead>\n",
       "    <tr style=\"text-align: right;\">\n",
       "      <th></th>\n",
       "      <th>amount_users</th>\n",
       "    </tr>\n",
       "    <tr>\n",
       "      <th>event_name</th>\n",
       "      <th></th>\n",
       "    </tr>\n",
       "  </thead>\n",
       "  <tbody>\n",
       "    <tr>\n",
       "      <th>MainScreenAppear</th>\n",
       "      <td>7419</td>\n",
       "    </tr>\n",
       "    <tr>\n",
       "      <th>OffersScreenAppear</th>\n",
       "      <td>4593</td>\n",
       "    </tr>\n",
       "    <tr>\n",
       "      <th>CartScreenAppear</th>\n",
       "      <td>3734</td>\n",
       "    </tr>\n",
       "    <tr>\n",
       "      <th>PaymentScreenSuccessful</th>\n",
       "      <td>3539</td>\n",
       "    </tr>\n",
       "  </tbody>\n",
       "</table>\n",
       "</div>"
      ],
      "text/plain": [
       "                         amount_users\n",
       "event_name                           \n",
       "MainScreenAppear                 7419\n",
       "OffersScreenAppear               4593\n",
       "CartScreenAppear                 3734\n",
       "PaymentScreenSuccessful          3539"
      ]
     },
     "execution_count": 32,
     "metadata": {},
     "output_type": "execute_result"
    }
   ],
   "source": [
    "funnel = funnel.groupby(by='event_name').agg({'device_id':'nunique'}).sort_values(by='device_id',ascending=False)\\\n",
    "                .rename(columns={'device_id':'amount_users'})\n",
    "funnel"
   ]
  },
  {
   "cell_type": "code",
   "execution_count": 33,
   "id": "30dfa9bb",
   "metadata": {},
   "outputs": [
    {
     "data": {
      "text/html": [
       "<div>\n",
       "<style scoped>\n",
       "    .dataframe tbody tr th:only-of-type {\n",
       "        vertical-align: middle;\n",
       "    }\n",
       "\n",
       "    .dataframe tbody tr th {\n",
       "        vertical-align: top;\n",
       "    }\n",
       "\n",
       "    .dataframe thead th {\n",
       "        text-align: right;\n",
       "    }\n",
       "</style>\n",
       "<table border=\"1\" class=\"dataframe\">\n",
       "  <thead>\n",
       "    <tr style=\"text-align: right;\">\n",
       "      <th></th>\n",
       "      <th>amount_users</th>\n",
       "      <th>retention</th>\n",
       "      <th>retention_amount</th>\n",
       "      <th>conversion</th>\n",
       "    </tr>\n",
       "    <tr>\n",
       "      <th>event_name</th>\n",
       "      <th></th>\n",
       "      <th></th>\n",
       "      <th></th>\n",
       "      <th></th>\n",
       "    </tr>\n",
       "  </thead>\n",
       "  <tbody>\n",
       "    <tr>\n",
       "      <th>MainScreenAppear</th>\n",
       "      <td>7419</td>\n",
       "      <td>NaN</td>\n",
       "      <td>NaN</td>\n",
       "      <td>99.0</td>\n",
       "    </tr>\n",
       "    <tr>\n",
       "      <th>OffersScreenAppear</th>\n",
       "      <td>4593</td>\n",
       "      <td>100.0</td>\n",
       "      <td>-2826.0</td>\n",
       "      <td>61.0</td>\n",
       "    </tr>\n",
       "    <tr>\n",
       "      <th>CartScreenAppear</th>\n",
       "      <td>3734</td>\n",
       "      <td>100.0</td>\n",
       "      <td>-859.0</td>\n",
       "      <td>50.0</td>\n",
       "    </tr>\n",
       "    <tr>\n",
       "      <th>PaymentScreenSuccessful</th>\n",
       "      <td>3539</td>\n",
       "      <td>100.0</td>\n",
       "      <td>-195.0</td>\n",
       "      <td>47.0</td>\n",
       "    </tr>\n",
       "  </tbody>\n",
       "</table>\n",
       "</div>"
      ],
      "text/plain": [
       "                         amount_users  retention  retention_amount  conversion\n",
       "event_name                                                                    \n",
       "MainScreenAppear                 7419        NaN               NaN        99.0\n",
       "OffersScreenAppear               4593      100.0           -2826.0        61.0\n",
       "CartScreenAppear                 3734      100.0            -859.0        50.0\n",
       "PaymentScreenSuccessful          3539      100.0            -195.0        47.0"
      ]
     },
     "execution_count": 33,
     "metadata": {},
     "output_type": "execute_result"
    }
   ],
   "source": [
    "funnel['retention'] = round(funnel['amount_users']/funnel['amount_users'].shift(1),)*100\n",
    "funnel['retention_amount'] = funnel['amount_users']-funnel['amount_users'].shift(1)\n",
    "funnel['conversion'] = round(funnel['amount_users']/logs.query('event_name != \"Tutorial\"')['device_id'].nunique(),2)*100\n",
    "funnel"
   ]
  },
  {
   "cell_type": "markdown",
   "id": "c7e9add6",
   "metadata": {},
   "source": [
    "Таким образом, не все пользовали даже переходят на главную страницу. После на страницу товара переходят только 61% от всех пользователей, только 50% добавляют заказ в корзину и 47% оплачивают его. В целом почти половина привлеченных пользователей совершает покупку. Это очень хороший показатель!"
   ]
  },
  {
   "cell_type": "markdown",
   "id": "2892c090",
   "metadata": {},
   "source": [
    "Найдем последовательные проценты событий:"
   ]
  },
  {
   "cell_type": "code",
   "execution_count": 34,
   "id": "fae65a8a",
   "metadata": {},
   "outputs": [],
   "source": [
    "funnel_2 = df.pivot_table(\n",
    "    index='device_id', \n",
    "    columns='event_name', \n",
    "    values='date_t',\n",
    "    aggfunc='min')"
   ]
  },
  {
   "cell_type": "code",
   "execution_count": 35,
   "id": "527e1b30",
   "metadata": {},
   "outputs": [
    {
     "name": "stdout",
     "output_type": "stream",
     "text": [
      "Просмотр главного экрана: (100.0%)\n",
      "Просмотр каталога в % от предыдущего шага: (62.0%)\n",
      "Просмотр товара в % от предыдущего шага: (81.3%)\n",
      "Оплата в % от предыдущего шага: (94.6%)\n"
     ]
    }
   ],
   "source": [
    "print('Просмотр главного экрана:', \n",
    "      '({:.1%})'.format(funnel_2['MainScreenAppear'].count() / funnel_2['MainScreenAppear'].count() ))\n",
    "print('Просмотр каталога в % от предыдущего шага:', \n",
    "      '({:.1%})'.format(funnel_2['OffersScreenAppear'].count() / funnel_2['MainScreenAppear'].count() ))\n",
    "print('Просмотр товара в % от предыдущего шага:', \n",
    "      '({:.1%})'.format(funnel_2['CartScreenAppear'].count() / funnel_2['OffersScreenAppear'].count()))\n",
    "print('Оплата в % от предыдущего шага:',\n",
    "      '({:.1%})'.format(funnel_2['PaymentScreenSuccessful'].count() / funnel_2['CartScreenAppear'].count()))"
   ]
  },
  {
   "cell_type": "markdown",
   "id": "43656fcd",
   "metadata": {},
   "source": [
    "Это подтверждает, что больше всего пользователей \"теряются\" при переходе с главной страницы в каталог для поиска товара. А вот процент тех, кто попал в каталоги потом положил товар в корзину высокий, как и процент оплаты."
   ]
  },
  {
   "cell_type": "markdown",
   "id": "94c222f0",
   "metadata": {},
   "source": [
    "**На каком шаге теряете больше всего пользователей?**"
   ]
  },
  {
   "cell_type": "markdown",
   "id": "9cf2b984",
   "metadata": {},
   "source": [
    "В абсолютном значении больше всего пользователей теряются при переходе с главной страницы на страницу товара - это 2826 пользователей. Значит на главной странице их либо ничего не привлекло и они не стали заинтересованы в поиске товара, который был бы им интересен. Было бы здорово, если главная страница были интерактивной с переходами на карточки товаров или с \"призом\", который может получить пользователь - например, скидку и тд."
   ]
  },
  {
   "cell_type": "markdown",
   "id": "cf909213",
   "metadata": {},
   "source": [
    "**Какая доля пользователей доходит от первого события до оплаты?**"
   ]
  },
  {
   "cell_type": "code",
   "execution_count": 36,
   "id": "2b3ebcc4",
   "metadata": {},
   "outputs": [
    {
     "data": {
      "text/plain": [
       "48.0"
      ]
     },
     "execution_count": 36,
     "metadata": {},
     "output_type": "execute_result"
    }
   ],
   "source": [
    "round(funnel['amount_users'][-1]/funnel['amount_users'][0],2)*100"
   ]
  },
  {
   "cell_type": "markdown",
   "id": "9b436a69",
   "metadata": {},
   "source": [
    "48% от всех пользователей доходят до оплаты"
   ]
  },
  {
   "cell_type": "markdown",
   "id": "ff5c3f31",
   "metadata": {},
   "source": [
    "## Изучение результатов А/А/В теста"
   ]
  },
  {
   "cell_type": "markdown",
   "id": "775ec630",
   "metadata": {},
   "source": [
    "**Сколько пользователей в каждой экспериментальной группе?**"
   ]
  },
  {
   "cell_type": "markdown",
   "id": "9e82ef91",
   "metadata": {},
   "source": [
    "Ранее мы их уже находили. Продублируем"
   ]
  },
  {
   "cell_type": "code",
   "execution_count": 37,
   "id": "45d4c0b7",
   "metadata": {},
   "outputs": [
    {
     "data": {
      "text/html": [
       "<div>\n",
       "<style scoped>\n",
       "    .dataframe tbody tr th:only-of-type {\n",
       "        vertical-align: middle;\n",
       "    }\n",
       "\n",
       "    .dataframe tbody tr th {\n",
       "        vertical-align: top;\n",
       "    }\n",
       "\n",
       "    .dataframe thead th {\n",
       "        text-align: right;\n",
       "    }\n",
       "</style>\n",
       "<table border=\"1\" class=\"dataframe\">\n",
       "  <thead>\n",
       "    <tr style=\"text-align: right;\">\n",
       "      <th></th>\n",
       "      <th>device_id</th>\n",
       "    </tr>\n",
       "    <tr>\n",
       "      <th>group</th>\n",
       "      <th></th>\n",
       "    </tr>\n",
       "  </thead>\n",
       "  <tbody>\n",
       "    <tr>\n",
       "      <th>A1</th>\n",
       "      <td>2484</td>\n",
       "    </tr>\n",
       "    <tr>\n",
       "      <th>A2</th>\n",
       "      <td>2513</td>\n",
       "    </tr>\n",
       "    <tr>\n",
       "      <th>B</th>\n",
       "      <td>2537</td>\n",
       "    </tr>\n",
       "  </tbody>\n",
       "</table>\n",
       "</div>"
      ],
      "text/plain": [
       "       device_id\n",
       "group           \n",
       "A1          2484\n",
       "A2          2513\n",
       "B           2537"
      ]
     },
     "execution_count": 37,
     "metadata": {},
     "output_type": "execute_result"
    }
   ],
   "source": [
    "logs.groupby(by='group').agg({'device_id':'nunique'})"
   ]
  },
  {
   "cell_type": "markdown",
   "id": "86f8b54a",
   "metadata": {},
   "source": [
    "Сравним также количество событий по каждой группе, чтобы исключить, что в какой-то группе может быть сильно больше"
   ]
  },
  {
   "cell_type": "code",
   "execution_count": 38,
   "id": "30faf41f",
   "metadata": {},
   "outputs": [
    {
     "data": {
      "text/html": [
       "<div>\n",
       "<style scoped>\n",
       "    .dataframe tbody tr th:only-of-type {\n",
       "        vertical-align: middle;\n",
       "    }\n",
       "\n",
       "    .dataframe tbody tr th {\n",
       "        vertical-align: top;\n",
       "    }\n",
       "\n",
       "    .dataframe thead th {\n",
       "        text-align: right;\n",
       "    }\n",
       "</style>\n",
       "<table border=\"1\" class=\"dataframe\">\n",
       "  <thead>\n",
       "    <tr style=\"text-align: right;\">\n",
       "      <th></th>\n",
       "      <th>device_id</th>\n",
       "    </tr>\n",
       "    <tr>\n",
       "      <th>group</th>\n",
       "      <th></th>\n",
       "    </tr>\n",
       "  </thead>\n",
       "  <tbody>\n",
       "    <tr>\n",
       "      <th>A1</th>\n",
       "      <td>79302</td>\n",
       "    </tr>\n",
       "    <tr>\n",
       "      <th>A2</th>\n",
       "      <td>77022</td>\n",
       "    </tr>\n",
       "    <tr>\n",
       "      <th>B</th>\n",
       "      <td>84563</td>\n",
       "    </tr>\n",
       "  </tbody>\n",
       "</table>\n",
       "</div>"
      ],
      "text/plain": [
       "       device_id\n",
       "group           \n",
       "A1         79302\n",
       "A2         77022\n",
       "B          84563"
      ]
     },
     "execution_count": 38,
     "metadata": {},
     "output_type": "execute_result"
    }
   ],
   "source": [
    "logs.groupby(by='group').agg({'device_id':'count'})"
   ]
  },
  {
   "cell_type": "markdown",
   "id": "b1f665b2",
   "metadata": {},
   "source": [
    "В группе В больше действий, но там и больше пользователей, поэтому в целом это может объясняться ростом количества пользователей"
   ]
  },
  {
   "cell_type": "markdown",
   "id": "447ca42d",
   "metadata": {},
   "source": [
    "**Есть 2 контрольные группы для А/А-эксперимента, чтобы проверить корректность всех механизмов и расчётов. Проверьте, находят ли статистические критерии разницу между выборками 246 и 247.**"
   ]
  },
  {
   "cell_type": "code",
   "execution_count": 39,
   "id": "36e83945",
   "metadata": {},
   "outputs": [
    {
     "data": {
      "text/html": [
       "<div>\n",
       "<style scoped>\n",
       "    .dataframe tbody tr th:only-of-type {\n",
       "        vertical-align: middle;\n",
       "    }\n",
       "\n",
       "    .dataframe tbody tr th {\n",
       "        vertical-align: top;\n",
       "    }\n",
       "\n",
       "    .dataframe thead th {\n",
       "        text-align: right;\n",
       "    }\n",
       "</style>\n",
       "<table border=\"1\" class=\"dataframe\">\n",
       "  <thead>\n",
       "    <tr style=\"text-align: right;\">\n",
       "      <th></th>\n",
       "      <th>event_name</th>\n",
       "      <th>device_id</th>\n",
       "      <th>date</th>\n",
       "      <th>group</th>\n",
       "      <th>date_t</th>\n",
       "    </tr>\n",
       "  </thead>\n",
       "  <tbody>\n",
       "    <tr>\n",
       "      <th>0</th>\n",
       "      <td>MainScreenAppear</td>\n",
       "      <td>4575588528974610257</td>\n",
       "      <td>2019-07-25</td>\n",
       "      <td>A1</td>\n",
       "      <td>2019-07-25 04:43:36</td>\n",
       "    </tr>\n",
       "    <tr>\n",
       "      <th>1</th>\n",
       "      <td>MainScreenAppear</td>\n",
       "      <td>7416695313311560658</td>\n",
       "      <td>2019-07-25</td>\n",
       "      <td>A1</td>\n",
       "      <td>2019-07-25 11:11:42</td>\n",
       "    </tr>\n",
       "    <tr>\n",
       "      <th>2</th>\n",
       "      <td>PaymentScreenSuccessful</td>\n",
       "      <td>3518123091307005509</td>\n",
       "      <td>2019-07-25</td>\n",
       "      <td>B</td>\n",
       "      <td>2019-07-25 11:28:47</td>\n",
       "    </tr>\n",
       "    <tr>\n",
       "      <th>3</th>\n",
       "      <td>CartScreenAppear</td>\n",
       "      <td>3518123091307005509</td>\n",
       "      <td>2019-07-25</td>\n",
       "      <td>B</td>\n",
       "      <td>2019-07-25 11:28:47</td>\n",
       "    </tr>\n",
       "    <tr>\n",
       "      <th>4</th>\n",
       "      <td>PaymentScreenSuccessful</td>\n",
       "      <td>6217807653094995999</td>\n",
       "      <td>2019-07-25</td>\n",
       "      <td>B</td>\n",
       "      <td>2019-07-25 11:48:42</td>\n",
       "    </tr>\n",
       "  </tbody>\n",
       "</table>\n",
       "</div>"
      ],
      "text/plain": [
       "                event_name            device_id       date group  \\\n",
       "0         MainScreenAppear  4575588528974610257 2019-07-25    A1   \n",
       "1         MainScreenAppear  7416695313311560658 2019-07-25    A1   \n",
       "2  PaymentScreenSuccessful  3518123091307005509 2019-07-25     B   \n",
       "3         CartScreenAppear  3518123091307005509 2019-07-25     B   \n",
       "4  PaymentScreenSuccessful  6217807653094995999 2019-07-25     B   \n",
       "\n",
       "               date_t  \n",
       "0 2019-07-25 04:43:36  \n",
       "1 2019-07-25 11:11:42  \n",
       "2 2019-07-25 11:28:47  \n",
       "3 2019-07-25 11:28:47  \n",
       "4 2019-07-25 11:48:42  "
      ]
     },
     "execution_count": 39,
     "metadata": {},
     "output_type": "execute_result"
    }
   ],
   "source": [
    "df.head()"
   ]
  },
  {
   "cell_type": "markdown",
   "id": "6ac5b311",
   "metadata": {},
   "source": [
    "Определим каждую группу"
   ]
  },
  {
   "cell_type": "code",
   "execution_count": 40,
   "id": "d6dc659b",
   "metadata": {},
   "outputs": [
    {
     "data": {
      "text/html": [
       "<div>\n",
       "<style scoped>\n",
       "    .dataframe tbody tr th:only-of-type {\n",
       "        vertical-align: middle;\n",
       "    }\n",
       "\n",
       "    .dataframe tbody tr th {\n",
       "        vertical-align: top;\n",
       "    }\n",
       "\n",
       "    .dataframe thead th {\n",
       "        text-align: right;\n",
       "    }\n",
       "</style>\n",
       "<table border=\"1\" class=\"dataframe\">\n",
       "  <thead>\n",
       "    <tr style=\"text-align: right;\">\n",
       "      <th></th>\n",
       "      <th>event_name</th>\n",
       "      <th>group</th>\n",
       "      <th>total_users</th>\n",
       "    </tr>\n",
       "  </thead>\n",
       "  <tbody>\n",
       "    <tr>\n",
       "      <th>5</th>\n",
       "      <td>MainScreenAppear</td>\n",
       "      <td>B</td>\n",
       "      <td>2501</td>\n",
       "    </tr>\n",
       "    <tr>\n",
       "      <th>8</th>\n",
       "      <td>OffersScreenAppear</td>\n",
       "      <td>B</td>\n",
       "      <td>1538</td>\n",
       "    </tr>\n",
       "    <tr>\n",
       "      <th>2</th>\n",
       "      <td>CartScreenAppear</td>\n",
       "      <td>B</td>\n",
       "      <td>1239</td>\n",
       "    </tr>\n",
       "    <tr>\n",
       "      <th>11</th>\n",
       "      <td>PaymentScreenSuccessful</td>\n",
       "      <td>B</td>\n",
       "      <td>1185</td>\n",
       "    </tr>\n",
       "    <tr>\n",
       "      <th>4</th>\n",
       "      <td>MainScreenAppear</td>\n",
       "      <td>A2</td>\n",
       "      <td>2482</td>\n",
       "    </tr>\n",
       "    <tr>\n",
       "      <th>7</th>\n",
       "      <td>OffersScreenAppear</td>\n",
       "      <td>A2</td>\n",
       "      <td>1530</td>\n",
       "    </tr>\n",
       "    <tr>\n",
       "      <th>1</th>\n",
       "      <td>CartScreenAppear</td>\n",
       "      <td>A2</td>\n",
       "      <td>1240</td>\n",
       "    </tr>\n",
       "    <tr>\n",
       "      <th>10</th>\n",
       "      <td>PaymentScreenSuccessful</td>\n",
       "      <td>A2</td>\n",
       "      <td>1160</td>\n",
       "    </tr>\n",
       "    <tr>\n",
       "      <th>3</th>\n",
       "      <td>MainScreenAppear</td>\n",
       "      <td>A1</td>\n",
       "      <td>2456</td>\n",
       "    </tr>\n",
       "    <tr>\n",
       "      <th>6</th>\n",
       "      <td>OffersScreenAppear</td>\n",
       "      <td>A1</td>\n",
       "      <td>1545</td>\n",
       "    </tr>\n",
       "    <tr>\n",
       "      <th>0</th>\n",
       "      <td>CartScreenAppear</td>\n",
       "      <td>A1</td>\n",
       "      <td>1270</td>\n",
       "    </tr>\n",
       "    <tr>\n",
       "      <th>9</th>\n",
       "      <td>PaymentScreenSuccessful</td>\n",
       "      <td>A1</td>\n",
       "      <td>1202</td>\n",
       "    </tr>\n",
       "  </tbody>\n",
       "</table>\n",
       "</div>"
      ],
      "text/plain": [
       "                 event_name group  total_users\n",
       "5          MainScreenAppear     B         2501\n",
       "8        OffersScreenAppear     B         1538\n",
       "2          CartScreenAppear     B         1239\n",
       "11  PaymentScreenSuccessful     B         1185\n",
       "4          MainScreenAppear    A2         2482\n",
       "7        OffersScreenAppear    A2         1530\n",
       "1          CartScreenAppear    A2         1240\n",
       "10  PaymentScreenSuccessful    A2         1160\n",
       "3          MainScreenAppear    A1         2456\n",
       "6        OffersScreenAppear    A1         1545\n",
       "0          CartScreenAppear    A1         1270\n",
       "9   PaymentScreenSuccessful    A1         1202"
      ]
     },
     "execution_count": 40,
     "metadata": {},
     "output_type": "execute_result"
    }
   ],
   "source": [
    "funnel_group = (df.groupby(['event_name', 'group']).agg({'device_id': 'nunique'\n",
    "                                                        }).reset_index().rename(columns={\n",
    "    'device_id' : 'total_users'}).sort_values(by=['group','total_users'], ascending=False))\n",
    "\n",
    "funnel_group = funnel_group[funnel_group['event_name'] != 'Tutorial']\n",
    "funnel_group"
   ]
  },
  {
   "cell_type": "markdown",
   "id": "370a4f89",
   "metadata": {},
   "source": [
    "В целом, данные группы похожи между собой по количеству пользователей"
   ]
  },
  {
   "cell_type": "markdown",
   "id": "83184874",
   "metadata": {},
   "source": [
    "Функция для z - теста"
   ]
  },
  {
   "cell_type": "code",
   "execution_count": 41,
   "id": "18b46a6d",
   "metadata": {},
   "outputs": [],
   "source": [
    "def z_test (successes1, successes2, trails1, trails2):\n",
    "        p1 = successes1 / trails1\n",
    "        p2 = successes2 / trails2\n",
    "        p_combined = (successes1 + successes2) / (trails1 + trails2)\n",
    "        difference = p1 - p2 \n",
    "        z_value = difference / mth.sqrt(p_combined * (1 - p_combined) * (1/trails1 + 1/trails2))\n",
    "        distr = st.norm(0, 1)\n",
    "        p_value = (1 - distr.cdf(abs(z_value))) * 2\n",
    "        alpha = 0.05/16\n",
    "        print('Событие: {}, p-значение: {p_value:.2f}'.format(event, p_value=p_value))\n",
    "        if (p_value < alpha):\n",
    "            print(\"Отвергаем нулевую гипотезу о равенстве конверсии в группах\")\n",
    "        else:\n",
    "            print(\"Статистическое различие между группами не подтвердилось, не можем отвегнуть нулевую гипотезу\")"
   ]
  },
  {
   "cell_type": "markdown",
   "id": "6bb6e8b5",
   "metadata": {},
   "source": [
    "Вводится поправка Бонферрони bonferroni_alpha = alpha / 12, чтобы снизить риск получения ложного результата"
   ]
  },
  {
   "cell_type": "markdown",
   "id": "063c77ee",
   "metadata": {},
   "source": [
    "**Гипотезы для сравнения выборок:\\\n",
    "H0: доли уникальных посетителей, которые относятся к одной воронке, одинаковы\\\n",
    "H1: доли уникальных посетителей, которые относятся к одной воронке, отличаются**\n"
   ]
  },
  {
   "cell_type": "markdown",
   "id": "bc6e5010",
   "metadata": {},
   "source": [
    "Проводим А/А тест"
   ]
  },
  {
   "cell_type": "code",
   "execution_count": 43,
   "id": "ec8f1193",
   "metadata": {
    "scrolled": true
   },
   "outputs": [
    {
     "data": {
      "text/html": [
       "<div>\n",
       "<style scoped>\n",
       "    .dataframe tbody tr th:only-of-type {\n",
       "        vertical-align: middle;\n",
       "    }\n",
       "\n",
       "    .dataframe tbody tr th {\n",
       "        vertical-align: top;\n",
       "    }\n",
       "\n",
       "    .dataframe thead th {\n",
       "        text-align: right;\n",
       "    }\n",
       "</style>\n",
       "<table border=\"1\" class=\"dataframe\">\n",
       "  <thead>\n",
       "    <tr style=\"text-align: right;\">\n",
       "      <th></th>\n",
       "      <th>users_A1</th>\n",
       "      <th>total_users_A1</th>\n",
       "    </tr>\n",
       "    <tr>\n",
       "      <th>event_name</th>\n",
       "      <th></th>\n",
       "      <th></th>\n",
       "    </tr>\n",
       "  </thead>\n",
       "  <tbody>\n",
       "    <tr>\n",
       "      <th>MainScreenAppear</th>\n",
       "      <td>2450</td>\n",
       "      <td>2484</td>\n",
       "    </tr>\n",
       "    <tr>\n",
       "      <th>OffersScreenAppear</th>\n",
       "      <td>1542</td>\n",
       "      <td>2484</td>\n",
       "    </tr>\n",
       "    <tr>\n",
       "      <th>CartScreenAppear</th>\n",
       "      <td>1266</td>\n",
       "      <td>2484</td>\n",
       "    </tr>\n",
       "    <tr>\n",
       "      <th>PaymentScreenSuccessful</th>\n",
       "      <td>1200</td>\n",
       "      <td>2484</td>\n",
       "    </tr>\n",
       "    <tr>\n",
       "      <th>Tutorial</th>\n",
       "      <td>278</td>\n",
       "      <td>2484</td>\n",
       "    </tr>\n",
       "  </tbody>\n",
       "</table>\n",
       "</div>"
      ],
      "text/plain": [
       "                         users_A1  total_users_A1\n",
       "event_name                                       \n",
       "MainScreenAppear             2450            2484\n",
       "OffersScreenAppear           1542            2484\n",
       "CartScreenAppear             1266            2484\n",
       "PaymentScreenSuccessful      1200            2484\n",
       "Tutorial                      278            2484"
      ]
     },
     "execution_count": 43,
     "metadata": {},
     "output_type": "execute_result"
    }
   ],
   "source": [
    "group1 = logs.loc[logs['group']=='A1'].groupby(by='event_name').agg({'device_id':'nunique'})\\\n",
    "                                        .sort_values(by='device_id',ascending=False).rename(columns={'device_id':'users_A1'})\n",
    "group1['total_users_A1'] = logs.loc[logs['group']=='A1']['device_id'].nunique()\n",
    "group1"
   ]
  },
  {
   "cell_type": "code",
   "execution_count": 44,
   "id": "5e788414",
   "metadata": {},
   "outputs": [
    {
     "data": {
      "text/html": [
       "<div>\n",
       "<style scoped>\n",
       "    .dataframe tbody tr th:only-of-type {\n",
       "        vertical-align: middle;\n",
       "    }\n",
       "\n",
       "    .dataframe tbody tr th {\n",
       "        vertical-align: top;\n",
       "    }\n",
       "\n",
       "    .dataframe thead th {\n",
       "        text-align: right;\n",
       "    }\n",
       "</style>\n",
       "<table border=\"1\" class=\"dataframe\">\n",
       "  <thead>\n",
       "    <tr style=\"text-align: right;\">\n",
       "      <th></th>\n",
       "      <th>users_A2</th>\n",
       "      <th>total_users_A2</th>\n",
       "    </tr>\n",
       "    <tr>\n",
       "      <th>event_name</th>\n",
       "      <th></th>\n",
       "      <th></th>\n",
       "    </tr>\n",
       "  </thead>\n",
       "  <tbody>\n",
       "    <tr>\n",
       "      <th>MainScreenAppear</th>\n",
       "      <td>2476</td>\n",
       "      <td>2513</td>\n",
       "    </tr>\n",
       "    <tr>\n",
       "      <th>OffersScreenAppear</th>\n",
       "      <td>1520</td>\n",
       "      <td>2513</td>\n",
       "    </tr>\n",
       "    <tr>\n",
       "      <th>CartScreenAppear</th>\n",
       "      <td>1238</td>\n",
       "      <td>2513</td>\n",
       "    </tr>\n",
       "    <tr>\n",
       "      <th>PaymentScreenSuccessful</th>\n",
       "      <td>1158</td>\n",
       "      <td>2513</td>\n",
       "    </tr>\n",
       "    <tr>\n",
       "      <th>Tutorial</th>\n",
       "      <td>283</td>\n",
       "      <td>2513</td>\n",
       "    </tr>\n",
       "  </tbody>\n",
       "</table>\n",
       "</div>"
      ],
      "text/plain": [
       "                         users_A2  total_users_A2\n",
       "event_name                                       \n",
       "MainScreenAppear             2476            2513\n",
       "OffersScreenAppear           1520            2513\n",
       "CartScreenAppear             1238            2513\n",
       "PaymentScreenSuccessful      1158            2513\n",
       "Tutorial                      283            2513"
      ]
     },
     "execution_count": 44,
     "metadata": {},
     "output_type": "execute_result"
    }
   ],
   "source": [
    "group2 = logs.loc[logs['group']=='A2'].groupby(by='event_name').agg({'device_id':'nunique'})\\\n",
    "                                        .sort_values(by='device_id',ascending=False).rename(columns={'device_id':'users_A2'})\n",
    "group2['total_users_A2'] = logs.loc[logs['group']=='A2']['device_id'].nunique()\n",
    "group2"
   ]
  },
  {
   "cell_type": "code",
   "execution_count": 45,
   "id": "ac3dd15e",
   "metadata": {},
   "outputs": [
    {
     "data": {
      "text/html": [
       "<div>\n",
       "<style scoped>\n",
       "    .dataframe tbody tr th:only-of-type {\n",
       "        vertical-align: middle;\n",
       "    }\n",
       "\n",
       "    .dataframe tbody tr th {\n",
       "        vertical-align: top;\n",
       "    }\n",
       "\n",
       "    .dataframe thead th {\n",
       "        text-align: right;\n",
       "    }\n",
       "</style>\n",
       "<table border=\"1\" class=\"dataframe\">\n",
       "  <thead>\n",
       "    <tr style=\"text-align: right;\">\n",
       "      <th></th>\n",
       "      <th>users_A1</th>\n",
       "      <th>total_users_A1</th>\n",
       "      <th>users_A2</th>\n",
       "      <th>total_users_A2</th>\n",
       "      <th>A1+A2</th>\n",
       "    </tr>\n",
       "    <tr>\n",
       "      <th>event_name</th>\n",
       "      <th></th>\n",
       "      <th></th>\n",
       "      <th></th>\n",
       "      <th></th>\n",
       "      <th></th>\n",
       "    </tr>\n",
       "  </thead>\n",
       "  <tbody>\n",
       "    <tr>\n",
       "      <th>MainScreenAppear</th>\n",
       "      <td>2450</td>\n",
       "      <td>2484</td>\n",
       "      <td>2476</td>\n",
       "      <td>2513</td>\n",
       "      <td>4926</td>\n",
       "    </tr>\n",
       "    <tr>\n",
       "      <th>OffersScreenAppear</th>\n",
       "      <td>1542</td>\n",
       "      <td>2484</td>\n",
       "      <td>1520</td>\n",
       "      <td>2513</td>\n",
       "      <td>3062</td>\n",
       "    </tr>\n",
       "    <tr>\n",
       "      <th>CartScreenAppear</th>\n",
       "      <td>1266</td>\n",
       "      <td>2484</td>\n",
       "      <td>1238</td>\n",
       "      <td>2513</td>\n",
       "      <td>2504</td>\n",
       "    </tr>\n",
       "    <tr>\n",
       "      <th>PaymentScreenSuccessful</th>\n",
       "      <td>1200</td>\n",
       "      <td>2484</td>\n",
       "      <td>1158</td>\n",
       "      <td>2513</td>\n",
       "      <td>2358</td>\n",
       "    </tr>\n",
       "  </tbody>\n",
       "</table>\n",
       "</div>"
      ],
      "text/plain": [
       "                         users_A1  total_users_A1  users_A2  total_users_A2  \\\n",
       "event_name                                                                    \n",
       "MainScreenAppear             2450            2484      2476            2513   \n",
       "OffersScreenAppear           1542            2484      1520            2513   \n",
       "CartScreenAppear             1266            2484      1238            2513   \n",
       "PaymentScreenSuccessful      1200            2484      1158            2513   \n",
       "\n",
       "                         A1+A2  \n",
       "event_name                      \n",
       "MainScreenAppear          4926  \n",
       "OffersScreenAppear        3062  \n",
       "CartScreenAppear          2504  \n",
       "PaymentScreenSuccessful   2358  "
      ]
     },
     "execution_count": 45,
     "metadata": {},
     "output_type": "execute_result"
    }
   ],
   "source": [
    "total = group1.merge(group2, on='event_name')\n",
    "total.drop(['Tutorial'], inplace=True)\n",
    "total['A1+A2'] = total['users_A1']+total['users_A2']\n",
    "total"
   ]
  },
  {
   "cell_type": "code",
   "execution_count": 46,
   "id": "7e6d2724",
   "metadata": {},
   "outputs": [
    {
     "name": "stdout",
     "output_type": "stream",
     "text": [
      "Событие: MainScreenAppear, p-значение: 0.76\n",
      "Статистическое различие между группами не подтвердилось, не можем отвегнуть нулевую гипотезу\n",
      "Событие: OffersScreenAppear, p-значение: 0.25\n",
      "Статистическое различие между группами не подтвердилось, не можем отвегнуть нулевую гипотезу\n",
      "Событие: CartScreenAppear, p-значение: 0.23\n",
      "Статистическое различие между группами не подтвердилось, не можем отвегнуть нулевую гипотезу\n",
      "Событие: PaymentScreenSuccessful, p-значение: 0.11\n",
      "Статистическое различие между группами не подтвердилось, не можем отвегнуть нулевую гипотезу\n"
     ]
    }
   ],
   "source": [
    "for event in total.index:\n",
    "    z_test(total['users_A1'][event],total['users_A2'][event],\\\n",
    "                 total['total_users_A1'][event],total['total_users_A2'][event])"
   ]
  },
  {
   "cell_type": "markdown",
   "id": "9edb33fe",
   "metadata": {},
   "source": [
    "На заданном уровне значимости нельзя опровегнуть нулевую гипотезу, поэтому нельзя сказать, что есть статистически значимое отличие между группами А1 и А2. Поэтому можно проводить А/В тест"
   ]
  },
  {
   "cell_type": "code",
   "execution_count": 47,
   "id": "a2fad4d4",
   "metadata": {},
   "outputs": [
    {
     "data": {
      "text/html": [
       "<div>\n",
       "<style scoped>\n",
       "    .dataframe tbody tr th:only-of-type {\n",
       "        vertical-align: middle;\n",
       "    }\n",
       "\n",
       "    .dataframe tbody tr th {\n",
       "        vertical-align: top;\n",
       "    }\n",
       "\n",
       "    .dataframe thead th {\n",
       "        text-align: right;\n",
       "    }\n",
       "</style>\n",
       "<table border=\"1\" class=\"dataframe\">\n",
       "  <thead>\n",
       "    <tr style=\"text-align: right;\">\n",
       "      <th></th>\n",
       "      <th>users_B</th>\n",
       "      <th>total_users_B</th>\n",
       "    </tr>\n",
       "    <tr>\n",
       "      <th>event_name</th>\n",
       "      <th></th>\n",
       "      <th></th>\n",
       "    </tr>\n",
       "  </thead>\n",
       "  <tbody>\n",
       "    <tr>\n",
       "      <th>MainScreenAppear</th>\n",
       "      <td>2493</td>\n",
       "      <td>2537</td>\n",
       "    </tr>\n",
       "    <tr>\n",
       "      <th>OffersScreenAppear</th>\n",
       "      <td>1531</td>\n",
       "      <td>2537</td>\n",
       "    </tr>\n",
       "    <tr>\n",
       "      <th>CartScreenAppear</th>\n",
       "      <td>1230</td>\n",
       "      <td>2537</td>\n",
       "    </tr>\n",
       "    <tr>\n",
       "      <th>PaymentScreenSuccessful</th>\n",
       "      <td>1181</td>\n",
       "      <td>2537</td>\n",
       "    </tr>\n",
       "  </tbody>\n",
       "</table>\n",
       "</div>"
      ],
      "text/plain": [
       "                         users_B  total_users_B\n",
       "event_name                                     \n",
       "MainScreenAppear            2493           2537\n",
       "OffersScreenAppear          1531           2537\n",
       "CartScreenAppear            1230           2537\n",
       "PaymentScreenSuccessful     1181           2537"
      ]
     },
     "execution_count": 47,
     "metadata": {},
     "output_type": "execute_result"
    }
   ],
   "source": [
    "group3 = logs.loc[logs['group']=='B'].groupby(by='event_name').agg({'device_id':'nunique'})\\\n",
    "                                        .sort_values(by='device_id',ascending=False).rename(columns={'device_id':'users_B'})\n",
    "group3['total_users_B'] = logs.loc[logs['group']=='B']['device_id'].nunique()\n",
    "group3.drop(['Tutorial'], inplace=True)\n",
    "group3"
   ]
  },
  {
   "cell_type": "markdown",
   "id": "cebcb353",
   "metadata": {},
   "source": [
    "**Аналогично поступите с группой с изменённым шрифтом. Сравните результаты с каждой из контрольных групп в отдельности по каждому событию. Сравните результаты с объединённой контрольной группой. Какие выводы из эксперимента можно сделать?**"
   ]
  },
  {
   "cell_type": "code",
   "execution_count": 48,
   "id": "ba054925",
   "metadata": {},
   "outputs": [
    {
     "data": {
      "text/html": [
       "<div>\n",
       "<style scoped>\n",
       "    .dataframe tbody tr th:only-of-type {\n",
       "        vertical-align: middle;\n",
       "    }\n",
       "\n",
       "    .dataframe tbody tr th {\n",
       "        vertical-align: top;\n",
       "    }\n",
       "\n",
       "    .dataframe thead th {\n",
       "        text-align: right;\n",
       "    }\n",
       "</style>\n",
       "<table border=\"1\" class=\"dataframe\">\n",
       "  <thead>\n",
       "    <tr style=\"text-align: right;\">\n",
       "      <th></th>\n",
       "      <th>users_B</th>\n",
       "      <th>total_users_B</th>\n",
       "      <th>users_A1</th>\n",
       "      <th>total_users_A1</th>\n",
       "      <th>users_A2</th>\n",
       "      <th>total_users_A2</th>\n",
       "      <th>A1+A2</th>\n",
       "      <th>A1+A2_total</th>\n",
       "    </tr>\n",
       "    <tr>\n",
       "      <th>event_name</th>\n",
       "      <th></th>\n",
       "      <th></th>\n",
       "      <th></th>\n",
       "      <th></th>\n",
       "      <th></th>\n",
       "      <th></th>\n",
       "      <th></th>\n",
       "      <th></th>\n",
       "    </tr>\n",
       "  </thead>\n",
       "  <tbody>\n",
       "    <tr>\n",
       "      <th>MainScreenAppear</th>\n",
       "      <td>2493</td>\n",
       "      <td>2537</td>\n",
       "      <td>2450</td>\n",
       "      <td>2484</td>\n",
       "      <td>2476</td>\n",
       "      <td>2513</td>\n",
       "      <td>4926</td>\n",
       "      <td>4997</td>\n",
       "    </tr>\n",
       "    <tr>\n",
       "      <th>OffersScreenAppear</th>\n",
       "      <td>1531</td>\n",
       "      <td>2537</td>\n",
       "      <td>1542</td>\n",
       "      <td>2484</td>\n",
       "      <td>1520</td>\n",
       "      <td>2513</td>\n",
       "      <td>3062</td>\n",
       "      <td>4997</td>\n",
       "    </tr>\n",
       "    <tr>\n",
       "      <th>CartScreenAppear</th>\n",
       "      <td>1230</td>\n",
       "      <td>2537</td>\n",
       "      <td>1266</td>\n",
       "      <td>2484</td>\n",
       "      <td>1238</td>\n",
       "      <td>2513</td>\n",
       "      <td>2504</td>\n",
       "      <td>4997</td>\n",
       "    </tr>\n",
       "    <tr>\n",
       "      <th>PaymentScreenSuccessful</th>\n",
       "      <td>1181</td>\n",
       "      <td>2537</td>\n",
       "      <td>1200</td>\n",
       "      <td>2484</td>\n",
       "      <td>1158</td>\n",
       "      <td>2513</td>\n",
       "      <td>2358</td>\n",
       "      <td>4997</td>\n",
       "    </tr>\n",
       "  </tbody>\n",
       "</table>\n",
       "</div>"
      ],
      "text/plain": [
       "                         users_B  total_users_B  users_A1  total_users_A1  \\\n",
       "event_name                                                                  \n",
       "MainScreenAppear            2493           2537      2450            2484   \n",
       "OffersScreenAppear          1531           2537      1542            2484   \n",
       "CartScreenAppear            1230           2537      1266            2484   \n",
       "PaymentScreenSuccessful     1181           2537      1200            2484   \n",
       "\n",
       "                         users_A2  total_users_A2  A1+A2  A1+A2_total  \n",
       "event_name                                                             \n",
       "MainScreenAppear             2476            2513   4926         4997  \n",
       "OffersScreenAppear           1520            2513   3062         4997  \n",
       "CartScreenAppear             1238            2513   2504         4997  \n",
       "PaymentScreenSuccessful      1158            2513   2358         4997  "
      ]
     },
     "execution_count": 48,
     "metadata": {},
     "output_type": "execute_result"
    }
   ],
   "source": [
    "total = group3.merge(total, on='event_name')\n",
    "total['A1+A2'] = total['users_A1'] + total['users_A2']\n",
    "total['A1+A2_total'] = logs.loc[logs['group']!= 'B']['device_id'].nunique()\n",
    "total"
   ]
  },
  {
   "cell_type": "code",
   "execution_count": 49,
   "id": "79793bcb",
   "metadata": {},
   "outputs": [
    {
     "name": "stdout",
     "output_type": "stream",
     "text": [
      "Событие: MainScreenAppear, p-значение: 0.29\n",
      "Статистическое различие между группами не подтвердилось, не можем отвегнуть нулевую гипотезу\n",
      "Событие: OffersScreenAppear, p-значение: 0.21\n",
      "Статистическое различие между группами не подтвердилось, не можем отвегнуть нулевую гипотезу\n",
      "Событие: CartScreenAppear, p-значение: 0.08\n",
      "Статистическое различие между группами не подтвердилось, не можем отвегнуть нулевую гипотезу\n",
      "Событие: PaymentScreenSuccessful, p-значение: 0.21\n",
      "Статистическое различие между группами не подтвердилось, не можем отвегнуть нулевую гипотезу\n"
     ]
    }
   ],
   "source": [
    "for event in total.index:\n",
    "    z_test(total['users_A1'][event],total['users_B'][event],\\\n",
    "                 total['total_users_A1'][event],total['total_users_B'][event])"
   ]
  },
  {
   "cell_type": "markdown",
   "id": "c4ced485",
   "metadata": {},
   "source": [
    "На заданном уровне значимости нельзя опровегнуть нулевую гипотезу, поэтому нельзя сказать, что есть статистически значимое отличие между группами А1 и В. "
   ]
  },
  {
   "cell_type": "code",
   "execution_count": 50,
   "id": "85f128c4",
   "metadata": {},
   "outputs": [
    {
     "name": "stdout",
     "output_type": "stream",
     "text": [
      "Событие: MainScreenAppear, p-значение: 0.46\n",
      "Статистическое различие между группами не подтвердилось, не можем отвегнуть нулевую гипотезу\n",
      "Событие: OffersScreenAppear, p-значение: 0.92\n",
      "Статистическое различие между группами не подтвердилось, не можем отвегнуть нулевую гипотезу\n",
      "Событие: CartScreenAppear, p-значение: 0.58\n",
      "Статистическое различие между группами не подтвердилось, не можем отвегнуть нулевую гипотезу\n",
      "Событие: PaymentScreenSuccessful, p-значение: 0.74\n",
      "Статистическое различие между группами не подтвердилось, не можем отвегнуть нулевую гипотезу\n"
     ]
    }
   ],
   "source": [
    "for event in total.index:\n",
    "    z_test(total['users_A2'][event],total['users_B'][event],\\\n",
    "                 total['total_users_A2'][event],total['total_users_B'][event])"
   ]
  },
  {
   "cell_type": "markdown",
   "id": "5fcda4b4",
   "metadata": {},
   "source": [
    "На заданном уровне значимости нельзя опровегнуть нулевую гипотезу, поэтому нельзя сказать, что есть статистически значимое отличие между группами А2 и В. "
   ]
  },
  {
   "cell_type": "code",
   "execution_count": 51,
   "id": "3f54aec2",
   "metadata": {},
   "outputs": [
    {
     "name": "stdout",
     "output_type": "stream",
     "text": [
      "Событие: MainScreenAppear, p-значение: 0.29\n",
      "Статистическое различие между группами не подтвердилось, не можем отвегнуть нулевую гипотезу\n",
      "Событие: OffersScreenAppear, p-значение: 0.43\n",
      "Статистическое различие между группами не подтвердилось, не можем отвегнуть нулевую гипотезу\n",
      "Событие: CartScreenAppear, p-значение: 0.18\n",
      "Статистическое различие между группами не подтвердилось, не можем отвегнуть нулевую гипотезу\n",
      "Событие: PaymentScreenSuccessful, p-значение: 0.60\n",
      "Статистическое различие между группами не подтвердилось, не можем отвегнуть нулевую гипотезу\n"
     ]
    }
   ],
   "source": [
    "for event in total.index:\n",
    "    z_test(total['A1+A2'][event],total['users_B'][event],\\\n",
    "                 total['A1+A2_total'][event],total['total_users_B'][event])"
   ]
  },
  {
   "cell_type": "markdown",
   "id": "c6246415",
   "metadata": {},
   "source": [
    "На заданном уровне значимости нельзя опровегнуть нулевую гипотезу, поэтому нельзя сказать, что есть статистически значимое отличие между объединенными группами (А1 + А2) и В. "
   ]
  },
  {
   "cell_type": "markdown",
   "id": "feff914a",
   "metadata": {},
   "source": [
    "**Какой уровень значимости вы выбрали при проверке статистических гипотез выше? Посчитайте, сколько проверок статистических гипотез вы сделали. При уровне значимости 0.1 каждый десятый раз можно получать ложный результат. Какой уровень значимости стоит применить? Если вы хотите изменить его, проделайте предыдущие пункты и проверьте свои выводы.**"
   ]
  },
  {
   "cell_type": "markdown",
   "id": "910484a9",
   "metadata": {},
   "source": [
    "Так как было 16 сравнений, то их количество могло повлиять на ошибку первого рода и вероятность ее возникновения. Чтобы появление ошибки первого рода снизилось, то уровень значимости тоже нужно снизить с помощью поправки Бонфирони alpha/16. "
   ]
  },
  {
   "cell_type": "markdown",
   "id": "2e57dd41",
   "metadata": {},
   "source": [
    "### Вывод по проведенному исследованию"
   ]
  },
  {
   "cell_type": "markdown",
   "id": "89d7bd90",
   "metadata": {},
   "source": [
    "Перед началом исследования данные были обработаны, удалены дубликаты, проверены на наличие пропусков.\\\n",
    "Дата исследования была определена с 1 по 8 августа и длительность исследования составила 1 неделя.\\\n",
    "Были определены 4 ключевых воронки Появление основного экрана, Оплата прошла успешно, Появление корзины на экране, Появление товара на экране. И не ключевое событие – Обучение, которое не было значимым фактом для исследования.\\\n",
    "В среднем каждый пользователь совершал 32 события, но медианное значение ниже – оно составило всего 20.\\\n",
    "Больше всего пользователей теряются в момент, когда после просмотра главного экрана нужно перейти к каталогу. А это значит – есть повод усовершенствовать данное взаимодействие!\\\n",
    "В процессе исследования были выделены 3 группы пользователей с приблизительно равными количествами событий, которые они совершали в приложении.\n",
    "\n",
    "Для корректности эксперимента сначала был проведен А/А тест, а только потом проведен А/В тест на сравнение экспериментальной группы В с группами А1 и А2.\\\n",
    "По итогу, статистически значимых различий между экспериментальной группой и проверочными группами не оказалось. Поэтому эксперимент стоит прекратить и сделать вывод о том, что введенные изменения никак не повлияли на пользователей и нужно использовать что-то другое\n"
   ]
  },
  {
   "cell_type": "markdown",
   "id": "ade2b05d",
   "metadata": {},
   "source": [
    " ### Советы"
   ]
  },
  {
   "cell_type": "markdown",
   "id": "3885097f",
   "metadata": {},
   "source": [
    "Нужно настроить главную страницу и слелать удобным переход в каталог. Для этого важно создать некоторый интерактив, чтобы привлечь пользователя в процесс совершения покупки, вызвать у него исследовательский интерес по дальнейшему изучению сайта и каталога. Привратить процесс покупки в интересное приключение для пользователя - важная задача.\n",
    "\n",
    "Также людей привлекают различные бонусы и скидки, поэтому на главной странице может быть размещена кнопка с выбором товара, на который можно выбрать скидку (например, после регистрации). Или если пользователь постоянный, то он может после какой-то суммы покупки выбирать товар для скидки или же, может быть игра, в которой для пользователя случайным образом выпадает любой товар из каталога, на который будет скидка.\n",
    "\n",
    "В общем, много всего! Покупатели любят бонусы, так они становятся лояльнее и больше проводят времени на сайте, а нам как раз важно их удержать после просмотра главной страницы."
   ]
  },
  {
   "cell_type": "code",
   "execution_count": null,
   "id": "4ea1a1f0",
   "metadata": {},
   "outputs": [],
   "source": []
  }
 ],
 "metadata": {
  "kernelspec": {
   "display_name": "Python 3 (ipykernel)",
   "language": "python",
   "name": "python3"
  },
  "language_info": {
   "codemirror_mode": {
    "name": "ipython",
    "version": 3
   },
   "file_extension": ".py",
   "mimetype": "text/x-python",
   "name": "python",
   "nbconvert_exporter": "python",
   "pygments_lexer": "ipython3",
   "version": "3.9.13"
  }
 },
 "nbformat": 4,
 "nbformat_minor": 5
}
